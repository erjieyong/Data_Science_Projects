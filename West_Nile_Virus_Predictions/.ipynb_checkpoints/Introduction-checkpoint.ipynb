{
 "cells": [
  {
   "cell_type": "markdown",
   "id": "b3070e7a-a59b-4a65-9f5a-d2ebaa6045e2",
   "metadata": {},
   "source": [
    "# Project 4 "
   ]
  },
  {
   "cell_type": "code",
   "execution_count": 1,
   "id": "1ae4ad27-da3a-44a8-bc6d-e2844e138f5d",
   "metadata": {},
   "outputs": [],
   "source": [
    "import pandas as pd\n",
    "import mlflow\n",
    "import sklearn\n",
    "import pycaret"
   ]
  }
 ],
 "metadata": {
  "kernelspec": {
   "display_name": "Python 3 (ipykernel)",
   "language": "python",
   "name": "python3"
  },
  "language_info": {
   "codemirror_mode": {
    "name": "ipython",
    "version": 3
   },
   "file_extension": ".py",
   "mimetype": "text/x-python",
   "name": "python",
   "nbconvert_exporter": "python",
   "pygments_lexer": "ipython3",
   "version": "3.8.13"
  }
 },
 "nbformat": 4,
 "nbformat_minor": 5
}
