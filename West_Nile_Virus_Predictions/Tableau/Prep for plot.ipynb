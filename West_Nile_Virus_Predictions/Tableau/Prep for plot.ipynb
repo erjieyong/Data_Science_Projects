{
 "cells": [
  {
   "cell_type": "code",
   "execution_count": 1,
   "id": "cebafba5-964b-4e84-8c45-2b4819c1d127",
   "metadata": {},
   "outputs": [],
   "source": [
    "import pandas as pd\n"
   ]
  },
  {
   "cell_type": "code",
   "execution_count": 2,
   "id": "7ae28078-2267-4463-9156-6647a9fee8d7",
   "metadata": {},
   "outputs": [],
   "source": [
    "data = pd.read_csv('combined.csv')"
   ]
  },
  {
   "cell_type": "code",
   "execution_count": 4,
   "id": "9e72982a-e4bc-45b1-bb0e-a5644730b57a",
   "metadata": {},
   "outputs": [
    {
     "name": "stdout",
     "output_type": "stream",
     "text": [
      "<class 'pandas.core.frame.DataFrame'>\n",
      "RangeIndex: 2412 entries, 0 to 2411\n",
      "Data columns (total 7 columns):\n",
      " #   Column      Non-Null Count  Dtype  \n",
      "---  ------      --------------  -----  \n",
      " 0   Unnamed: 0  2412 non-null   int64  \n",
      " 1   Year        2412 non-null   int64  \n",
      " 2   Month       2412 non-null   int64  \n",
      " 3   Trap        2412 non-null   object \n",
      " 4   Latitude    2412 non-null   float64\n",
      " 5   Longitude   2412 non-null   float64\n",
      " 6   WnvPresent  2412 non-null   int64  \n",
      "dtypes: float64(2), int64(4), object(1)\n",
      "memory usage: 132.0+ KB\n"
     ]
    }
   ],
   "source": [
    "data.info()"
   ]
  },
  {
   "cell_type": "markdown",
   "id": "8d94341c-d312-48f5-a198-d702385732bc",
   "metadata": {},
   "source": [
    "prep for 2008"
   ]
  },
  {
   "cell_type": "code",
   "execution_count": 32,
   "id": "8530b644-e2d8-4328-a844-e4c7ab892404",
   "metadata": {},
   "outputs": [],
   "source": [
    "data_2008 = data.loc[data['Year']==2008,:]\n",
    "data_200806 = data_2008.loc[data_2008['Month']==6,:]\n",
    "data_200807 = data_2008.loc[data_2008['Month']==7,:]\n",
    "data_200808=data_2008.loc[data_2008['Month']==8,:]\n",
    "data_200809=data_2008.loc[data_2008['Month']==9,:]"
   ]
  },
  {
   "cell_type": "code",
   "execution_count": 34,
   "id": "d1bcff62-f8f3-438e-89a7-127371c16b9b",
   "metadata": {},
   "outputs": [],
   "source": [
    "data_200806.to_csv('data_200806.csv', index=False)\n",
    "data_200807.to_csv('data_200807.csv',index=False)\n",
    "data_200808.to_csv('data_200808.csv',index=False)\n",
    "data_200809.to_csv('data_200809.csv',index=False)"
   ]
  },
  {
   "cell_type": "markdown",
   "id": "04acd5e4-0c38-46b7-b751-648c14b2a761",
   "metadata": {},
   "source": [
    "prep for 2010"
   ]
  },
  {
   "cell_type": "code",
   "execution_count": 9,
   "id": "1498f54d-165c-4a04-95c2-c48121cb0747",
   "metadata": {},
   "outputs": [],
   "source": [
    "data_2010 = data.loc[data['Year']==2010,:]\n",
    "data_201007 = data_2010.loc[data['Month']==7,:]\n",
    "data_201008=data_2010.loc[data_2010['Month']==8,:]\n",
    "data_201009=data_2010.loc[data_2010['Month']==9,:]\n",
    "data_201010=data_2010.loc[data_2010['Month']==10,:]"
   ]
  },
  {
   "cell_type": "code",
   "execution_count": 16,
   "id": "e6664c4c-487f-4bed-8fbb-b5c3960c3a52",
   "metadata": {},
   "outputs": [],
   "source": [
    "data_201007.to_csv('data_201007.csv',index=False)\n",
    "data_201008.to_csv('data_201008.csv',index=False)\n",
    "data_201009.to_csv('data_201009.csv',index=False)\n",
    "data_201010.to_csv('data_201010.csv',index=False)"
   ]
  },
  {
   "cell_type": "markdown",
   "id": "9b55966a-3e25-4964-a2ee-8229b08a71ad",
   "metadata": {},
   "source": [
    "prep for 2012"
   ]
  },
  {
   "cell_type": "code",
   "execution_count": 26,
   "id": "0d5eb71c-abac-47d4-9d56-43916451f2da",
   "metadata": {},
   "outputs": [],
   "source": [
    "data_2012 = data.loc[data['Year']==2012,:]\n",
    "data_201206=data_2012.loc[data['Month']==6,:]\n",
    "data_201207 = data_2012.loc[data['Month']==7,:]\n",
    "data_201208=data_2012.loc[data_2012['Month']==8,:]\n",
    "data_201209=data_2012.loc[data_2012['Month']==9,:]"
   ]
  },
  {
   "cell_type": "code",
   "execution_count": 19,
   "id": "552948cc-850e-4f43-a7c4-99ae4a234426",
   "metadata": {},
   "outputs": [],
   "source": [
    "data_201206.to_csv('data_201206.csv',index=False)\n",
    "data_201207.to_csv('data_201207.csv',index=False)\n",
    "data_201208.to_csv('data_201208.csv',index=False)\n",
    "data_201209.to_csv('data_201209.csv',index=False)"
   ]
  },
  {
   "cell_type": "markdown",
   "id": "de9ebc08-65c2-4a3c-8b8e-816eef3c81f2",
   "metadata": {},
   "source": [
    "prep for 2014"
   ]
  },
  {
   "cell_type": "code",
   "execution_count": 12,
   "id": "119b8294-dabe-4fb7-a103-d51a4b70a086",
   "metadata": {},
   "outputs": [],
   "source": [
    "data_2014=data.loc[data['Year']==2014,:]"
   ]
  },
  {
   "cell_type": "code",
   "execution_count": 13,
   "id": "9bdb27b6-2c27-458a-97c9-104048b55256",
   "metadata": {},
   "outputs": [],
   "source": [
    "data_201406=data_2014.loc[data_2014['Month']==6,:]\n",
    "data_201407=data_2014.loc[data_2014['Month']==7,:]\n",
    "data_201408=data_2014.loc[data_2014['Month']==8,:]\n",
    "data_201409=data_2014.loc[data_2014['Month']==9,:]\n",
    "data_201410=data_2014.loc[data_2014['Month']==10,:]"
   ]
  },
  {
   "cell_type": "code",
   "execution_count": 21,
   "id": "ab00dc92-b25a-4513-bf2e-693751024e03",
   "metadata": {},
   "outputs": [],
   "source": [
    "data_201406.to_csv('data_201406.csv',index=False)\n",
    "data_201407.to_csv('data_201407.csv',index=False)\n",
    "data_201408.to_csv('data_201408.csv',index=False)\n",
    "data_201409.to_csv('data_201409.csv',index=False)\n",
    "data_201410.to_csv('data_201410.csv',index=False)"
   ]
  },
  {
   "cell_type": "markdown",
   "id": "966abf01-15e6-4696-84ec-c551a1faad7c",
   "metadata": {},
   "source": [
    "Tableau link available at: [Link](https://public.tableau.com/app/profile/m.alexander8473/viz/WNV_16660866134960/Story1)"
   ]
  },
  {
   "cell_type": "code",
   "execution_count": null,
   "id": "b7492638-032d-415f-ba34-ae308ba8c03c",
   "metadata": {},
   "outputs": [],
   "source": []
  }
 ],
 "metadata": {
  "kernelspec": {
   "display_name": "Python 3 (ipykernel)",
   "language": "python",
   "name": "python3"
  },
  "language_info": {
   "codemirror_mode": {
    "name": "ipython",
    "version": 3
   },
   "file_extension": ".py",
   "mimetype": "text/x-python",
   "name": "python",
   "nbconvert_exporter": "python",
   "pygments_lexer": "ipython3",
   "version": "3.8.13"
  }
 },
 "nbformat": 4,
 "nbformat_minor": 5
}
