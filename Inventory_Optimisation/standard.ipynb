{
 "cells": [
  {
   "cell_type": "markdown",
   "metadata": {},
   "source": [
    "# Import function and data"
   ]
  },
  {
   "cell_type": "code",
   "execution_count": null,
   "metadata": {},
   "outputs": [],
   "source": [
    "import pandas as pd\n",
    "import scipy.stats as st\n",
    "import numpy as np"
   ]
  },
  {
   "cell_type": "code",
   "execution_count": null,
   "metadata": {},
   "outputs": [],
   "source": [
    "df_catb = pd.read_excel(\"confidential/CAT B_combined.xlsx\")\n",
    "df_transport = pd.read_excel(\"confidential/Transportation Matrix .xlsx\")\n",
    "df_console = pd.read_excel(\"confidential/SERANGOON - LognetOnHandInventoryLoc3lv.xlsx\")"
   ]
  },
  {
   "cell_type": "markdown",
   "metadata": {},
   "source": [
    "# Assumptions and Custom Functions"
   ]
  },
  {
   "cell_type": "code",
   "execution_count": null,
   "metadata": {},
   "outputs": [],
   "source": [
    "# For console hub\n",
    "# Assume that the shipped qty is the summation of all hubs shipped qty\n",
    "# However, in real life situation, this would be different as hubs should order based on eoq and rop of different time period"
   ]
  },
  {
   "cell_type": "code",
   "execution_count": null,
   "metadata": {},
   "outputs": [],
   "source": [
    "# Assumptions for safety stock calculation\n",
    "# All time units to be in months unless otherwise stated\n",
    "service_level_catb = 0.90\n",
    "demand_standard_deviation_percentage = 0.1\n",
    "leadtime_standard_deviation_percentage = 0.1\n",
    "average_days_per_month = 30.437"
   ]
  },
  {
   "cell_type": "code",
   "execution_count": null,
   "metadata": {},
   "outputs": [],
   "source": [
    "# Assumption for economic quantity calculation\n",
    "# - Assume no shortages of stocks is allowed\n",
    "# - Assume no discount for bulk discount of stocks\n",
    "# - for shipping cost refer to following cell\n",
    "# Assume all holding cost to be the same (regardless of size)\n",
    "holding_cost_per_unit_year = 12"
   ]
  },
  {
   "cell_type": "code",
   "execution_count": null,
   "metadata": {},
   "outputs": [],
   "source": [
    "def calc_safety_stock(service_level, lead_time_mean, lead_time_sd, demand_mean, demand_sd):\n",
    "    # assume that demand and leadtime are independent\n",
    "    z_score = st.norm.ppf(service_level)\n",
    "    safety_stock = z_score * ((demand_mean* (lead_time_sd/average_days_per_month))**2 + ((lead_time_mean/average_days_per_month) * demand_sd**2))**0.5\n",
    "    return round(safety_stock, 0)"
   ]
  },
  {
   "cell_type": "code",
   "execution_count": null,
   "metadata": {},
   "outputs": [],
   "source": [
    "calc_safety_stock(0.9, 35, 4.35, 1000,141.4)"
   ]
  },
  {
   "cell_type": "code",
   "execution_count": null,
   "metadata": {},
   "outputs": [],
   "source": [
    "def calc_eoq(shipping_cost, demand_mean, holding_cost_per_unit_year):\n",
    "    eoq = ((2*shipping_cost*demand_mean*12)/holding_cost_per_unit_year)**0.5\n",
    "    return round(eoq, 0)"
   ]
  },
  {
   "cell_type": "code",
   "execution_count": null,
   "metadata": {},
   "outputs": [],
   "source": [
    "def calc_rop(safety_stock, demand_mean, lead_time_mean):\n",
    "    rop = safety_stock + demand_mean * lead_time_mean / average_days_per_month\n",
    "    return round(rop, 0)"
   ]
  },
  {
   "cell_type": "code",
   "execution_count": null,
   "metadata": {},
   "outputs": [],
   "source": [
    "def calc_days_to_rop(current_stock, rop, avg_demand, days_per_mnth, min = 0):\n",
    "  # first if statement to deal with division by zero error\n",
    "  if avg_demand == 0:\n",
    "    return 0\n",
    "  else:\n",
    "    # we have to consider cases where some current stock is already lesser than the rop\n",
    "    # this will cause the numerator to be negative, hence we will put a max 0 to deal with negative cases\n",
    "    days_to_rop = max(0, (current_stock - rop) / (avg_demand / days_per_mnth))\n",
    "    return days_to_rop"
   ]
  },
  {
   "cell_type": "code",
   "execution_count": null,
   "metadata": {},
   "outputs": [],
   "source": [
    "def pos_neg_nan(val):\n",
    "  if np.isnan(val):\n",
    "    return np.nan\n",
    "  elif val > 0:\n",
    "    return True\n",
    "  elif val <= 0:\n",
    "    return False"
   ]
  },
  {
   "cell_type": "code",
   "execution_count": null,
   "metadata": {},
   "outputs": [],
   "source": [
    "def recommend_transport_mode(hub, sku, df):\n",
    "  target_rows = df[[\"hub\",\"sku\",\"mode\",\"handling_cost\", \"leadtime_days\", 'days_to_rop']][(df[\"hub\"]==hub)&(df[\"sku\"]==sku)].index\n",
    "  # if any of the days_to_rop is more than 0, we will take the one that is the lowest handling cost\n",
    "  if any(df.loc[target_rows, \"days_to_rop\"]>0):\n",
    "    temp_df = df[[\"mode\",\"handling_cost\"]][(df[\"hub\"]==hub)&(df[\"sku\"]==sku)&(df[\"days_to_rop\"]>0)]\n",
    "    recommended_mode = temp_df[\"mode\"][temp_df[\"handling_cost\"] == temp_df[\"handling_cost\"].min()].iloc[0]\n",
    "\n",
    "  # if all the days_to_rop is 0, it means we are already behind time, hence, we take the fastest leadtime, ignoring cost\n",
    "  elif all(df.loc[target_rows, \"days_to_rop\"]) == 0:\n",
    "    temp_df = df[[\"mode\",\"leadtime_days\"]][(df[\"hub\"]==hub)&(df[\"sku\"]==sku)&(df[\"leadtime_days\"]>0)]\n",
    "    recommended_mode = temp_df[\"mode\"][temp_df[\"leadtime_days\"] == temp_df[\"leadtime_days\"].min()].iloc[0]\n",
    "  return recommended_mode"
   ]
  },
  {
   "attachments": {},
   "cell_type": "markdown",
   "metadata": {},
   "source": [
    "# Clean and prepare Transport DF (New matrix)\n",
    "Nex matrix split up 1st leg and 2nd leg and put 1st leg as it's own row under console hub"
   ]
  },
  {
   "cell_type": "code",
   "execution_count": null,
   "metadata": {},
   "outputs": [],
   "source": [
    "df_transport"
   ]
  },
  {
   "cell_type": "code",
   "execution_count": null,
   "metadata": {},
   "outputs": [],
   "source": [
    "df_transport['leadtime_days_sd'] = df_transport['leadtime_days']*leadtime_standard_deviation_percentage\n"
   ]
  },
  {
   "attachments": {},
   "cell_type": "markdown",
   "metadata": {},
   "source": [
    "# Clean and prepare catb DF"
   ]
  },
  {
   "cell_type": "code",
   "execution_count": null,
   "metadata": {},
   "outputs": [],
   "source": [
    "df_catb.info()"
   ]
  },
  {
   "cell_type": "code",
   "execution_count": null,
   "metadata": {},
   "outputs": [],
   "source": [
    "# given that the avg_shipped_qty is not a simple divide by the same 6 months throught such as for all CHANGI hub\n",
    "# we cannot make assumption and thus fillna to be all 0\n",
    "df_catb = df_catb.fillna(0)"
   ]
  },
  {
   "cell_type": "code",
   "execution_count": null,
   "metadata": {},
   "outputs": [],
   "source": [
    "# Assuming sd of demand is 10% of average \n",
    "df_catb['sd_shipped_qty'] = df_catb['avg_shipped_qty']*demand_standard_deviation_percentage\n",
    "df_catb"
   ]
  },
  {
   "cell_type": "code",
   "execution_count": null,
   "metadata": {},
   "outputs": [],
   "source": [
    "df_catb.info()"
   ]
  },
  {
   "attachments": {},
   "cell_type": "markdown",
   "metadata": {},
   "source": [
    "## Clean and prepare Transport DF (OLD matrix)"
   ]
  },
  {
   "cell_type": "code",
   "execution_count": null,
   "metadata": {},
   "outputs": [],
   "source": [
    "# # Rename column name\n",
    "# df_transport.columns = ['mode', 'hub', '1leg_days', '2leg_days', 'hub_days','total_days']\n",
    "# # df_transport"
   ]
  },
  {
   "cell_type": "code",
   "execution_count": null,
   "metadata": {},
   "outputs": [],
   "source": [
    "# df_transport['2leg+hub_cost'] = [14000,30000,14000,14000,18000,35000,18000,18000,20000,40000,20000,20000] "
   ]
  },
  {
   "cell_type": "code",
   "execution_count": null,
   "metadata": {},
   "outputs": [],
   "source": [
    "# df_transport"
   ]
  },
  {
   "cell_type": "code",
   "execution_count": null,
   "metadata": {},
   "outputs": [],
   "source": [
    "# # Add in mode for SERANGOON hub\n",
    "# df_transport_SERANGOON = pd.DataFrame({\n",
    "#     'mode':['Air-Ocean','Air-Air', 'Ocean-Ocean', 'Land-Ocean'],\n",
    "#     'hub':['SERANGOON', 'SERANGOON', 'SERANGOON', 'SERANGOON'],\n",
    "#     '1leg_days':[6,6,15,5]\n",
    "#     })\n",
    "# df_transport_SERANGOON['2leg_days'] = 0\n",
    "# df_transport_SERANGOON['hub_days'] = 0\n",
    "# df_transport_SERANGOON['total_days'] = 0\n",
    "# df_transport_SERANGOON['2leg+hub_cost'] = 0\n",
    "# # df_transport_SERANGOON"
   ]
  },
  {
   "cell_type": "code",
   "execution_count": null,
   "metadata": {},
   "outputs": [],
   "source": [
    "# # Concat SERANGOON transport to the rest\n",
    "# df_transport = pd.concat([df_transport, df_transport_SERANGOON])\n",
    "# # df_transport"
   ]
  },
  {
   "cell_type": "code",
   "execution_count": null,
   "metadata": {},
   "outputs": [],
   "source": [
    "# # calculate 2nd leg + hub days and standard deviation for that\n",
    "# df_transport['leadtime_days'] = df_transport['2leg_days'] + df_transport['hub_days']\n",
    "# df_transport['leadtime_days_sd'] = df_transport['leadtime_days']*leadtime_standard_deviation_percentage\n",
    "# # df_transport"
   ]
  },
  {
   "cell_type": "markdown",
   "metadata": {},
   "source": [
    "## Prepare Lat, Lng data for different hub"
   ]
  },
  {
   "cell_type": "code",
   "execution_count": null,
   "metadata": {},
   "outputs": [],
   "source": [
    "df_cood = pd.DataFrame({\n",
    "  \"hub\":[\"CHANGI\",\"DHOBY\",\"SHENTON\", \"SERANGOON\", \"CONSOLE\"],\n",
    "  \"lat\":[39.0508, 53.4264, 40.758701, 1.3521, 1.3521],\n",
    "  \"lng\":[-84.6673, -6.244733, -111.876183, 105.6, 102.1],\n",
    "  \"color\":[0,0,0,0,-165] # color used to change the get_fill_color of the pydeck graph in streamlit later\n",
    "})\n",
    "df_cood"
   ]
  },
  {
   "attachments": {},
   "cell_type": "markdown",
   "metadata": {},
   "source": [
    "## Prepare console hub df"
   ]
  },
  {
   "cell_type": "code",
   "execution_count": null,
   "metadata": {},
   "outputs": [],
   "source": [
    "df_console = df_console[[\"Sku\",\"Qty\\nAvailable\"]].groupby(\"Sku\").sum(\"Qty\\nAvailable\")\n",
    "df_console\n"
   ]
  },
  {
   "cell_type": "code",
   "execution_count": null,
   "metadata": {},
   "outputs": [],
   "source": [
    "df_console_new = df_catb.drop_duplicates(subset=['sku']).copy() #get unique sku and retain all other columns\n",
    "df_console_new.reset_index(drop=True, inplace=True)\n",
    "df_console_new['hub']=\"CONSOLE\"\n",
    "df_console_new.head()"
   ]
  },
  {
   "cell_type": "code",
   "execution_count": null,
   "metadata": {},
   "outputs": [],
   "source": [
    "df_console_new = df_console_new.merge(df_console, how=\"left\", left_on=\"sku\" ,right_on=\"Sku\")\n",
    "df_console_new[\"current_stock\"] = df_console_new[\"Qty\\nAvailable\"]\n",
    "df_console_new.drop([\"Qty\\nAvailable\"], axis=1, inplace=True)\n",
    "df_console_new[\"current_stock\"].fillna(0, inplace=True)\n",
    "df_console_new.head()"
   ]
  },
  {
   "cell_type": "code",
   "execution_count": null,
   "metadata": {},
   "outputs": [],
   "source": [
    "df_catb_groupsku = df_catb[[\"sku\",\"shipped_qty\"]].groupby(\"sku\").sum(\"shipped_qty\")\n",
    "df_catb_groupsku.columns  = [\"shipped_qty_old\"]\n",
    "\n",
    "df_console_new = df_console_new.merge(df_catb_groupsku, how=\"left\", on=\"sku\")\n",
    "df_console_new[\"shipped_qty\"] = df_console_new[\"shipped_qty_old\"]\n",
    "df_console_new.drop([\"shipped_qty_old\"], axis=1, inplace=True)\n",
    "df_console_new.head()"
   ]
  },
  {
   "cell_type": "code",
   "execution_count": null,
   "metadata": {},
   "outputs": [],
   "source": [
    "df_console_new[\"avg_shipped_qty\"] = df_console_new[\"shipped_qty\"]/6\n",
    "df_console_new[\"stock_month\"] = df_console_new[\"current_stock\"]/df_console_new[\"avg_shipped_qty\"]\n",
    "df_console_new[\"stock_turn\"] = df_console_new[\"avg_shipped_qty\"]*12/df_console_new[\"current_stock\"]\n",
    "df_console_new.head()\n"
   ]
  },
  {
   "attachments": {},
   "cell_type": "markdown",
   "metadata": {},
   "source": [
    "## Merge all 4 df together\n",
    "- catb data for all hubs\n",
    "- catb data for console hub\n",
    "- transport matrix \n",
    "- coordinates"
   ]
  },
  {
   "cell_type": "code",
   "execution_count": null,
   "metadata": {},
   "outputs": [],
   "source": [
    "df_combined = pd.concat([df_catb, df_console_new])\n",
    "df_combined"
   ]
  },
  {
   "cell_type": "code",
   "execution_count": null,
   "metadata": {},
   "outputs": [],
   "source": [
    "df_combined = df_combined.merge(df_transport, on='hub')\n",
    "df_combined['service_level'] = service_level_catb\n",
    "df_combined['holding_cost_per_unit_year'] = holding_cost_per_unit_year\n",
    "# df_combined"
   ]
  },
  {
   "cell_type": "code",
   "execution_count": null,
   "metadata": {},
   "outputs": [],
   "source": [
    "df_combined = df_combined.merge(df_cood, how=\"left\", on=\"hub\")"
   ]
  },
  {
   "attachments": {},
   "cell_type": "markdown",
   "metadata": {},
   "source": [
    "# Calculate safety stock, reorder point, reorder date and economic order quantity\n",
    "- for each cat_b sku\n",
    "- for each hub"
   ]
  },
  {
   "cell_type": "code",
   "execution_count": null,
   "metadata": {},
   "outputs": [],
   "source": [
    "df_combined['safety_stock'] = 0\n",
    "df_combined['eoq'] = 0\n",
    "df_combined['rop'] = 0\n",
    "df_combined[\"days_to_rop\"] = 0\n",
    "for row in range(len(df_combined)):\n",
    "    df_combined.loc[row, 'safety_stock'] = calc_safety_stock(df_combined.loc[row, 'service_level'], df_combined.loc[row, 'leadtime_days'], df_combined.loc[row, 'leadtime_days_sd'], df_combined.loc[row, 'avg_shipped_qty'], df_combined.loc[row, 'sd_shipped_qty'])\n",
    "    df_combined.loc[row, 'eoq'] = calc_eoq(df_combined.loc[row, 'handling_cost'], df_combined.loc[row, 'avg_shipped_qty'], df_combined.loc[row, 'holding_cost_per_unit_year'])\n",
    "    df_combined.loc[row, 'rop'] = calc_rop(df_combined.loc[row, 'safety_stock'], df_combined.loc[row, 'avg_shipped_qty'], df_combined.loc[row, 'leadtime_days'])\n",
    "    df_combined.loc[row, 'days_to_rop'] = calc_days_to_rop(df_combined.loc[row, \"current_stock\"], df_combined.loc[row, \"rop\"], df_combined.loc[row, \"avg_shipped_qty\"], average_days_per_month)"
   ]
  },
  {
   "cell_type": "code",
   "execution_count": null,
   "metadata": {},
   "outputs": [],
   "source": [
    "# we cannot do this together in the previous loop cell because we are depending on the rop_date that is generated for subsequent rows as well.\n",
    "# Example for row 146, we are comparing cell value in row 147 and 148 as well.\n",
    "# Hence, we must wait for the rop date to be all calculated finish first before running the recommend_transport_mode function\n",
    "df_combined[\"recommended_mode\"] = None\n",
    "for row in range(len(df_combined)):\n",
    "    df_combined.loc[row, 'recommended_mode'] = recommend_transport_mode(df_combined.loc[row,\"hub\"], df_combined.loc[row,\"sku\"], df_combined)"
   ]
  },
  {
   "cell_type": "code",
   "execution_count": null,
   "metadata": {},
   "outputs": [],
   "source": [
    "df_combined[\"rop_date\"] = df_combined[\"days_to_rop\"].apply(lambda x: np.nan if np.isnan(x) else (pd.to_datetime('today').normalize() + pd.Timedelta(days=int(x))))"
   ]
  },
  {
   "cell_type": "code",
   "execution_count": null,
   "metadata": {},
   "outputs": [],
   "source": [
    "# we do the following in case rop is higher than eoq. if that happens, then we order multiple times of eoq\n",
    "df_combined[\"actual_eoq\"] = df_combined['rop']/df_combined['eoq']\n",
    "df_combined[\"actual_eoq\"] = df_combined[\"actual_eoq\"].apply(np.ceil)\n",
    "df_combined[\"actual_eoq\"] = df_combined[\"actual_eoq\"] * df_combined['eoq']\n",
    "df_combined[\"actual_eoq\"]"
   ]
  },
  {
   "cell_type": "code",
   "execution_count": null,
   "metadata": {},
   "outputs": [],
   "source": [
    "# to calculate how much stocks (actual_eoq) would be pulled from console hub by considering\n",
    "# - ROP date within the next 90 days\n",
    "# - different transport mode\n",
    "date_90days_later = pd.to_datetime('today').normalize() + pd.Timedelta(days=90)\n",
    "df_expected_pull = df_combined[[\"sku\", \"mode\", \"actual_eoq\"]][(df_combined[\"hub\"]!=\"CONSOLE\") & (df_combined[\"rop_date\"] < date_90days_later)].groupby([\"sku\", \"mode\"]).sum(\"actual_eoq\").reset_index()\n",
    "df_expected_pull.columns = [\"sku\",\"mode\",\"expected_pull_next_90d\"]\n",
    "df_combined = df_combined.merge(df_expected_pull, how=\"left\", on=[\"sku\",\"mode\"])"
   ]
  },
  {
   "cell_type": "code",
   "execution_count": null,
   "metadata": {},
   "outputs": [],
   "source": [
    "# Determine if there's enough stocks in console hub to supply other hubs' pull by considering\n",
    "# - if the expected pull qty is more than current stock in console hub\n",
    "df_combined[\"console_support\"] = df_combined[\"current_stock\"] - df_combined[\"expected_pull_next_90d\"]\n",
    "df_combined[\"console_support\"] = df_combined[\"console_support\"].apply(pos_neg_nan)\n",
    "df_combined[\"console_support\"]"
   ]
  },
  {
   "cell_type": "code",
   "execution_count": null,
   "metadata": {},
   "outputs": [],
   "source": [
    "df_combined.to_csv('df_combined.csv',index=False)"
   ]
  },
  {
   "cell_type": "code",
   "execution_count": null,
   "metadata": {},
   "outputs": [],
   "source": [
    "df_combined.loc[df_combined[(df_combined[\"hub\"]==\"CONSOLE\")&(df_combined[\"sku\"]==\"201-000909\")].index, \"recommended_mode\"]"
   ]
  },
  {
   "cell_type": "markdown",
   "metadata": {},
   "source": [
    "# Deployment on streamlit"
   ]
  },
  {
   "cell_type": "code",
   "execution_count": 6,
   "metadata": {},
   "outputs": [
    {
     "name": "stdout",
     "output_type": "stream",
     "text": [
      "Overwriting 🗺️Dashboard.py\n"
     ]
    }
   ],
   "source": [
    "%%writefile 🗺️Dashboard.py\n",
    "import streamlit as st\n",
    "import pandas as pd\n",
    "\n",
    "#########################\n",
    "## STREAMLIT STRUCTURE ##\n",
    "#########################\n",
    "\n",
    "st.set_page_config(layout=\"wide\")\n",
    "\n",
    "# Title of the page\n",
    "st.title(\"Dashboard\")\n",
    "st.write(\"Summary of SKUs where stock days are limited and reorder date is near\")\n",
    "\n",
    "\n",
    "\n",
    "###############\n",
    "## FUNCTIONS ##\n",
    "###############\n",
    "average_days_per_month = 30.437\n",
    "\n",
    "\n",
    "# we need the following so that streamlit will only run the following once\n",
    "# in this case, it will cache our df and not rerun it everytime we change something on the app\n",
    "# https://discuss.streamlit.io/t/not-to-run-entire-script-when-a-widget-value-is-changed/502/5\n",
    "@st.experimental_memo\n",
    "def read_df_combined():\n",
    "    df_combined = pd.read_csv('https://generalassemblydsi32.s3.ap-southeast-1.amazonaws.com/ABC_Analysis-221125/df_combined_sanitised.csv')\n",
    "    # df_combined = pd.read_csv(\"df_combined.csv\")\n",
    "    df_combined[\"stock_month_2dp\"] = df_combined[\"stock_month\"].round(2)\n",
    "    df_combined[\"stock_days_2dp\"] = (df_combined[\"stock_month\"]*average_days_per_month).round(2)\n",
    "    df_combined[\"current_stock_formatted\"] = df_combined[\"current_stock\"].apply(lambda d: f\"{int(d):,}\")\n",
    "    df_combined[\"avg_shipped_qty_2dp\"] = df_combined[\"avg_shipped_qty\"].round(2)\n",
    "    st.session_state.df = df_combined\n",
    "    return df_combined\n",
    "\n",
    "\n",
    "\n",
    "if \"df\" not in st.session_state:\n",
    "    st.session_state.df = read_df_combined()\n",
    "read_df_combined()\n",
    "\n",
    "\n",
    "def display_stock_warn_reorder(hub):\n",
    "    stock_days_keys = \"stock_days\"+hub\n",
    "    reorder_days_keys = \"reorder_days\"+hub\n",
    "\n",
    "    # Stock Warning\n",
    "    st.subheader(f\"Stock Warning for {hub}\")\n",
    "    st.caption(\"Display stocks where remaining stock days is less than specified\")\n",
    "    st.slider(\"Stock Warning\", 1, 90, 30, label_visibility = \"collapsed\", help = \"Specify the stock days to filter\", key = stock_days_keys)\n",
    "    df_stock_warning = st.session_state.df[[\"sku\",\"current_stock_formatted\",\"avg_shipped_qty_2dp\", \"stock_days_2dp\"]][(st.session_state.df[\"hub\"]==hub) & (st.session_state.df[\"stock_days_2dp\"] <= st.session_state[stock_days_keys])].groupby(\"sku\").min().reset_index()\n",
    "    df_stock_warning.columns = [\"SKU\",\"Stocks on hand\", \"Average monthly demand\", \"Stock days\"]\n",
    "    st.dataframe(df_stock_warning, use_container_width = True)\n",
    "\n",
    "    # Reorder stocks. For CONSOLE hub only, remove the column \"console_support\"\n",
    "    if hub == \"CONSOLE\":\n",
    "        st.subheader(f\"Upcoming Reorder for {hub}\")\n",
    "        st.caption(\"Display stocks where the reorder date is within the specified time period\")\n",
    "        st.caption(\"Recommended transport mode would always be based on the lowest estimated handling cost. If we have reorder date is marked as 0 (meaning we have already pass the optimum reorder date), recommended transport mode would be based on the shortest lead time\")\n",
    "        st.slider(\"Stock Warning\", 1, 90, 30, label_visibility = \"collapsed\", help = \"Specify the time period to filter upcoming reorder point\", key = reorder_days_keys)\n",
    "        df_reorder = st.session_state.df[[\"sku\",\"current_stock_formatted\", \"avg_shipped_qty_2dp\", \"stock_days_2dp\", \"rop_date\", \"recommended_mode\"]][(st.session_state.df[\"hub\"]==hub) & (st.session_state.df[\"days_to_rop\"] <= st.session_state[reorder_days_keys])].groupby(\"sku\").min().reset_index()\n",
    "        df_reorder.columns = [\"SKU\",\"Stocks on hand\", \"Average monthly demand\", \"Stock days\", \"Reorder Date\", \"Recommended Transport Mode\"]\n",
    "        st.dataframe(df_reorder, use_container_width = True)\n",
    "    else:\n",
    "        st.subheader(f\"Upcoming Reorder for {hub}\")\n",
    "        st.caption(\"Display stocks where the reorder date is within the specified time period\")\n",
    "        st.caption(\"Recommended transport mode would always be based on the lowest estimated handling cost. If we have reorder date is marked as 0 (meaning we have already pass the optimum reorder date), recommended transport mode would be based on the shortest lead time\")\n",
    "        st.slider(\"Stock Warning\", 1, 90, 30, label_visibility = \"collapsed\", help = \"Specify the time period to filter upcoming reorder point\", key = reorder_days_keys)\n",
    "        df_reorder = st.session_state.df[[\"sku\",\"current_stock_formatted\", \"avg_shipped_qty_2dp\", \"stock_days_2dp\", \"rop_date\", \"recommended_mode\", \"console_support\"]][(st.session_state.df[\"hub\"]==hub) & (st.session_state.df[\"days_to_rop\"] <= st.session_state[reorder_days_keys])].groupby(\"sku\").min().reset_index()\n",
    "        df_reorder.columns = [\"SKU\",\"Stocks on hand\", \"Average monthly demand\", \"Stock days\", \"Reorder Date\", \"Recommended Transport Mode\", \"Support from Console Hub\"]\n",
    "        st.dataframe(df_reorder, use_container_width = True)        \n",
    "\n",
    "\n",
    "###############\n",
    "## STREAMLIT ##\n",
    "###############\n",
    "console_tab, CHANGI_tab, DHOBY_tab, SERANGOON_tab, SHENTON_tab = st.tabs([\"CONSOLE\", \"CHANGI\", \"DHOBY\", \"SERANGOON\", \"SHENTON\"])\n",
    "\n",
    "with console_tab:\n",
    "    display_stock_warn_reorder(\"CONSOLE\")\n",
    "\n",
    "with CHANGI_tab:\n",
    "    display_stock_warn_reorder(\"CHANGI\")\n",
    "\n",
    "with DHOBY_tab:\n",
    "    display_stock_warn_reorder(\"DHOBY\")\n",
    "\n",
    "with SERANGOON_tab:\n",
    "    display_stock_warn_reorder(\"SERANGOON\")\n",
    "    \n",
    "with SHENTON_tab:\n",
    "    display_stock_warn_reorder(\"SHENTON\")"
   ]
  },
  {
   "cell_type": "code",
   "execution_count": 7,
   "metadata": {},
   "outputs": [
    {
     "name": "stdout",
     "output_type": "stream",
     "text": [
      "Overwriting pages/1_📈Detailed_Analysis.py\n"
     ]
    }
   ],
   "source": [
    "%%writefile pages/1_📈Detailed_Analysis.py\n",
    "import streamlit as st\n",
    "import pandas as pd\n",
    "import scipy.stats as stats\n",
    "import plotly.express as px\n",
    "from datetime import datetime\n",
    "import pydeck as pdk\n",
    "import numpy as np\n",
    "\n",
    "#########################\n",
    "## STREAMLIT STRUCTURE ##\n",
    "#########################\n",
    "\n",
    "st.set_page_config(layout=\"wide\")\n",
    "\n",
    "# Title of the page\n",
    "st.title(\"Safety stock, EOQ, ROP Recommender\")\n",
    "st.write(\"Recommend safety stock, economic order quantity (EOQ), reorder point (ROP) based on established supply chain algorithm. Assumptions made that demand and lead time are independent variables\")\n",
    "\n",
    "# Create placement containers in sequence\n",
    "stats_col1, stats_col2, stats_col3 = st.columns(3)\n",
    "\n",
    "\n",
    "###############\n",
    "## FUNCTIONS ##\n",
    "###############\n",
    "\n",
    "average_days_per_month = 30.437\n",
    "\n",
    "# we need the following so that streamlit will only run the following once\n",
    "# in this case, it will cache our df and not rerun it everytime we change something on the app\n",
    "# https://discuss.streamlit.io/t/not-to-run-entire-script-when-a-widget-value-is-changed/502/5\n",
    "@st.experimental_memo\n",
    "def read_df_combined():\n",
    "    df_combined = pd.read_csv('https://generalassemblydsi32.s3.ap-southeast-1.amazonaws.com/ABC_Analysis-221125/df_combined_sanitised.csv')\n",
    "    # df_combined = pd.read_csv(\"df_combined.csv\")\n",
    "    df_combined[\"stock_month_2dp\"] = df_combined[\"stock_month\"].round(2)\n",
    "    df_combined[\"stock_days_2dp\"] = (df_combined[\"stock_month\"]*average_days_per_month).round(2)\n",
    "    df_combined[\"current_stock_formatted\"] = df_combined[\"current_stock\"].apply(lambda d: f\"{int(d):,}\")\n",
    "    df_combined[\"avg_shipped_qty_2dp\"] = df_combined[\"avg_shipped_qty\"].round(2)\n",
    "    st.session_state.df = df_combined\n",
    "    return df_combined\n",
    "\n",
    "\n",
    "\n",
    "if \"df\" not in st.session_state:\n",
    "    st.session_state.df = read_df_combined()\n",
    "\n",
    "   \n",
    "# Function to get and display preset values in data_form based on historical data\n",
    "def preset(hub, sku, mode):\n",
    "    try:\n",
    "        target_row_no = st.session_state.df[(st.session_state.df['hub']==st.session_state.hub) & (st.session_state.df['sku'] == st.session_state.sku) & (st.session_state.df['mode'] == st.session_state.mode)].index[0]\n",
    "        \n",
    "        preset_service_level = st.session_state.df.loc[target_row_no, 'service_level']*100\n",
    "        preset_demand_mean = st.session_state.df.loc[target_row_no, 'avg_shipped_qty']\n",
    "        preset_demand_sd = st.session_state.df.loc[target_row_no, 'sd_shipped_qty']\n",
    "        preset_leadtime_mean = st.session_state.df.loc[target_row_no, 'leadtime_days']\n",
    "        preset_leadtime_sd = st.session_state.df.loc[target_row_no, 'leadtime_days_sd']\n",
    "        preset_holding_cost_per_unit_per_month = st.session_state.df.loc[target_row_no, 'holding_cost_per_unit_year']/12\n",
    "        preset_handling_cost = st.session_state.df.loc[target_row_no, 'handling_cost']\n",
    "        preset_today_inventory = st.session_state.df.loc[target_row_no, 'current_stock']\n",
    "\n",
    "\n",
    "        st.session_state.service_level = preset_service_level\n",
    "        st.session_state.demand_mean = round(preset_demand_mean,2)\n",
    "        st.session_state.demand_sd = round(preset_demand_sd,2)\n",
    "        st.session_state.leadtime_mean = round(preset_leadtime_mean,2)\n",
    "        st.session_state.leadtime_sd = round(preset_leadtime_sd,2)\n",
    "        st.session_state.holding_cost_per_unit_per_month = round(preset_holding_cost_per_unit_per_month,2)\n",
    "        st.session_state.handling_cost = round(preset_handling_cost,2)\n",
    "        st.session_state.today_inventory = round(preset_today_inventory,2)\n",
    "\n",
    "        st.session_state.preset = True\n",
    "\n",
    "        safety_stock = st.session_state.df.loc[target_row_no, 'safety_stock']\n",
    "        eoq = st.session_state.df.loc[target_row_no, 'eoq']\n",
    "        rop = st.session_state.df.loc[target_row_no, 'rop']\n",
    "        # display result in 3 col metrics\n",
    "        result_col1.metric(\"Safety Stock\", f\"{safety_stock:,}\")\n",
    "        result_col2.metric(\"Economic Order Quantiy\", f\"{eoq:,}\")\n",
    "        result_col3.metric(\"Reorder Point\", f\"{rop:,}\")\n",
    "\n",
    "        # Display re-order date\n",
    "        with result_container:\n",
    "            # get target row for the chosen SKU and transport mode in CONSOLE HUB\n",
    "            target_row_no_console = st.session_state.df[(st.session_state.df['hub']==\"CONSOLE\") & (st.session_state.df['sku'] == sku) & (st.session_state.df['mode'] == mode)].index[0]\n",
    "            console_support = st.session_state.df.loc[target_row_no_console, \"console_support\"]\n",
    "            if np.isnan(console_support):\n",
    "                st.markdown(f\"\"\"\n",
    "                <div style=\"background-color:rgba(250, 202, 43, 0.2);padding:16px;color:rgb(148, 124, 45);border-radius:2%;margin:1rem 0 1rem 0\">\n",
    "                Next re-order date: <span style = \"font-weight: 800;\">{st.session_state.df.loc[target_row_no, \"rop_date\"]}</span><br>\n",
    "                Recommended Transport Mode: <span style = \"font-weight: 800;\">{st.session_state.df.loc[target_row_no, \"recommended_mode\"]}</span>\n",
    "                <br><br>\n",
    "                Current stock in CONSOLE Hub: {st.session_state.df.loc[target_row_no_console, \"current_stock\"]:,} <br>\n",
    "                Expected total pull quantity from CONSOLE Hub within next 90 days: {st.session_state.df.loc[target_row_no_console, \"expected_pull_next_90d\"]:,} \n",
    "                <br><br>\n",
    "                <font size = \"2\">* Calculation is based on monthly actual demand (constantly refresh uSERANGOONg shipment order detail report) & transit time (transport mode) assuming that all hubs will use the selected transport mode</font>\n",
    "                </div>\n",
    "                \"\"\", unsafe_allow_html=True)\n",
    "            elif console_support == False:\n",
    "                st.markdown(f\"\"\"\n",
    "                <div style=\"background-color:rgba(255, 43, 43, 0.09);padding:16px;color:rgb(125, 53, 59);border-radius:2%;margin:1rem 0 1rem 0\">\n",
    "                Next re-order date: <span style = \"font-weight: 800;\">{st.session_state.df.loc[target_row_no, \"rop_date\"]}</span><br>\n",
    "                CONSOLE Hub support within next 90 days for this SKU in all hubs: <span style = \"font-weight: 800;\">NO 🚨</span><br>\n",
    "                Recommended Transport Mode: <span style = \"font-weight: 800;\">{st.session_state.df.loc[target_row_no, \"recommended_mode\"]}</span>\n",
    "                <br><br>\n",
    "                Current stock in CONSOLE Hub: {st.session_state.df.loc[target_row_no_console, \"current_stock\"]:,} <br>\n",
    "                Expected total pull quantity from CONSOLE Hub within next 90 days: {st.session_state.df.loc[target_row_no_console, \"expected_pull_next_90d\"]:,} \n",
    "                <br><br>\n",
    "                <font size = \"2\">* Calculation is based on monthly actual demand (constantly refresh uSERANGOONg shipment order detail report) & transit time (transport mode) assuming that all hubs will use the selected transport mode</font>\n",
    "                </div>\n",
    "                \"\"\", unsafe_allow_html=True)\n",
    "            elif console_support == True:\n",
    "                st.markdown(f\"\"\"\n",
    "                <div style=\"background-color:rgba(33, 195, 84, 0.1);padding:16px;color:rgb(23, 114, 51);border-radius:2%;margin:1rem 0 1rem 0\">\n",
    "                Next re-order date: <span style = \"font-weight: 800;\">{st.session_state.df.loc[target_row_no, \"rop_date\"]}</span> <br>\n",
    "                CONSOLE Hub support within next 90 days for this SKU in all hubs: <span style = \"font-weight: 800;\">YES ✅</span><br>\n",
    "                Recommended Transport Mode: <span style = \"font-weight: 800;\">{st.session_state.df.loc[target_row_no, \"recommended_mode\"]}</span>\n",
    "                <br><br>\n",
    "                Current stock in CONSOLE Hub: {st.session_state.df.loc[target_row_no_console, \"current_stock\"]:,} <br>\n",
    "                Expected total pull quantity from CONSOLE Hub within next 90 days: {st.session_state.df.loc[target_row_no_console, \"expected_pull_next_90d\"]:,} \n",
    "                <br><br>\n",
    "                <font size = \"2\">* Calculation is based on monthly actual demand (constantly refresh uSERANGOONg shipment order detail report) & transit time (transport mode) assuming that all hubs will use the selected transport mode</font>\n",
    "                </div>\n",
    "                \"\"\", unsafe_allow_html=True)\n",
    "\n",
    "        # display warning if rop is higher than eoq\n",
    "        if rop > eoq:\n",
    "            result_container.info(\"SERANGOONce EOQ is less than ROP due to low handling cost, demand or holding cost, we will plot the inventory level assuming that we order in multiple of EOQ until it exceed ROP. In actual situation, combine them with other skus to yield much better overall costs\")\n",
    "\n",
    "        # calculate inventory level over 365 days\n",
    "        data = calc_365_inventory(safety_stock, eoq, rop, st.session_state.demand_mean, st.session_state.demand_sd, st.session_state.leadtime_mean, st.session_state.leadtime_sd, random_demand_leadtime_boolean = False)\n",
    "\n",
    "        # display matplotlib chart based on data    \n",
    "        fig = px.line(data, x=\"day\", y=\"inventory\", title='Inventory levels over a year', labels={\"day\":\"Number of days in a year\", \"inventory\": \"Inventory Level\"})\n",
    "        fig.add_hline(y=rop, line_dash=\"dash\", line_color=\"orange\", annotation_text=\"reorder point\")\n",
    "        fig.add_hline(y=safety_stock, line_dash=\"dash\", line_color=\"green\", annotation_text=\"safety stock\")\n",
    "        result_container.plotly_chart(fig, theme = 'streamlit')\n",
    "\n",
    "    except:\n",
    "        preset_form.write(f\"This SKU is not a cat b item at {st.session_state.hub}.  \\n **NO PRESET LOADED**\")\n",
    "\n",
    "# Function to return nan, false or true\n",
    "# for use when determine whether console can support based on expected pull in next 90 days\n",
    "def pos_neg_nan(val):\n",
    "  if np.isnan(val):\n",
    "    return np.nan\n",
    "  elif val > 0:\n",
    "    return True\n",
    "  elif val <= 0:\n",
    "    return False\n",
    "\n",
    "# Calculate the expected total pull from console hub from all hubs, specific sku and mode\n",
    "# and evaluate if console hub can support the expected pull\n",
    "def console_support():\n",
    "    date_90days_later = pd.to_datetime('today').normalize() + pd.Timedelta(days=90)\n",
    "    df_expected_pull = st.session_state.df[[\"sku\", \"mode\", \"actual_eoq\"]][(st.session_state.df[\"hub\"]!=\"CONSOLE\") & (pd.to_datetime(st.session_state.df[\"rop_date\"], format=r\"%Y-%m-%d\") < date_90days_later)].groupby([\"sku\", \"mode\"]).sum(\"actual_eoq\").reset_index()\n",
    "    df_expected_pull.columns = [\"sku\",\"mode\",\"expected_pull_next_90d\"]\n",
    "    st.session_state.df.drop([\"expected_pull_next_90d\",\"console_support\"], axis = 1, inplace = True)\n",
    "    st.session_state.df = st.session_state.df.merge(df_expected_pull, how=\"left\", on=[\"sku\",\"mode\"])\n",
    "\n",
    "    st.session_state.df[\"console_support\"] = st.session_state.df[\"current_stock\"] - st.session_state.df[\"expected_pull_next_90d\"]\n",
    "    st.session_state.df[\"console_support\"] = st.session_state.df[\"console_support\"].apply(pos_neg_nan)\n",
    "\n",
    "    st.session_state.df = st.session_state.df\n",
    "\n",
    "def recommend_transport_mode(hub, sku, df):\n",
    "  target_rows = df[[\"hub\",\"sku\",\"mode\",\"handling_cost\", \"leadtime_days\", 'days_to_rop']][(df[\"hub\"]==hub)&(df[\"sku\"]==sku)].index\n",
    "  # if any of the days_to_rop is more than 0, we will take the one that is the lowest handling cost\n",
    "  if any(df.loc[target_rows, \"days_to_rop\"]>0):\n",
    "    print(\"inside recommend_transport_mode func, some are more than 0\")\n",
    "    temp_df = df[[\"mode\",\"handling_cost\"]][(df[\"hub\"]==hub)&(df[\"sku\"]==sku)&(df[\"days_to_rop\"]>0)]\n",
    "    recommended_mode = temp_df[\"mode\"][temp_df[\"handling_cost\"] == temp_df[\"handling_cost\"].min()].iloc[0]\n",
    "\n",
    "  # if all the days_to_rop is 0, it means we are already behind time, hence, we take the fastest leadtime, ignoring cost\n",
    "  elif all(df.loc[target_rows, \"days_to_rop\"]) == 0:\n",
    "    print(\"inside recommend_transport_mode func, All 0\")\n",
    "    temp_df = df[[\"mode\",\"leadtime_days\"]][(df[\"hub\"]==hub)&(df[\"sku\"]==sku)&(df[\"leadtime_days\"]>0)]\n",
    "    recommended_mode = temp_df[\"mode\"][temp_df[\"leadtime_days\"] == temp_df[\"leadtime_days\"].min()].iloc[0]\n",
    "  return recommended_mode\n",
    "\n",
    "\n",
    "# Function to calculate SS, EOQ, ROP\n",
    "def recommender(service_level, demand_mean, demand_sd, leadtime_mean, leadtime_sd, holding_cost_per_unit_per_month, handling_cost, inventory, hub , sku, mode):\n",
    "    st.session_state.df = st.session_state.df\n",
    "    # calculate safety stock\n",
    "    # assume that demand and leadtime are independent\n",
    "    z_score = stats.norm.ppf(service_level/100)\n",
    "    safety_stock = z_score * ((demand_mean * (leadtime_sd/average_days_per_month))**2 + ((leadtime_mean/average_days_per_month) * demand_sd**2))**0.5\n",
    "    safety_stock = round(safety_stock, 0)\n",
    "\n",
    "    # calculate economic order quantity\n",
    "    # (we look at it in a yearly time period because we may only order every few months. Hence, holding cost is on a yearly basis)\n",
    "    eoq = ((2*handling_cost*demand_mean*12)/(holding_cost_per_unit_per_month*12))**0.5\n",
    "    eoq = round(eoq, 0)\n",
    "\n",
    "    # calculate reorder point\n",
    "    rop = safety_stock + demand_mean * (leadtime_mean / average_days_per_month)\n",
    "    rop = round(rop, 0)\n",
    "\n",
    "    # calculate ROP date\n",
    "    days_to_rop = max((inventory - rop) / (demand_mean / average_days_per_month),0)\n",
    "    rop_date = (pd.to_datetime('today').normalize() + pd.Timedelta(days=int(days_to_rop))).date()\n",
    "\n",
    "    # update these calculated values to the df so that it can be downloaded later\n",
    "    target_row_no = st.session_state.df[(st.session_state.df['hub']==hub) & (st.session_state.df['sku'] == sku) & (st.session_state.df['mode'] == mode)].index[0]\n",
    "\n",
    "    if st.session_state.preset:\n",
    "        print(\"save\")\n",
    "        st.session_state.df.loc[target_row_no, \"service_level\"] = service_level/100\n",
    "        st.session_state.df.loc[target_row_no, \"avg_shipped_qty\"] = demand_mean\n",
    "        st.session_state.df.loc[target_row_no, \"sd_shipped_qty\"] = demand_sd\n",
    "        st.session_state.df.loc[target_row_no, \"leadtime_days\"] = leadtime_mean\n",
    "        st.session_state.df.loc[target_row_no, \"leadtime_days_sd\"] = leadtime_sd\n",
    "        st.session_state.df.loc[target_row_no, \"holding_cost_per_unit_year\"] = holding_cost_per_unit_per_month * 12\n",
    "        st.session_state.df.loc[target_row_no, \"handling_cost\"] = handling_cost\n",
    "        st.session_state.df.loc[target_row_no, \"safety_stock\"] = safety_stock\n",
    "        st.session_state.df.loc[target_row_no, \"eoq\"] = eoq\n",
    "        st.session_state.df.loc[target_row_no, \"rop\"] = rop\n",
    "        st.session_state.df.loc[target_row_no, \"days_to_rop\"] = days_to_rop\n",
    "        st.session_state.df.loc[target_row_no, \"rop_date\"] = rop_date\n",
    "\n",
    "\n",
    "    # calculate recommended transport mode\n",
    "    # we have to calculate this after rop dates are updated\n",
    "    recommended_mode = recommend_transport_mode(st.session_state.hub, st.session_state.sku, st.session_state.df)\n",
    "    print(recommended_mode)\n",
    "    \n",
    "    if st.session_state.preset:\n",
    "        # we don't use target_row_no as we do not need the mode\n",
    "        st.session_state.df.loc[st.session_state.df[(st.session_state.df[\"hub\"]==hub)&(st.session_state.df[\"sku\"]==sku)].index, \"recommended_mode\"] = recommended_mode\n",
    "\n",
    "\n",
    "        # recalculate expected pull and whether console hub can support\n",
    "        console_support()\n",
    "\n",
    "    return safety_stock, eoq, rop, rop_date, recommended_mode\n",
    "\n",
    "# function to calculate the stock level per day taking into consideration all the variables\n",
    "def calc_365_inventory(safety_stock, eoq, rop, demand_mean, demand_sd, leadtime_mean, leadtime_sd, random_demand_leadtime_boolean):\n",
    "    safety_stock = round(safety_stock,0)\n",
    "    eoq = round(eoq,0)\n",
    "    rop = round(rop,0)\n",
    "    # we do the following in case rop is higher than eoq. if that happens, then we order multiple times of eoq\n",
    "    actual_eoq = eoq * np.ceil(rop/eoq)\n",
    "    demand_per_day = demand_mean / average_days_per_month\n",
    "    demand_sd_per_day = demand_mean / average_days_per_month\n",
    "\n",
    "    data = {'day':[], 'inventory':[], 'order':None}\n",
    "    for day in range(365):\n",
    "        # track day count\n",
    "        data['day'].append(day)\n",
    "        \n",
    "        # if day 0, assume we have eoq inventory on hand\n",
    "        if day == 0:\n",
    "            data['inventory'].append(actual_eoq)\n",
    "        else:\n",
    "            # randomised demand based on normal distribution and defined mean and standarad deviation\n",
    "            if random_demand_leadtime_boolean:\n",
    "                randomised_demand = round(stats.norm(loc=demand_per_day,scale=demand_sd_per_day).rvs(size=1)[0],0)\n",
    "            else:\n",
    "                randomised_demand = demand_per_day\n",
    "            # deduct inventory per day based on demand\n",
    "            data['inventory'].append(data['inventory'][-1]-randomised_demand)\n",
    "\n",
    "            # check if stock after deduct demand is lower than rop. If yes, then raise order\n",
    "            if data['inventory'][-1] < rop and data['order'] == None:\n",
    "                # randomised demand based on normal distribution and defined mean and standarad deviation\n",
    "                if random_demand_leadtime_boolean:\n",
    "                    randomised_leadtime = round(stats.norm(loc=leadtime_mean,scale=leadtime_sd).rvs(size=1)[0],0)\n",
    "                else:\n",
    "                    randomised_leadtime = leadtime_mean\n",
    "                # deduct inventory per day based on demand\n",
    "                data['order'] = randomised_leadtime\n",
    "            elif data['inventory'][-1] < rop and data['order'] > 0:\n",
    "                data['order'] -= 1\n",
    "            elif data['inventory'][-1] < rop and data['order'] == 0:\n",
    "                data['order'] = None\n",
    "                data['inventory'][day] += actual_eoq\n",
    "    return data\n",
    "\n",
    "# Function to change the result output upon presSERANGOONg submit button\n",
    "def display_recommendations():\n",
    "    # we have to do this rather than pasSERANGOONg it to the function uSERANGOONg arg because streamlit only update the args after 1 pass\n",
    "    # to get the most updated value immediately, we need to use session state instead\n",
    "    service_level = st.session_state.service_level\n",
    "    demand_mean = st.session_state.demand_mean\n",
    "    demand_sd = st.session_state.demand_sd\n",
    "    leadtime_mean = st.session_state.leadtime_mean\n",
    "    leadtime_sd = st.session_state.leadtime_sd\n",
    "    holding_cost_per_unit_per_month = st.session_state.holding_cost_per_unit_per_month\n",
    "    handling_cost = st.session_state.handling_cost\n",
    "    random_demand_leadtime_boolean = st.session_state.random_demand_leadtime\n",
    "    inventory = st.session_state.today_inventory\n",
    "    hub  = st.session_state.hub\n",
    "    sku = st.session_state.sku\n",
    "    mode = st.session_state.mode\n",
    "    \n",
    "    # Run recommender function\n",
    "    safety_stock, eoq, rop, rop_date, recommended_mode = recommender(service_level, demand_mean, demand_sd, leadtime_mean, leadtime_sd, holding_cost_per_unit_per_month, handling_cost, inventory, hub , sku, mode)\n",
    "\n",
    "\n",
    "    # display result in 3 col metrics\n",
    "    result_col1.metric(\"Safety Stock\", f\"{safety_stock:,}\")\n",
    "    result_col2.metric(\"Economic Order Quantiy\", f\"{eoq:,}\")\n",
    "    result_col3.metric(\"Reorder Point\", f\"{rop:,}\")\n",
    "\n",
    "    # Display re-order date\n",
    "    with result_container:\n",
    "        # get target row for the chosen SKU and transport mode in CONSOLE HUB\n",
    "        target_row_no = st.session_state.df[(st.session_state.df['hub']==\"CONSOLE\") & (st.session_state.df['sku'] == sku) & (st.session_state.df['mode'] == mode)].index[0]\n",
    "        console_support = st.session_state.df.loc[target_row_no, \"console_support\"]\n",
    "        if np.isnan(console_support):\n",
    "            st.markdown(f\"\"\"\n",
    "            <div style=\"background-color:rgba(250, 202, 43, 0.2);padding:16px;color:rgb(148, 124, 45);border-radius:2%;margin:1rem 0 1rem 0\">\n",
    "            Next re-order date: <span style = \"font-weight: 800;\">{rop_date}</span><br>\n",
    "            Recommended Transport Mode: <span style = \"font-weight: 800;\">{recommended_mode}</span>\n",
    "            <br><br>\n",
    "            Current stock in CONSOLE Hub: {st.session_state.df.loc[target_row_no, \"current_stock\"]:,} <br>\n",
    "            Expected total pull quantity from CONSOLE Hub within next 90 days: {st.session_state.df.loc[target_row_no, \"expected_pull_next_90d\"]:,} \n",
    "            <br><br>\n",
    "            <font size = \"2\">* Calculation is based on monthly actual demand (constantly refresh uSERANGOONg shipment order detail report) & transit time (transport mode) assuming that all hubs will use the selected transport mode</font>\n",
    "            </div>\n",
    "            \"\"\", unsafe_allow_html=True)\n",
    "        elif console_support == False:\n",
    "            st.markdown(f\"\"\"\n",
    "            <div style=\"background-color:rgba(255, 43, 43, 0.09);padding:16px;color:rgb(125, 53, 59);border-radius:2%;margin:1rem 0 1rem 0\">\n",
    "            Next re-order date: <span style = \"font-weight: 800;\">{rop_date}</span><br>\n",
    "            CONSOLE Hub support within next 90 days for this SKU in all hubs: <span style = \"font-weight: 800;\">NO 🚨</span><br>\n",
    "            Recommended Transport Mode: <span style = \"font-weight: 800;\">{recommended_mode}</span>\n",
    "            <br><br>\n",
    "            Current stock in CONSOLE Hub: {st.session_state.df.loc[target_row_no, \"current_stock\"]:,} <br>\n",
    "            Expected total pull quantity from CONSOLE Hub within next 90 days: {st.session_state.df.loc[target_row_no, \"expected_pull_next_90d\"]:,} \n",
    "            <br><br>\n",
    "            <font size = \"2\">* Calculation is based on monthly actual demand (constantly refresh uSERANGOONg shipment order detail report) & transit time (transport mode) assuming that all hubs will use the selected transport mode</font>\n",
    "            </div>\n",
    "            \"\"\", unsafe_allow_html=True)\n",
    "        elif console_support == True:\n",
    "            st.markdown(f\"\"\"\n",
    "            <div style=\"background-color:rgba(33, 195, 84, 0.1);padding:16px;color:rgb(23, 114, 51);border-radius:2%;margin:1rem 0 1rem 0\">\n",
    "            Next re-order date: <span style = \"font-weight: 800;\">{rop_date}</span> <br>\n",
    "            CONSOLE Hub support within next 90 days for this SKU in all hubs: <span style = \"font-weight: 800;\">YES ✅</span><br>\n",
    "            Recommended Transport Mode: <span style = \"font-weight: 800;\">{recommended_mode}</span>\n",
    "            <br><br>\n",
    "            Current stock in CONSOLE Hub: {st.session_state.df.loc[target_row_no, \"current_stock\"]:,} <br>\n",
    "            Expected total pull quantity from CONSOLE Hub within next 90 days: {st.session_state.df.loc[target_row_no, \"expected_pull_next_90d\"]:,} \n",
    "            <br><br>\n",
    "            <font size = \"2\">* Calculation is based on monthly actual demand (constantly refresh uSERANGOONg shipment order detail report) & transit time (transport mode) assuming that all hubs will use the selected transport mode</font>\n",
    "            </div>\n",
    "            \"\"\", unsafe_allow_html=True)\n",
    "\n",
    "    # display warning if rop is higher than eoq\n",
    "    if rop > eoq:\n",
    "        result_container.info(\"SERANGOONce EOQ is less than ROP due to low handling cost, demand or holding cost, we will plot the inventory level assuming that we order in multiple of EOQ until it exceed ROP. In actual situation, combine them with other skus to yield much better overall costs\")\n",
    "\n",
    "    # calculate inventory level over 365 days\n",
    "    data = calc_365_inventory(safety_stock, eoq, rop, demand_mean, demand_sd, leadtime_mean, leadtime_sd, random_demand_leadtime_boolean)\n",
    "\n",
    "    # display matplotlib chart based on data    \n",
    "    fig = px.line(data, x=\"day\", y=\"inventory\", title='Inventory levels over a year', labels={\"day\":\"Number of days in a year\", \"inventory\": \"Inventory Level\"})\n",
    "    fig.add_hline(y=rop, line_dash=\"dash\", line_color=\"orange\", annotation_text=\"reorder point\")\n",
    "    fig.add_hline(y=safety_stock, line_dash=\"dash\", line_color=\"green\", annotation_text=\"safety stock\")\n",
    "    result_container.plotly_chart(fig, theme = 'streamlit')\n",
    "\n",
    "###############\n",
    "## STREAMLIT ##\n",
    "###############\n",
    "\n",
    "# Create placement containers in sequence\n",
    "with st.sidebar:\n",
    "    st.subheader(\"Preset values based on historical data\")\n",
    "    # Preset Form\n",
    "    hub_val = st.selectbox('Hub', sorted(st.session_state.df['hub'].unique()), key='hub')\n",
    "    sku_val = st.selectbox('SKU', sorted(st.session_state.df['sku'][(st.session_state.df[\"hub\"]==hub_val)].unique()), key='sku')\n",
    "    mode_val = st.selectbox('Transport Mode', sorted(st.session_state.df['mode'][(st.session_state.df[\"hub\"]==hub_val)&(st.session_state.df[\"sku\"]==sku_val)].unique()), help =\"Mode selected would be the same for all hubs and chosen SKU. This would also affect the expected demand from console hub within the next 90 days\", key='mode')\n",
    "    preset_submit = st.button(label='Get Preset', on_click=preset, args = (hub_val, sku_val, mode_val))\n",
    "\n",
    "    \n",
    "    download_df = st.session_state.df[['hub','sku','mode','current_stock', 'service_level', 'avg_shipped_qty', 'sd_shipped_qty', 'leadtime_days', 'leadtime_days_sd', 'holding_cost_per_unit_year', 'handling_cost','safety_stock','eoq','actual_eoq','rop', 'rop_date', 'expected_pull_next_90d', 'console_support']].copy()\n",
    "    download_df.columns = ['hub','sku','mode','current_stock','service_level', 'demand_mean', 'demand_sd', 'leadtime_days', 'leadtime_sd', 'holding_cost_per_unit_year', 'handling_cost_per_order','safety_stock','economic_order_qty','adjusted_economic_order_qty','reorder_point', 'reorder_date', 'expected_pull_next_90d', 'console_support']\n",
    "    download_csv = download_df.to_csv().encode('utf-8')\n",
    "    st.download_button('Download Historical Data with calculated SS, EOQ, ROP', data = download_csv, file_name = 'download_csv.csv', mime='text/csv')\n",
    "\n",
    "\n",
    "# Important statistics\n",
    "if \"today_inventory\" not in st.session_state:\n",
    "    st.session_state.today_inventory = 0\n",
    "    st.session_state.preset = False\n",
    "    stats_col1.metric(\"Today's Inventory\", 0)\n",
    "    stats_col2.metric(\"Average Demand / Mnth\", 0)\n",
    "    stats_col3.metric(\"Stock Month\", 0)\n",
    "else:\n",
    "    target_row_no = st.session_state.df[(st.session_state.df['hub']==st.session_state.hub) & (st.session_state.df['sku'] == st.session_state.sku) & (st.session_state.df['mode'] == st.session_state.mode)].index[0]\n",
    "    stats_col1.metric(\"Today's Inventory\", f\"{st.session_state.df.loc[target_row_no, 'current_stock']:,}\")\n",
    "    stats_col2.metric(\"Average Demand / Mnth\", f\"{round(st.session_state.df.loc[target_row_no, 'avg_shipped_qty'],2):,}\")\n",
    "    stats_col3.metric(\"Stock Month\", f\"{round(st.session_state.df.loc[target_row_no, 'current_stock']/st.session_state.df.loc[target_row_no, 'avg_shipped_qty'], 2):,}\")\n",
    "\n",
    "# display inventory across all hubs\n",
    "try:\n",
    "    with st.expander(\"Expand to see inventory across all hubs\", expanded=False):\n",
    "        # Display Inventory Map across hub\n",
    "        st.subheader(\"Stock months across all hubs\")\n",
    "        layer = pdk.Layer(\n",
    "            \"ColumnLayer\",\n",
    "            data=st.session_state.df[[\"hub\",\"current_stock_formatted\",\"stock_month_2dp\",\"lat\", \"lng\", \"color\"]][(st.session_state.df['sku'] == st.session_state.sku) & (st.session_state.df['mode'] == \"Air\")],\n",
    "            get_position=\"[lng, lat]\",\n",
    "            auto_highlight=True,\n",
    "            get_elevation=\"stock_month_2dp\",\n",
    "            elevation_scale=200_000,\n",
    "            radius=200_000,\n",
    "            pickable=True,\n",
    "            # elevation_range=[0, 100],\n",
    "            extruded=True,\n",
    "            coverage=1,\n",
    "            # get_fill_color=[255, 165, 0, 100]\n",
    "            get_fill_color=[\"255\", \"165 + color\", \"0\", 100]\n",
    "        )\n",
    "        # Set the viewport location\n",
    "        view_state = pdk.ViewState(\n",
    "            longitude=0.0, latitude=10.2323, zoom=1, min_zoom=1, max_zoom=15, pitch=45, bearing=0\n",
    "        )\n",
    "        # Combined all of it and render a viewport\n",
    "        r = pdk.Deck(\n",
    "            map_style=\"mapbox://styles/mapbox/light-v9\",\n",
    "            layers=[layer],\n",
    "            initial_view_state=view_state,\n",
    "            tooltip={\"html\": \n",
    "            \"\"\"<b>Hub:</b> {hub} <br>\n",
    "            <b>Stock Month:</b> {stock_month_2dp} <br>\n",
    "            <b>Stock Level:</b> {current_stock_formatted} <br>\n",
    "            \"\"\",\n",
    "            \"style\": {\"color\": \"white\"}},\n",
    "        )\n",
    "        st.pydeck_chart(r)\n",
    "except:\n",
    "    pass\n",
    "\n",
    "\n",
    "with st.expander(\"Expand to see how demand and leadtime affect SS, EOQ, ROP\", expanded=False):\n",
    "    data_form = st.form(key=\"data_form\")\n",
    "    data_form.write(\"*Input the variables in the form below and click submit to derive the recommendation*\")\n",
    "    # data_form.write(\"*Please note that tweaking these variables are only to simulate how different factors will affect the recommendation. These tweaks will not affect the actual reorder date*\")\n",
    "    data_form_no_col = data_form.columns(1)\n",
    "    data_form_col1, data_form_col2 = data_form.columns(2)\n",
    "\n",
    "result_container = st.container()\n",
    "with result_container:\n",
    "    result_col1, result_col2, result_col3 = st.columns(3)\n",
    "\n",
    "\n",
    "\n",
    "# Data Form\n",
    "service_level_val = data_form.slider('Desired service level for SKU (%)', 1, 100, 90, help=\"Higher service level will result in higher safety stock\", key='service_level')\n",
    "demand_mean_val = data_form_col1.number_input('Average monthly demand for SKU at hub', value = 12.0, min_value = 0.01, step = 1.0, format = \"%f\", help=\"Higher demand will result in higher safety stock, economic order quantity and reorder point\", key='demand_mean')\n",
    "demand_sd_val = data_form_col1.number_input('Standard deviation of monthly demand for SKU at hub', value = 1.0, min_value = 0.01, step = 0.01, format = \"%f\", help=\"Higher variability of demand month on month will result in higher safety stock\", key='demand_sd')\n",
    "leadtime_mean_val = data_form_col2.number_input('Average lead time from SERANGOON to hub (days)', value = 1.0, min_value = 0.01, step = 1.0, format = \"%f\", help=\"Longer lead time will result in higher safety stock and reorder point\", key='leadtime_mean')\n",
    "leadtime_sd_val = data_form_col2.number_input('Standard deviation of lead time from SERANGOON to hub (days)', value = 1.0, min_value = 0.01, step = 0.01, format = \"%f\", help=\"Higher variability of lead time will result in higher safety stock\", key='leadtime_sd')\n",
    "holding_cost_per_unit_per_month_val = data_form_col1.number_input('Holding cost per unit of SKU per month', value = 1.0, min_value = 0.01, step = 0.01, format = \"%f\", help=\"Higher holding cost will reduce the economic order quantity per order\", key='holding_cost_per_unit_per_month')\n",
    "handling_cost_val = data_form_col2.number_input('Handling cost per shipment order', value = 1.0, min_value = 0.01, step = 1.0, format = \"%f\", help=\"Higher handling cost per order will increase the economic order quantity per order\", key='handling_cost')\n",
    "random_demand_leadtime_boolean = data_form.checkbox(\"Simulate normalised random demand and leadtime\", value=False, key='random_demand_leadtime', help=\"Enabling this will assuming randomised demand and leadtime normalised according to mean and standard deviation input\")\n",
    "data_submit = data_form.form_submit_button(label = \"Submit\", on_click = display_recommendations, args=())"
   ]
  },
  {
   "cell_type": "code",
   "execution_count": 8,
   "metadata": {},
   "outputs": [
    {
     "name": "stdout",
     "output_type": "stream",
     "text": [
      "Overwriting pages/2_🗃️Data.py\n"
     ]
    }
   ],
   "source": [
    "%%writefile pages/2_🗃️Data.py\n",
    "import streamlit as st\n",
    "import pandas as pd\n",
    "\n",
    "st.set_page_config(layout=\"wide\")\n",
    "\n",
    "st.dataframe(st.session_state.df, use_container_width= True)"
   ]
  },
  {
   "attachments": {},
   "cell_type": "markdown",
   "metadata": {},
   "source": [
    "# Future works\n",
    "- Calculate total cost of holding for the stocks"
   ]
  },
  {
   "cell_type": "markdown",
   "metadata": {},
   "source": []
  }
 ],
 "metadata": {
  "kernelspec": {
   "display_name": "dbs-abc",
   "language": "python",
   "name": "python3"
  },
  "language_info": {
   "codemirror_mode": {
    "name": "ipython",
    "version": 3
   },
   "file_extension": ".py",
   "mimetype": "text/x-python",
   "name": "python",
   "nbconvert_exporter": "python",
   "pygments_lexer": "ipython3",
   "version": "3.8.15"
  },
  "orig_nbformat": 4,
  "vscode": {
   "interpreter": {
    "hash": "7975f2fd91c0534bc198f1eff1163bd532bae568dff9413a24c014bca1672d02"
   }
  }
 },
 "nbformat": 4,
 "nbformat_minor": 2
}
