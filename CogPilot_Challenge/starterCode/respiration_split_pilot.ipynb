{
 "cells": [
  {
   "cell_type": "code",
   "execution_count": 28,
   "metadata": {},
   "outputs": [],
   "source": [
    "import re, os, time\n",
    "import pandas as pd\n",
    "import datetime\n",
    "import numpy as np\n",
    "from scipy import stats\n",
    "from sklearn.preprocessing import StandardScaler\n",
    "from sklearn.model_selection import train_test_split, cross_val_score\n",
    "from sklearn.metrics import roc_auc_score, f1_score, accuracy_score\n",
    "from matplotlib import pyplot as plt\n",
    "# import plotData # helper function in starter code package\n",
    "\n",
    "\n",
    "from sktime.transformations.panel.padder import PaddingTransformer\n",
    "from sktime.classification.compose import ClassifierPipeline, ComposableTimeSeriesForestClassifier\n",
    "from sktime.transformations.panel.summarize import RandomIntervalFeatureExtractor\n",
    "from sklearn.tree import DecisionTreeClassifier\n",
    "# only classifier in sktime that can process unequal length data\n",
    "# https://github.com/sktime/sktime/issues/3649#issuecomment-1292459843\n",
    "# from sktime.alignment.dtw_python import AlignerDTW   ## NOTE THAT THIS SOMEHOW AFFECT ALL PRINT OUTPUT. NOTHING WILL BE SHOWN FOR PRINT STATEMENT AFTER YOU RUN THIS\n",
    "from sktime.classification.feature_based import RandomIntervalClassifier\n",
    "from sktime.classification.distance_based import KNeighborsTimeSeriesClassifier\n",
    "from sktime.classification.dictionary_based import IndividualBOSS, ContractableBOSS\n",
    "from sktime.classification.kernel_based import RocketClassifier\n",
    "from sktime.classification.hybrid import HIVECOTEV1, HIVECOTEV2\n",
    "from sktime.classification.shapelet_based import ShapeletTransformClassifier\n",
    "from sktime.classification.sklearn import RotationForest\n",
    "\n",
    "from sktime.dists_kernels.compose_from_align import DistFromAligner\n",
    "from sktime.utils.slope_and_trend import _slope\n",
    "from sklearn.pipeline import Pipeline\n",
    "# https://www.sktime.org/en/stable/api_reference/auto_generated/sktime.transformations.panel.catch22.Catch22.html\n",
    "from sktime.transformations.panel.catch22 import Catch22\n",
    "\n",
    "from sktime.classification.interval_based import CanonicalIntervalForest,DrCIF,RandomIntervalSpectralEnsemble,SupervisedTimeSeriesForest,TimeSeriesForestClassifier\n",
    "\n",
    "# identify classifiers that support unequal length\n",
    "from sktime.registry import all_estimators\n",
    "\n",
    "\n"
   ]
  },
  {
   "cell_type": "code",
   "execution_count": 29,
   "metadata": {},
   "outputs": [],
   "source": [
    "data_root = \"..\\\\cleanedData\\\\\""
   ]
  },
  {
   "cell_type": "markdown",
   "metadata": {},
   "source": [
    "## Combining Data"
   ]
  },
  {
   "cell_type": "code",
   "execution_count": 59,
   "metadata": {},
   "outputs": [],
   "source": [
    "# combine into single df\n",
    "df_combined_subject = {'subject':[],'run':[], 'normalised_resp':[], 'difficulty':[]}\n",
    "for root, dirs, files in os.walk(data_root):\n",
    "  for file in files:\n",
    "      if \"lslshimmerresp\" in file:\n",
    "        difficulty = re.search(\"mV_(\\d\\d\\w)\", file).group(1)\n",
    "        subject = re.search(\"_(cp\\d+)_\", file).group(1)\n",
    "        run = re.search(\"_(\\d).csv\", file).group(1)\n",
    "        df_temp = pd.read_csv(os.path.join(root, file))\n",
    "        # We perform scaler on EACH subject as they are independent of each other \n",
    "        scaler = StandardScaler()\n",
    "        resp_series = pd.Series(scaler.fit_transform(df_temp[['respiration_trace_mV']]).flatten())\n",
    "\n",
    "        df_combined_subject['subject'].append(subject)\n",
    "        df_combined_subject['run'].append(run)\n",
    "        df_combined_subject['normalised_resp'].append(resp_series)\n",
    "        df_combined_subject['difficulty'].append(difficulty)\n",
    "df_combined_subject = pd.DataFrame(df_combined_subject)"
   ]
  },
  {
   "cell_type": "code",
   "execution_count": 60,
   "metadata": {},
   "outputs": [],
   "source": [
    "# save to pickle rather than csv to preserve the nested series inside the dataframe\n",
    "df_combined_subject.to_pickle(data_root+\"df_combined_subject.pkl\", protocol=4)"
   ]
  },
  {
   "cell_type": "markdown",
   "metadata": {},
   "source": [
    "# Modelling"
   ]
  },
  {
   "cell_type": "code",
   "execution_count": 3,
   "metadata": {},
   "outputs": [],
   "source": [
    "df_combined_subject = pd.read_pickle(data_root+\"df_combined_subject.pkl\")"
   ]
  },
  {
   "cell_type": "code",
   "execution_count": 13,
   "metadata": {},
   "outputs": [],
   "source": [
    "# Identify rows that is 0 length\n",
    "# empty_row = []\n",
    "# for i in range(len(df_combined)):\n",
    "#   temp = df_combined.iloc[i,0]\n",
    "#   if len(temp[temp==0.0]) or len(temp[temp==0]):\n",
    "#     empty_row.append(i)\n",
    "\n",
    "# df_combined.drop(empty_row, inplace=True)"
   ]
  },
  {
   "cell_type": "code",
   "execution_count": 16,
   "metadata": {},
   "outputs": [
    {
     "name": "stdout",
     "output_type": "stream",
     "text": [
      "CPU times: total: 0 ns\n",
      "Wall time: 13 ms\n"
     ]
    }
   ],
   "source": [
    "%%time\n",
    "# perform train test split according by subject\n",
    "# split into 5 different folds for CV\n",
    "from sklearn.model_selection import GroupKFold\n",
    "X_train, X_test, y_train, y_test = [], [], [], []\n",
    "gss = GroupKFold(n_splits=5)\n",
    "for train, test in gss.split(df_combined_subject[\"normalised_resp\"], df_combined_subject[\"difficulty\"], df_combined_subject[\"subject\"]):\n",
    "  X_train.append(df_combined_subject.loc[train,[\"normalised_resp\"]])\n",
    "  X_test.append(df_combined_subject.loc[test,[\"normalised_resp\"]])\n",
    "  y_train.append(df_combined_subject.loc[train,\"difficulty\"].astype(\"string\"))\n",
    "  y_test.append(df_combined_subject.loc[test,\"difficulty\"].astype(\"string\"))"
   ]
  },
  {
   "cell_type": "code",
   "execution_count": 15,
   "metadata": {},
   "outputs": [],
   "source": [
    "# X_train, X_test, y_train, y_test = train_test_split(df_combined_subject[\"normalised_resp\"], df_combined_subject[\"difficulty\"], random_state=42)"
   ]
  },
  {
   "cell_type": "code",
   "execution_count": 16,
   "metadata": {},
   "outputs": [],
   "source": [
    "# X_train = pd.DataFrame(X_train)\n",
    "# X_test = pd.DataFrame(X_test)\n",
    "# y_train = y_train.astype(\"string\")\n",
    "# y_test = y_test.astype(\"string\")"
   ]
  },
  {
   "cell_type": "code",
   "execution_count": 33,
   "metadata": {},
   "outputs": [],
   "source": [
    "model_result = {\n",
    "  \"classifier\":[],\n",
    "  \"accuracy_score\":[],\n",
    "  \"AUC_score\":[],\n",
    "  \"F1_score\":[],\n",
    "  \"runtime(s)\":[],\n",
    "}\n",
    "\n",
    "def get_class(class_list, prob_list):\n",
    "  idx = list(prob_list).index(max(prob_list))\n",
    "  return class_list[idx]\n",
    "\n",
    "def log_result(classifier_name, class_list, y_test, y_pred_proba, runtime):\n",
    "  y_pred = []\n",
    "  for y_list in y_pred_proba:\n",
    "    y_pred.append(get_class(class_list, y_list))\n",
    "  acc = accuracy_score(y_test, y_pred)\n",
    "  auc = roc_auc_score(y_test, y_pred_proba, multi_class='ovr')\n",
    "  f1 = f1_score(y_test, y_pred, average='micro')\n",
    "  model_result[\"classifier\"].append(classifier_name)\n",
    "  model_result[\"accuracy_score\"].append(acc)\n",
    "  model_result[\"AUC_score\"].append(auc)\n",
    "  model_result[\"F1_score\"].append(f1)\n",
    "  model_result[\"runtime(s)\"].append(runtime)\n",
    "\n",
    "  display(pd.DataFrame(model_result))\n",
    "  pd.DataFrame(model_result).to_csv(data_root+\"respiration_split_pilot_result.csv\")"
   ]
  },
  {
   "cell_type": "code",
   "execution_count": 34,
   "metadata": {},
   "outputs": [],
   "source": [
    "def run_model(classifier_name,classifier, padding = True,  fold = 0):\n",
    "  start = time.time()\n",
    "  \n",
    "  # set up pipeline\n",
    "  if padding:\n",
    "    clf = PaddingTransformer() * classifier()\n",
    "  else:\n",
    "    clf = classifier()\n",
    "  \n",
    "  clf.fit(X_train[fold], y_train[fold])\n",
    "  y_pred_proba = clf.predict_proba(X_test[fold])\n",
    "  end = time.time()\n",
    "\n",
    "  log_result(classifier_name, clf.classes_, y_test[fold], y_pred_proba, end-start)"
   ]
  },
  {
   "attachments": {},
   "cell_type": "markdown",
   "metadata": {},
   "source": [
    "## Classification using catch22\n",
    "\n",
    "Refer to respiration_split_pilot_pycaret.ipynb"
   ]
  },
  {
   "cell_type": "markdown",
   "metadata": {},
   "source": [
    "## RandomIntervalClassifier\n",
    "extract at random interval and perform Rotation forest with 200 trees"
   ]
  },
  {
   "cell_type": "code",
   "execution_count": 23,
   "metadata": {},
   "outputs": [
    {
     "ename": "KeyboardInterrupt",
     "evalue": "",
     "output_type": "error",
     "traceback": [
      "\u001b[1;31m---------------------------------------------------------------------------\u001b[0m",
      "\u001b[1;31mKeyboardInterrupt\u001b[0m                         Traceback (most recent call last)",
      "Cell \u001b[1;32mIn[23], line 1\u001b[0m\n\u001b[1;32m----> 1\u001b[0m run_model(\n\u001b[0;32m      2\u001b[0m   \u001b[39m\"\u001b[39;49m\u001b[39mRandomIntervalClassifier\u001b[39;49m\u001b[39m\"\u001b[39;49m, \n\u001b[0;32m      3\u001b[0m   \u001b[39mlambda\u001b[39;49;00m: RandomIntervalClassifier(n_intervals\u001b[39m=\u001b[39;49m\u001b[39m5\u001b[39;49m, n_jobs\u001b[39m=\u001b[39;49m\u001b[39m1\u001b[39;49m, random_state \u001b[39m=\u001b[39;49m \u001b[39m42\u001b[39;49m),\n\u001b[0;32m      4\u001b[0m   padding \u001b[39m=\u001b[39;49m \u001b[39mTrue\u001b[39;49;00m,\n\u001b[0;32m      5\u001b[0m   fold \u001b[39m=\u001b[39;49m \u001b[39m0\u001b[39;49m\n\u001b[0;32m      6\u001b[0m   )\n",
      "Cell \u001b[1;32mIn[12], line 10\u001b[0m, in \u001b[0;36mrun_model\u001b[1;34m(classifier_name, classifier, padding, fold)\u001b[0m\n\u001b[0;32m      7\u001b[0m \u001b[39melse\u001b[39;00m:\n\u001b[0;32m      8\u001b[0m   clf \u001b[39m=\u001b[39m classifier()\n\u001b[1;32m---> 10\u001b[0m clf\u001b[39m.\u001b[39;49mfit(X_train[fold], y_train[fold])\n\u001b[0;32m     11\u001b[0m y_pred_proba \u001b[39m=\u001b[39m clf\u001b[39m.\u001b[39mpredict_proba(X_test[fold])\n\u001b[0;32m     12\u001b[0m end \u001b[39m=\u001b[39m time\u001b[39m.\u001b[39mtime()\n",
      "File \u001b[1;32mc:\\Users\\kyunomi\\anaconda3\\envs\\cogpilot\\lib\\site-packages\\sktime\\classification\\base.py:191\u001b[0m, in \u001b[0;36mBaseClassifier.fit\u001b[1;34m(self, X, y)\u001b[0m\n\u001b[0;32m    186\u001b[0m         \u001b[39mraise\u001b[39;00m \u001b[39mAttributeError\u001b[39;00m(\n\u001b[0;32m    187\u001b[0m             \u001b[39m\"\u001b[39m\u001b[39mself.n_jobs must be set if capability:multithreading is True\u001b[39m\u001b[39m\"\u001b[39m\n\u001b[0;32m    188\u001b[0m         )\n\u001b[0;32m    190\u001b[0m \u001b[39m# pass coerced and checked data to inner _fit\u001b[39;00m\n\u001b[1;32m--> 191\u001b[0m \u001b[39mself\u001b[39;49m\u001b[39m.\u001b[39;49m_fit(X, y)\n\u001b[0;32m    192\u001b[0m \u001b[39mself\u001b[39m\u001b[39m.\u001b[39mfit_time_ \u001b[39m=\u001b[39m \u001b[39mint\u001b[39m(\u001b[39mround\u001b[39m(time\u001b[39m.\u001b[39mtime() \u001b[39m*\u001b[39m \u001b[39m1000\u001b[39m)) \u001b[39m-\u001b[39m start\n\u001b[0;32m    194\u001b[0m \u001b[39m# this should happen last\u001b[39;00m\n",
      "File \u001b[1;32mc:\\Users\\kyunomi\\anaconda3\\envs\\cogpilot\\lib\\site-packages\\sktime\\classification\\compose\\_pipeline.py:199\u001b[0m, in \u001b[0;36mClassifierPipeline._fit\u001b[1;34m(self, X, y)\u001b[0m\n\u001b[0;32m    181\u001b[0m \u001b[39mdef\u001b[39;00m \u001b[39m_fit\u001b[39m(\u001b[39mself\u001b[39m, X, y):\n\u001b[0;32m    182\u001b[0m     \u001b[39m\"\"\"Fit time series classifier to training data.\u001b[39;00m\n\u001b[0;32m    183\u001b[0m \n\u001b[0;32m    184\u001b[0m \u001b[39m    core logic\u001b[39;00m\n\u001b[1;32m   (...)\u001b[0m\n\u001b[0;32m    197\u001b[0m \u001b[39m    creates fitted model (attributes ending in \"_\")\u001b[39;00m\n\u001b[0;32m    198\u001b[0m \u001b[39m    \"\"\"\u001b[39;00m\n\u001b[1;32m--> 199\u001b[0m     Xt \u001b[39m=\u001b[39m \u001b[39mself\u001b[39;49m\u001b[39m.\u001b[39;49mtransformers_\u001b[39m.\u001b[39;49mfit_transform(X\u001b[39m=\u001b[39;49mX, y\u001b[39m=\u001b[39;49my)\n\u001b[0;32m    200\u001b[0m     \u001b[39mself\u001b[39m\u001b[39m.\u001b[39mclassifier_\u001b[39m.\u001b[39mfit(X\u001b[39m=\u001b[39mXt, y\u001b[39m=\u001b[39my)\n\u001b[0;32m    202\u001b[0m     \u001b[39mreturn\u001b[39;00m \u001b[39mself\u001b[39m\n",
      "File \u001b[1;32mc:\\Users\\kyunomi\\anaconda3\\envs\\cogpilot\\lib\\site-packages\\sktime\\transformations\\base.py:556\u001b[0m, in \u001b[0;36mBaseTransformer.fit_transform\u001b[1;34m(self, X, y)\u001b[0m\n\u001b[0;32m    499\u001b[0m \u001b[39m\"\"\"Fit to data, then transform it.\u001b[39;00m\n\u001b[0;32m    500\u001b[0m \n\u001b[0;32m    501\u001b[0m \u001b[39mFits the transformer to X and y and returns a transformed version of X.\u001b[39;00m\n\u001b[1;32m   (...)\u001b[0m\n\u001b[0;32m    552\u001b[0m \u001b[39m        Example: i-th instance of the output is the i-th window running over `X`\u001b[39;00m\n\u001b[0;32m    553\u001b[0m \u001b[39m\"\"\"\u001b[39;00m\n\u001b[0;32m    554\u001b[0m \u001b[39m# Non-optimized default implementation; override when a better\u001b[39;00m\n\u001b[0;32m    555\u001b[0m \u001b[39m# method is possible for a given algorithm.\u001b[39;00m\n\u001b[1;32m--> 556\u001b[0m \u001b[39mreturn\u001b[39;00m \u001b[39mself\u001b[39;49m\u001b[39m.\u001b[39;49mfit(X, y)\u001b[39m.\u001b[39;49mtransform(X, y)\n",
      "File \u001b[1;32mc:\\Users\\kyunomi\\anaconda3\\envs\\cogpilot\\lib\\site-packages\\sktime\\transformations\\base.py:485\u001b[0m, in \u001b[0;36mBaseTransformer.transform\u001b[1;34m(self, X, y)\u001b[0m\n\u001b[0;32m    482\u001b[0m X_inner, y_inner, metadata \u001b[39m=\u001b[39m \u001b[39mself\u001b[39m\u001b[39m.\u001b[39m_check_X_y(X\u001b[39m=\u001b[39mX, y\u001b[39m=\u001b[39my, return_metadata\u001b[39m=\u001b[39m\u001b[39mTrue\u001b[39;00m)\n\u001b[0;32m    484\u001b[0m \u001b[39mif\u001b[39;00m \u001b[39mnot\u001b[39;00m \u001b[39misinstance\u001b[39m(X_inner, VectorizedDF):\n\u001b[1;32m--> 485\u001b[0m     Xt \u001b[39m=\u001b[39m \u001b[39mself\u001b[39;49m\u001b[39m.\u001b[39;49m_transform(X\u001b[39m=\u001b[39;49mX_inner, y\u001b[39m=\u001b[39;49my_inner)\n\u001b[0;32m    486\u001b[0m \u001b[39melse\u001b[39;00m:\n\u001b[0;32m    487\u001b[0m     \u001b[39m# otherwise we call the vectorized version of predict\u001b[39;00m\n\u001b[0;32m    488\u001b[0m     Xt \u001b[39m=\u001b[39m \u001b[39mself\u001b[39m\u001b[39m.\u001b[39m_vectorize(\u001b[39m\"\u001b[39m\u001b[39mtransform\u001b[39m\u001b[39m\"\u001b[39m, X\u001b[39m=\u001b[39mX_inner, y\u001b[39m=\u001b[39my_inner)\n",
      "File \u001b[1;32mc:\\Users\\kyunomi\\anaconda3\\envs\\cogpilot\\lib\\site-packages\\sktime\\transformations\\compose.py:344\u001b[0m, in \u001b[0;36mTransformerPipeline._transform\u001b[1;34m(self, X, y)\u001b[0m\n\u001b[0;32m    342\u001b[0m \u001b[39mfor\u001b[39;00m _, transformer \u001b[39min\u001b[39;00m \u001b[39mself\u001b[39m\u001b[39m.\u001b[39msteps_:\n\u001b[0;32m    343\u001b[0m     \u001b[39mif\u001b[39;00m \u001b[39mnot\u001b[39;00m \u001b[39mself\u001b[39m\u001b[39m.\u001b[39mget_tag(\u001b[39m\"\u001b[39m\u001b[39mfit_is_empty\u001b[39m\u001b[39m\"\u001b[39m, \u001b[39mFalse\u001b[39;00m):\n\u001b[1;32m--> 344\u001b[0m         Xt \u001b[39m=\u001b[39m transformer\u001b[39m.\u001b[39;49mtransform(X\u001b[39m=\u001b[39;49mXt, y\u001b[39m=\u001b[39;49my)\n\u001b[0;32m    345\u001b[0m     \u001b[39melse\u001b[39;00m:\n\u001b[0;32m    346\u001b[0m         Xt \u001b[39m=\u001b[39m transformer\u001b[39m.\u001b[39mfit_transform(X\u001b[39m=\u001b[39mXt, y\u001b[39m=\u001b[39my)\n",
      "File \u001b[1;32mc:\\Users\\kyunomi\\anaconda3\\envs\\cogpilot\\lib\\site-packages\\sktime\\transformations\\base.py:492\u001b[0m, in \u001b[0;36mBaseTransformer.transform\u001b[1;34m(self, X, y)\u001b[0m\n\u001b[0;32m    490\u001b[0m \u001b[39m# convert to output mtype\u001b[39;00m\n\u001b[0;32m    491\u001b[0m \u001b[39mif\u001b[39;00m \u001b[39mnot\u001b[39;00m \u001b[39mhasattr\u001b[39m(\u001b[39mself\u001b[39m, \u001b[39m\"\u001b[39m\u001b[39m_output_convert\u001b[39m\u001b[39m\"\u001b[39m) \u001b[39mor\u001b[39;00m \u001b[39mself\u001b[39m\u001b[39m.\u001b[39m_output_convert \u001b[39m==\u001b[39m \u001b[39m\"\u001b[39m\u001b[39mauto\u001b[39m\u001b[39m\"\u001b[39m:\n\u001b[1;32m--> 492\u001b[0m     X_out \u001b[39m=\u001b[39m \u001b[39mself\u001b[39;49m\u001b[39m.\u001b[39;49m_convert_output(Xt, metadata\u001b[39m=\u001b[39;49mmetadata)\n\u001b[0;32m    493\u001b[0m \u001b[39melse\u001b[39;00m:\n\u001b[0;32m    494\u001b[0m     X_out \u001b[39m=\u001b[39m Xt\n",
      "File \u001b[1;32mc:\\Users\\kyunomi\\anaconda3\\envs\\cogpilot\\lib\\site-packages\\sktime\\transformations\\base.py:1041\u001b[0m, in \u001b[0;36mBaseTransformer._convert_output\u001b[1;34m(self, X, metadata, inverse)\u001b[0m\n\u001b[0;32m   1038\u001b[0m         \u001b[39mif\u001b[39;00m \u001b[39mnot\u001b[39;00m metadata[\u001b[39m\"\u001b[39m\u001b[39mis_univariate\u001b[39m\u001b[39m\"\u001b[39m] \u001b[39mand\u001b[39;00m X_input_mtype \u001b[39m==\u001b[39m \u001b[39m\"\u001b[39m\u001b[39mpd.Series\u001b[39m\u001b[39m\"\u001b[39m:\n\u001b[0;32m   1039\u001b[0m             X_output_mtype \u001b[39m=\u001b[39m \u001b[39m\"\u001b[39m\u001b[39mpd.DataFrame\u001b[39m\u001b[39m\"\u001b[39m\n\u001b[1;32m-> 1041\u001b[0m     Xt \u001b[39m=\u001b[39m convert_to(\n\u001b[0;32m   1042\u001b[0m         Xt,\n\u001b[0;32m   1043\u001b[0m         to_type\u001b[39m=\u001b[39;49mX_output_mtype,\n\u001b[0;32m   1044\u001b[0m         as_scitype\u001b[39m=\u001b[39;49mX_input_scitype,\n\u001b[0;32m   1045\u001b[0m         store\u001b[39m=\u001b[39;49m_converter_store_X,\n\u001b[0;32m   1046\u001b[0m         store_behaviour\u001b[39m=\u001b[39;49m\u001b[39m\"\u001b[39;49m\u001b[39mfreeze\u001b[39;49m\u001b[39m\"\u001b[39;49m,\n\u001b[0;32m   1047\u001b[0m     )\n\u001b[0;32m   1048\u001b[0m \u001b[39melif\u001b[39;00m output_scitype \u001b[39m==\u001b[39m \u001b[39m\"\u001b[39m\u001b[39mPrimitives\u001b[39m\u001b[39m\"\u001b[39m:\n\u001b[0;32m   1049\u001b[0m     \u001b[39m# we ensure the output is pd_DataFrame_Table\u001b[39;00m\n\u001b[0;32m   1050\u001b[0m     \u001b[39m# & ensure the returned index is sensible\u001b[39;00m\n\u001b[0;32m   1051\u001b[0m     \u001b[39m# for return index, we need to deal with last level, constant 0\u001b[39;00m\n\u001b[0;32m   1052\u001b[0m     \u001b[39mif\u001b[39;00m \u001b[39misinstance\u001b[39m(Xt, (pd\u001b[39m.\u001b[39mDataFrame, pd\u001b[39m.\u001b[39mSeries)):\n\u001b[0;32m   1053\u001b[0m         \u001b[39m# if index is multiindex, last level is constant 0\u001b[39;00m\n\u001b[0;32m   1054\u001b[0m         \u001b[39m# and other levels are hierarchy\u001b[39;00m\n",
      "File \u001b[1;32mc:\\Users\\kyunomi\\anaconda3\\envs\\cogpilot\\lib\\site-packages\\sktime\\datatypes\\_convert.py:241\u001b[0m, in \u001b[0;36mconvert_to\u001b[1;34m(obj, to_type, as_scitype, store, store_behaviour)\u001b[0m\n\u001b[0;32m    238\u001b[0m     as_scitype \u001b[39m=\u001b[39m mtype_to_scitype(to_type)\n\u001b[0;32m    240\u001b[0m \u001b[39m# now further narrow down as_scitype by inference from the obj\u001b[39;00m\n\u001b[1;32m--> 241\u001b[0m from_type \u001b[39m=\u001b[39m infer_mtype(obj\u001b[39m=\u001b[39;49mobj, as_scitype\u001b[39m=\u001b[39;49mas_scitype)\n\u001b[0;32m    242\u001b[0m as_scitype \u001b[39m=\u001b[39m mtype_to_scitype(from_type)\n\u001b[0;32m    244\u001b[0m \u001b[39m# if to_type is a list, we do the following:\u001b[39;00m\n\u001b[0;32m    245\u001b[0m \u001b[39m# if on the list, then don't do a conversion (convert to from_type)\u001b[39;00m\n\u001b[0;32m    246\u001b[0m \u001b[39m# if not on the list, we find and convert to first mtype that has same scitype\u001b[39;00m\n",
      "File \u001b[1;32mc:\\Users\\kyunomi\\anaconda3\\envs\\cogpilot\\lib\\site-packages\\sktime\\datatypes\\_check.py:306\u001b[0m, in \u001b[0;36mmtype\u001b[1;34m(obj, as_scitype, exclude_mtypes)\u001b[0m\n\u001b[0;32m    303\u001b[0m mtypes_negative \u001b[39m=\u001b[39m \u001b[39mdict\u001b[39m()\n\u001b[0;32m    305\u001b[0m \u001b[39mfor\u001b[39;00m m_plus_scitype \u001b[39min\u001b[39;00m m_plus_scitypes:\n\u001b[1;32m--> 306\u001b[0m     valid, msg, _ \u001b[39m=\u001b[39m check_is_mtype(\n\u001b[0;32m    307\u001b[0m         obj,\n\u001b[0;32m    308\u001b[0m         mtype\u001b[39m=\u001b[39;49mm_plus_scitype[\u001b[39m0\u001b[39;49m],\n\u001b[0;32m    309\u001b[0m         scitype\u001b[39m=\u001b[39;49mm_plus_scitype[\u001b[39m1\u001b[39;49m],\n\u001b[0;32m    310\u001b[0m         return_metadata\u001b[39m=\u001b[39;49m\u001b[39mTrue\u001b[39;49;00m,\n\u001b[0;32m    311\u001b[0m     )\n\u001b[0;32m    312\u001b[0m     \u001b[39mif\u001b[39;00m valid:\n\u001b[0;32m    313\u001b[0m         mtypes_positive \u001b[39m+\u001b[39m\u001b[39m=\u001b[39m [m_plus_scitype[\u001b[39m0\u001b[39m]]\n",
      "File \u001b[1;32mc:\\Users\\kyunomi\\anaconda3\\envs\\cogpilot\\lib\\site-packages\\sktime\\datatypes\\_check.py:177\u001b[0m, in \u001b[0;36mcheck_is_mtype\u001b[1;34m(obj, mtype, scitype, return_metadata, var_name)\u001b[0m\n\u001b[0;32m    174\u001b[0m \u001b[39mif\u001b[39;00m (m, scitype_of_m) \u001b[39mnot\u001b[39;00m \u001b[39min\u001b[39;00m valid_keys:\n\u001b[0;32m    175\u001b[0m     \u001b[39mraise\u001b[39;00m \u001b[39mTypeError\u001b[39;00m(\u001b[39mf\u001b[39m\u001b[39m\"\u001b[39m\u001b[39mno check defined for mtype \u001b[39m\u001b[39m{\u001b[39;00mm\u001b[39m}\u001b[39;00m\u001b[39m, scitype \u001b[39m\u001b[39m{\u001b[39;00mscitype_of_m\u001b[39m}\u001b[39;00m\u001b[39m\"\u001b[39m)\n\u001b[1;32m--> 177\u001b[0m res \u001b[39m=\u001b[39m check_dict[key](obj, return_metadata\u001b[39m=\u001b[39;49mreturn_metadata, var_name\u001b[39m=\u001b[39;49mvar_name)\n\u001b[0;32m    179\u001b[0m \u001b[39mif\u001b[39;00m return_metadata:\n\u001b[0;32m    180\u001b[0m     check_passed \u001b[39m=\u001b[39m res[\u001b[39m0\u001b[39m]\n",
      "File \u001b[1;32mc:\\Users\\kyunomi\\anaconda3\\envs\\cogpilot\\lib\\site-packages\\sktime\\datatypes\\_panel\\_check.py:384\u001b[0m, in \u001b[0;36mis_nested_dataframe\u001b[1;34m(obj, return_metadata, var_name)\u001b[0m\n\u001b[0;32m    382\u001b[0m metadata[\u001b[39m\"\u001b[39m\u001b[39mis_one_panel\u001b[39m\u001b[39m\"\u001b[39m] \u001b[39m=\u001b[39m \u001b[39mTrue\u001b[39;00m\n\u001b[0;32m    383\u001b[0m \u001b[39mif\u001b[39;00m return_metadata:\n\u001b[1;32m--> 384\u001b[0m     metadata[\u001b[39m\"\u001b[39m\u001b[39mhas_nans\u001b[39m\u001b[39m\"\u001b[39m] \u001b[39m=\u001b[39m _nested_dataframe_has_nans(obj)\n\u001b[0;32m    385\u001b[0m     metadata[\u001b[39m\"\u001b[39m\u001b[39mis_equal_length\u001b[39m\u001b[39m\"\u001b[39m] \u001b[39m=\u001b[39m \u001b[39mnot\u001b[39;00m _nested_dataframe_has_unequal(obj)\n\u001b[0;32m    387\u001b[0m \u001b[39m# todo: this is temporary override, proper is_empty logic needs to be added\u001b[39;00m\n",
      "File \u001b[1;32mc:\\Users\\kyunomi\\anaconda3\\envs\\cogpilot\\lib\\site-packages\\sktime\\datatypes\\_panel\\_check.py:329\u001b[0m, in \u001b[0;36m_nested_dataframe_has_nans\u001b[1;34m(X)\u001b[0m\n\u001b[0;32m    327\u001b[0m \u001b[39mif\u001b[39;00m \u001b[39mhasattr\u001b[39m(s, \u001b[39m\"\u001b[39m\u001b[39msize\u001b[39m\u001b[39m\"\u001b[39m):\n\u001b[0;32m    328\u001b[0m     \u001b[39mfor\u001b[39;00m k \u001b[39min\u001b[39;00m \u001b[39mrange\u001b[39m(s\u001b[39m.\u001b[39msize):\n\u001b[1;32m--> 329\u001b[0m         \u001b[39mif\u001b[39;00m pd\u001b[39m.\u001b[39misna(s\u001b[39m.\u001b[39;49miloc[k]):\n\u001b[0;32m    330\u001b[0m             \u001b[39mreturn\u001b[39;00m \u001b[39mTrue\u001b[39;00m\n\u001b[0;32m    331\u001b[0m \u001b[39melif\u001b[39;00m pd\u001b[39m.\u001b[39misna(s):\n",
      "File \u001b[1;32mc:\\Users\\kyunomi\\anaconda3\\envs\\cogpilot\\lib\\site-packages\\pandas\\core\\indexing.py:931\u001b[0m, in \u001b[0;36m_LocationIndexer.__getitem__\u001b[1;34m(self, key)\u001b[0m\n\u001b[0;32m    928\u001b[0m axis \u001b[39m=\u001b[39m \u001b[39mself\u001b[39m\u001b[39m.\u001b[39maxis \u001b[39mor\u001b[39;00m \u001b[39m0\u001b[39m\n\u001b[0;32m    930\u001b[0m maybe_callable \u001b[39m=\u001b[39m com\u001b[39m.\u001b[39mapply_if_callable(key, \u001b[39mself\u001b[39m\u001b[39m.\u001b[39mobj)\n\u001b[1;32m--> 931\u001b[0m \u001b[39mreturn\u001b[39;00m \u001b[39mself\u001b[39;49m\u001b[39m.\u001b[39;49m_getitem_axis(maybe_callable, axis\u001b[39m=\u001b[39;49maxis)\n",
      "File \u001b[1;32mc:\\Users\\kyunomi\\anaconda3\\envs\\cogpilot\\lib\\site-packages\\pandas\\core\\indexing.py:1568\u001b[0m, in \u001b[0;36m_iLocIndexer._getitem_axis\u001b[1;34m(self, key, axis)\u001b[0m\n\u001b[0;32m   1565\u001b[0m \u001b[39m# validate the location\u001b[39;00m\n\u001b[0;32m   1566\u001b[0m \u001b[39mself\u001b[39m\u001b[39m.\u001b[39m_validate_integer(key, axis)\n\u001b[1;32m-> 1568\u001b[0m \u001b[39mreturn\u001b[39;00m \u001b[39mself\u001b[39;49m\u001b[39m.\u001b[39;49mobj\u001b[39m.\u001b[39;49m_ixs(key, axis\u001b[39m=\u001b[39maxis)\n",
      "\u001b[1;31mKeyboardInterrupt\u001b[0m: "
     ]
    }
   ],
   "source": [
    "run_model(\n",
    "  \"RandomIntervalClassifier\", \n",
    "  lambda: RandomIntervalClassifier(n_intervals=5, n_jobs=1, random_state = 42),\n",
    "  padding = True,\n",
    "  fold = 0\n",
    "  )"
   ]
  },
  {
   "cell_type": "code",
   "execution_count": 28,
   "metadata": {},
   "outputs": [
    {
     "data": {
      "text/html": [
       "<div>\n",
       "<style scoped>\n",
       "    .dataframe tbody tr th:only-of-type {\n",
       "        vertical-align: middle;\n",
       "    }\n",
       "\n",
       "    .dataframe tbody tr th {\n",
       "        vertical-align: top;\n",
       "    }\n",
       "\n",
       "    .dataframe thead th {\n",
       "        text-align: right;\n",
       "    }\n",
       "</style>\n",
       "<table border=\"1\" class=\"dataframe\">\n",
       "  <thead>\n",
       "    <tr style=\"text-align: right;\">\n",
       "      <th></th>\n",
       "      <th>classifier</th>\n",
       "      <th>accuracy_score</th>\n",
       "      <th>AUC_score</th>\n",
       "      <th>F1_score</th>\n",
       "      <th>runtime(s)</th>\n",
       "    </tr>\n",
       "  </thead>\n",
       "  <tbody>\n",
       "    <tr>\n",
       "      <th>0</th>\n",
       "      <td>RandomIntervalClassifier</td>\n",
       "      <td>0.44898</td>\n",
       "      <td>0.712098</td>\n",
       "      <td>0.44898</td>\n",
       "      <td>2665.528686</td>\n",
       "    </tr>\n",
       "  </tbody>\n",
       "</table>\n",
       "</div>"
      ],
      "text/plain": [
       "                 classifier  accuracy_score  AUC_score  F1_score   runtime(s)\n",
       "0  RandomIntervalClassifier         0.44898   0.712098   0.44898  2665.528686"
      ]
     },
     "metadata": {},
     "output_type": "display_data"
    }
   ],
   "source": [
    "run_model(\n",
    "  \"RandomIntervalClassifier\", \n",
    "  lambda: RandomIntervalClassifier(n_intervals=5, n_jobs=1, random_state = 42),\n",
    "  padding = True,\n",
    "  fold = 0\n",
    "  )"
   ]
  },
  {
   "cell_type": "markdown",
   "metadata": {},
   "source": [
    "## Decision Trees with mean, std, slope\n"
   ]
  },
  {
   "cell_type": "code",
   "execution_count": 29,
   "metadata": {},
   "outputs": [],
   "source": [
    "steps = [\n",
    "    (\"padding\",PaddingTransformer()),\n",
    "    (\n",
    "        \"extract\",\n",
    "        RandomIntervalFeatureExtractor(\n",
    "            n_intervals=\"sqrt\", features=[np.mean, np.std, _slope]\n",
    "        ),\n",
    "    ),\n",
    "    (\"clf\", DecisionTreeClassifier()),\n",
    "]\n",
    "time_series_tree = Pipeline(steps)"
   ]
  },
  {
   "cell_type": "code",
   "execution_count": 30,
   "metadata": {},
   "outputs": [
    {
     "data": {
      "text/html": [
       "<div>\n",
       "<style scoped>\n",
       "    .dataframe tbody tr th:only-of-type {\n",
       "        vertical-align: middle;\n",
       "    }\n",
       "\n",
       "    .dataframe tbody tr th {\n",
       "        vertical-align: top;\n",
       "    }\n",
       "\n",
       "    .dataframe thead th {\n",
       "        text-align: right;\n",
       "    }\n",
       "</style>\n",
       "<table border=\"1\" class=\"dataframe\">\n",
       "  <thead>\n",
       "    <tr style=\"text-align: right;\">\n",
       "      <th></th>\n",
       "      <th>classifier</th>\n",
       "      <th>accuracy_score</th>\n",
       "      <th>AUC_score</th>\n",
       "      <th>F1_score</th>\n",
       "      <th>runtime(s)</th>\n",
       "    </tr>\n",
       "  </thead>\n",
       "  <tbody>\n",
       "    <tr>\n",
       "      <th>0</th>\n",
       "      <td>RandomIntervalClassifier</td>\n",
       "      <td>0.448980</td>\n",
       "      <td>0.712098</td>\n",
       "      <td>0.448980</td>\n",
       "      <td>2665.528686</td>\n",
       "    </tr>\n",
       "    <tr>\n",
       "      <th>1</th>\n",
       "      <td>RandomeIntervalDecisionTree</td>\n",
       "      <td>0.459184</td>\n",
       "      <td>0.669589</td>\n",
       "      <td>0.459184</td>\n",
       "      <td>4584.890491</td>\n",
       "    </tr>\n",
       "  </tbody>\n",
       "</table>\n",
       "</div>"
      ],
      "text/plain": [
       "                    classifier  accuracy_score  AUC_score  F1_score  \\\n",
       "0     RandomIntervalClassifier        0.448980   0.712098  0.448980   \n",
       "1  RandomeIntervalDecisionTree        0.459184   0.669589  0.459184   \n",
       "\n",
       "    runtime(s)  \n",
       "0  2665.528686  \n",
       "1  4584.890491  "
      ]
     },
     "metadata": {},
     "output_type": "display_data"
    }
   ],
   "source": [
    "start = time.time()\n",
    "time_series_tree.fit(X_train[0], y_train[0])\n",
    "y_pred_proba = time_series_tree.predict_proba(X_test[0])\n",
    "end = time.time()\n",
    "log_result('RandomeIntervalDecisionTree',time_series_tree.classes_, y_test[0], y_pred_proba, end-start)"
   ]
  },
  {
   "cell_type": "markdown",
   "metadata": {},
   "source": [
    "## Individual Boss\n"
   ]
  },
  {
   "cell_type": "code",
   "execution_count": 31,
   "metadata": {},
   "outputs": [
    {
     "data": {
      "text/html": [
       "<div>\n",
       "<style scoped>\n",
       "    .dataframe tbody tr th:only-of-type {\n",
       "        vertical-align: middle;\n",
       "    }\n",
       "\n",
       "    .dataframe tbody tr th {\n",
       "        vertical-align: top;\n",
       "    }\n",
       "\n",
       "    .dataframe thead th {\n",
       "        text-align: right;\n",
       "    }\n",
       "</style>\n",
       "<table border=\"1\" class=\"dataframe\">\n",
       "  <thead>\n",
       "    <tr style=\"text-align: right;\">\n",
       "      <th></th>\n",
       "      <th>classifier</th>\n",
       "      <th>accuracy_score</th>\n",
       "      <th>AUC_score</th>\n",
       "      <th>F1_score</th>\n",
       "      <th>runtime(s)</th>\n",
       "    </tr>\n",
       "  </thead>\n",
       "  <tbody>\n",
       "    <tr>\n",
       "      <th>0</th>\n",
       "      <td>RandomIntervalClassifier</td>\n",
       "      <td>0.448980</td>\n",
       "      <td>0.712098</td>\n",
       "      <td>0.448980</td>\n",
       "      <td>2665.528686</td>\n",
       "    </tr>\n",
       "    <tr>\n",
       "      <th>1</th>\n",
       "      <td>RandomeIntervalDecisionTree</td>\n",
       "      <td>0.459184</td>\n",
       "      <td>0.669589</td>\n",
       "      <td>0.459184</td>\n",
       "      <td>4584.890491</td>\n",
       "    </tr>\n",
       "    <tr>\n",
       "      <th>2</th>\n",
       "      <td>IndividualBOSS</td>\n",
       "      <td>0.224490</td>\n",
       "      <td>0.516234</td>\n",
       "      <td>0.224490</td>\n",
       "      <td>2147.196138</td>\n",
       "    </tr>\n",
       "  </tbody>\n",
       "</table>\n",
       "</div>"
      ],
      "text/plain": [
       "                    classifier  accuracy_score  AUC_score  F1_score  \\\n",
       "0     RandomIntervalClassifier        0.448980   0.712098  0.448980   \n",
       "1  RandomeIntervalDecisionTree        0.459184   0.669589  0.459184   \n",
       "2               IndividualBOSS        0.224490   0.516234  0.224490   \n",
       "\n",
       "    runtime(s)  \n",
       "0  2665.528686  \n",
       "1  4584.890491  \n",
       "2  2147.196138  "
      ]
     },
     "metadata": {},
     "output_type": "display_data"
    }
   ],
   "source": [
    "run_model(\n",
    "  \"IndividualBOSS\", \n",
    "  lambda: IndividualBOSS(),\n",
    "  padding = True,\n",
    "  fold = 0\n",
    "  )"
   ]
  },
  {
   "attachments": {},
   "cell_type": "markdown",
   "metadata": {},
   "source": [
    "## ContractableBoss"
   ]
  },
  {
   "cell_type": "code",
   "execution_count": 32,
   "metadata": {},
   "outputs": [
    {
     "data": {
      "text/html": [
       "<div>\n",
       "<style scoped>\n",
       "    .dataframe tbody tr th:only-of-type {\n",
       "        vertical-align: middle;\n",
       "    }\n",
       "\n",
       "    .dataframe tbody tr th {\n",
       "        vertical-align: top;\n",
       "    }\n",
       "\n",
       "    .dataframe thead th {\n",
       "        text-align: right;\n",
       "    }\n",
       "</style>\n",
       "<table border=\"1\" class=\"dataframe\">\n",
       "  <thead>\n",
       "    <tr style=\"text-align: right;\">\n",
       "      <th></th>\n",
       "      <th>classifier</th>\n",
       "      <th>accuracy_score</th>\n",
       "      <th>AUC_score</th>\n",
       "      <th>F1_score</th>\n",
       "      <th>runtime(s)</th>\n",
       "    </tr>\n",
       "  </thead>\n",
       "  <tbody>\n",
       "    <tr>\n",
       "      <th>0</th>\n",
       "      <td>RandomIntervalClassifier</td>\n",
       "      <td>0.448980</td>\n",
       "      <td>0.712098</td>\n",
       "      <td>0.448980</td>\n",
       "      <td>2665.528686</td>\n",
       "    </tr>\n",
       "    <tr>\n",
       "      <th>1</th>\n",
       "      <td>RandomeIntervalDecisionTree</td>\n",
       "      <td>0.459184</td>\n",
       "      <td>0.669589</td>\n",
       "      <td>0.459184</td>\n",
       "      <td>4584.890491</td>\n",
       "    </tr>\n",
       "    <tr>\n",
       "      <th>2</th>\n",
       "      <td>IndividualBOSS</td>\n",
       "      <td>0.224490</td>\n",
       "      <td>0.516234</td>\n",
       "      <td>0.224490</td>\n",
       "      <td>2147.196138</td>\n",
       "    </tr>\n",
       "    <tr>\n",
       "      <th>3</th>\n",
       "      <td>ContractableBOSS</td>\n",
       "      <td>0.214286</td>\n",
       "      <td>0.536054</td>\n",
       "      <td>0.214286</td>\n",
       "      <td>2236.196237</td>\n",
       "    </tr>\n",
       "  </tbody>\n",
       "</table>\n",
       "</div>"
      ],
      "text/plain": [
       "                    classifier  accuracy_score  AUC_score  F1_score  \\\n",
       "0     RandomIntervalClassifier        0.448980   0.712098  0.448980   \n",
       "1  RandomeIntervalDecisionTree        0.459184   0.669589  0.459184   \n",
       "2               IndividualBOSS        0.224490   0.516234  0.224490   \n",
       "3             ContractableBOSS        0.214286   0.536054  0.214286   \n",
       "\n",
       "    runtime(s)  \n",
       "0  2665.528686  \n",
       "1  4584.890491  \n",
       "2  2147.196138  \n",
       "3  2236.196237  "
      ]
     },
     "metadata": {},
     "output_type": "display_data"
    }
   ],
   "source": [
    "run_model(\n",
    "  \"ContractableBOSS\", \n",
    "  lambda: ContractableBOSS(n_parameter_samples=10, max_ensemble_size=3),\n",
    "  padding = True,\n",
    "  fold = 0\n",
    "  )"
   ]
  },
  {
   "attachments": {},
   "cell_type": "markdown",
   "metadata": {},
   "source": [
    "## Random Interval Spectral Ensemble"
   ]
  },
  {
   "cell_type": "code",
   "execution_count": 33,
   "metadata": {},
   "outputs": [
    {
     "data": {
      "text/html": [
       "<div>\n",
       "<style scoped>\n",
       "    .dataframe tbody tr th:only-of-type {\n",
       "        vertical-align: middle;\n",
       "    }\n",
       "\n",
       "    .dataframe tbody tr th {\n",
       "        vertical-align: top;\n",
       "    }\n",
       "\n",
       "    .dataframe thead th {\n",
       "        text-align: right;\n",
       "    }\n",
       "</style>\n",
       "<table border=\"1\" class=\"dataframe\">\n",
       "  <thead>\n",
       "    <tr style=\"text-align: right;\">\n",
       "      <th></th>\n",
       "      <th>classifier</th>\n",
       "      <th>accuracy_score</th>\n",
       "      <th>AUC_score</th>\n",
       "      <th>F1_score</th>\n",
       "      <th>runtime(s)</th>\n",
       "    </tr>\n",
       "  </thead>\n",
       "  <tbody>\n",
       "    <tr>\n",
       "      <th>0</th>\n",
       "      <td>RandomIntervalClassifier</td>\n",
       "      <td>0.448980</td>\n",
       "      <td>0.712098</td>\n",
       "      <td>0.448980</td>\n",
       "      <td>2665.528686</td>\n",
       "    </tr>\n",
       "    <tr>\n",
       "      <th>1</th>\n",
       "      <td>RandomeIntervalDecisionTree</td>\n",
       "      <td>0.459184</td>\n",
       "      <td>0.669589</td>\n",
       "      <td>0.459184</td>\n",
       "      <td>4584.890491</td>\n",
       "    </tr>\n",
       "    <tr>\n",
       "      <th>2</th>\n",
       "      <td>IndividualBOSS</td>\n",
       "      <td>0.224490</td>\n",
       "      <td>0.516234</td>\n",
       "      <td>0.224490</td>\n",
       "      <td>2147.196138</td>\n",
       "    </tr>\n",
       "    <tr>\n",
       "      <th>3</th>\n",
       "      <td>ContractableBOSS</td>\n",
       "      <td>0.214286</td>\n",
       "      <td>0.536054</td>\n",
       "      <td>0.214286</td>\n",
       "      <td>2236.196237</td>\n",
       "    </tr>\n",
       "    <tr>\n",
       "      <th>4</th>\n",
       "      <td>RandomIntervalSpectralEnsemble</td>\n",
       "      <td>0.408163</td>\n",
       "      <td>0.703726</td>\n",
       "      <td>0.408163</td>\n",
       "      <td>2305.620849</td>\n",
       "    </tr>\n",
       "  </tbody>\n",
       "</table>\n",
       "</div>"
      ],
      "text/plain": [
       "                       classifier  accuracy_score  AUC_score  F1_score  \\\n",
       "0        RandomIntervalClassifier        0.448980   0.712098  0.448980   \n",
       "1     RandomeIntervalDecisionTree        0.459184   0.669589  0.459184   \n",
       "2                  IndividualBOSS        0.224490   0.516234  0.224490   \n",
       "3                ContractableBOSS        0.214286   0.536054  0.214286   \n",
       "4  RandomIntervalSpectralEnsemble        0.408163   0.703726  0.408163   \n",
       "\n",
       "    runtime(s)  \n",
       "0  2665.528686  \n",
       "1  4584.890491  \n",
       "2  2147.196138  \n",
       "3  2236.196237  \n",
       "4  2305.620849  "
      ]
     },
     "metadata": {},
     "output_type": "display_data"
    }
   ],
   "source": [
    "run_model(\n",
    "  \"RandomIntervalSpectralEnsemble\", \n",
    "  lambda: RandomIntervalSpectralEnsemble(n_estimators=50, random_state=42),\n",
    "  padding = True,\n",
    "  fold = 0\n",
    "  )"
   ]
  },
  {
   "attachments": {},
   "cell_type": "markdown",
   "metadata": {},
   "source": [
    "## Supervised Time Series Forest (STSF)\n"
   ]
  },
  {
   "cell_type": "code",
   "execution_count": 34,
   "metadata": {},
   "outputs": [
    {
     "data": {
      "text/html": [
       "<div>\n",
       "<style scoped>\n",
       "    .dataframe tbody tr th:only-of-type {\n",
       "        vertical-align: middle;\n",
       "    }\n",
       "\n",
       "    .dataframe tbody tr th {\n",
       "        vertical-align: top;\n",
       "    }\n",
       "\n",
       "    .dataframe thead th {\n",
       "        text-align: right;\n",
       "    }\n",
       "</style>\n",
       "<table border=\"1\" class=\"dataframe\">\n",
       "  <thead>\n",
       "    <tr style=\"text-align: right;\">\n",
       "      <th></th>\n",
       "      <th>classifier</th>\n",
       "      <th>accuracy_score</th>\n",
       "      <th>AUC_score</th>\n",
       "      <th>F1_score</th>\n",
       "      <th>runtime(s)</th>\n",
       "    </tr>\n",
       "  </thead>\n",
       "  <tbody>\n",
       "    <tr>\n",
       "      <th>0</th>\n",
       "      <td>RandomIntervalClassifier</td>\n",
       "      <td>0.448980</td>\n",
       "      <td>0.712098</td>\n",
       "      <td>0.448980</td>\n",
       "      <td>2665.528686</td>\n",
       "    </tr>\n",
       "    <tr>\n",
       "      <th>1</th>\n",
       "      <td>RandomeIntervalDecisionTree</td>\n",
       "      <td>0.459184</td>\n",
       "      <td>0.669589</td>\n",
       "      <td>0.459184</td>\n",
       "      <td>4584.890491</td>\n",
       "    </tr>\n",
       "    <tr>\n",
       "      <th>2</th>\n",
       "      <td>IndividualBOSS</td>\n",
       "      <td>0.224490</td>\n",
       "      <td>0.516234</td>\n",
       "      <td>0.224490</td>\n",
       "      <td>2147.196138</td>\n",
       "    </tr>\n",
       "    <tr>\n",
       "      <th>3</th>\n",
       "      <td>ContractableBOSS</td>\n",
       "      <td>0.214286</td>\n",
       "      <td>0.536054</td>\n",
       "      <td>0.214286</td>\n",
       "      <td>2236.196237</td>\n",
       "    </tr>\n",
       "    <tr>\n",
       "      <th>4</th>\n",
       "      <td>RandomIntervalSpectralEnsemble</td>\n",
       "      <td>0.408163</td>\n",
       "      <td>0.703726</td>\n",
       "      <td>0.408163</td>\n",
       "      <td>2305.620849</td>\n",
       "    </tr>\n",
       "    <tr>\n",
       "      <th>5</th>\n",
       "      <td>SupervisedTimeSeriesForest</td>\n",
       "      <td>0.540816</td>\n",
       "      <td>0.776268</td>\n",
       "      <td>0.540816</td>\n",
       "      <td>2511.660846</td>\n",
       "    </tr>\n",
       "  </tbody>\n",
       "</table>\n",
       "</div>"
      ],
      "text/plain": [
       "                       classifier  accuracy_score  AUC_score  F1_score  \\\n",
       "0        RandomIntervalClassifier        0.448980   0.712098  0.448980   \n",
       "1     RandomeIntervalDecisionTree        0.459184   0.669589  0.459184   \n",
       "2                  IndividualBOSS        0.224490   0.516234  0.224490   \n",
       "3                ContractableBOSS        0.214286   0.536054  0.214286   \n",
       "4  RandomIntervalSpectralEnsemble        0.408163   0.703726  0.408163   \n",
       "5      SupervisedTimeSeriesForest        0.540816   0.776268  0.540816   \n",
       "\n",
       "    runtime(s)  \n",
       "0  2665.528686  \n",
       "1  4584.890491  \n",
       "2  2147.196138  \n",
       "3  2236.196237  \n",
       "4  2305.620849  \n",
       "5  2511.660846  "
      ]
     },
     "metadata": {},
     "output_type": "display_data"
    }
   ],
   "source": [
    "run_model(\n",
    "  \"SupervisedTimeSeriesForest\", \n",
    "  lambda: SupervisedTimeSeriesForest(n_estimators=50, random_state=42),\n",
    "  padding = True,\n",
    "  fold = 0\n",
    "  )"
   ]
  },
  {
   "attachments": {},
   "cell_type": "markdown",
   "metadata": {},
   "source": [
    "## Canonical Interval Forest (CIF)"
   ]
  },
  {
   "cell_type": "code",
   "execution_count": 35,
   "metadata": {},
   "outputs": [
    {
     "data": {
      "text/html": [
       "<div>\n",
       "<style scoped>\n",
       "    .dataframe tbody tr th:only-of-type {\n",
       "        vertical-align: middle;\n",
       "    }\n",
       "\n",
       "    .dataframe tbody tr th {\n",
       "        vertical-align: top;\n",
       "    }\n",
       "\n",
       "    .dataframe thead th {\n",
       "        text-align: right;\n",
       "    }\n",
       "</style>\n",
       "<table border=\"1\" class=\"dataframe\">\n",
       "  <thead>\n",
       "    <tr style=\"text-align: right;\">\n",
       "      <th></th>\n",
       "      <th>classifier</th>\n",
       "      <th>accuracy_score</th>\n",
       "      <th>AUC_score</th>\n",
       "      <th>F1_score</th>\n",
       "      <th>runtime(s)</th>\n",
       "    </tr>\n",
       "  </thead>\n",
       "  <tbody>\n",
       "    <tr>\n",
       "      <th>0</th>\n",
       "      <td>RandomIntervalClassifier</td>\n",
       "      <td>0.448980</td>\n",
       "      <td>0.712098</td>\n",
       "      <td>0.448980</td>\n",
       "      <td>2665.528686</td>\n",
       "    </tr>\n",
       "    <tr>\n",
       "      <th>1</th>\n",
       "      <td>RandomeIntervalDecisionTree</td>\n",
       "      <td>0.459184</td>\n",
       "      <td>0.669589</td>\n",
       "      <td>0.459184</td>\n",
       "      <td>4584.890491</td>\n",
       "    </tr>\n",
       "    <tr>\n",
       "      <th>2</th>\n",
       "      <td>IndividualBOSS</td>\n",
       "      <td>0.224490</td>\n",
       "      <td>0.516234</td>\n",
       "      <td>0.224490</td>\n",
       "      <td>2147.196138</td>\n",
       "    </tr>\n",
       "    <tr>\n",
       "      <th>3</th>\n",
       "      <td>ContractableBOSS</td>\n",
       "      <td>0.214286</td>\n",
       "      <td>0.536054</td>\n",
       "      <td>0.214286</td>\n",
       "      <td>2236.196237</td>\n",
       "    </tr>\n",
       "    <tr>\n",
       "      <th>4</th>\n",
       "      <td>RandomIntervalSpectralEnsemble</td>\n",
       "      <td>0.408163</td>\n",
       "      <td>0.703726</td>\n",
       "      <td>0.408163</td>\n",
       "      <td>2305.620849</td>\n",
       "    </tr>\n",
       "    <tr>\n",
       "      <th>5</th>\n",
       "      <td>SupervisedTimeSeriesForest</td>\n",
       "      <td>0.540816</td>\n",
       "      <td>0.776268</td>\n",
       "      <td>0.540816</td>\n",
       "      <td>2511.660846</td>\n",
       "    </tr>\n",
       "    <tr>\n",
       "      <th>6</th>\n",
       "      <td>CanonicalIntervalForest</td>\n",
       "      <td>0.448980</td>\n",
       "      <td>0.733673</td>\n",
       "      <td>0.448980</td>\n",
       "      <td>19594.243454</td>\n",
       "    </tr>\n",
       "  </tbody>\n",
       "</table>\n",
       "</div>"
      ],
      "text/plain": [
       "                       classifier  accuracy_score  AUC_score  F1_score  \\\n",
       "0        RandomIntervalClassifier        0.448980   0.712098  0.448980   \n",
       "1     RandomeIntervalDecisionTree        0.459184   0.669589  0.459184   \n",
       "2                  IndividualBOSS        0.224490   0.516234  0.224490   \n",
       "3                ContractableBOSS        0.214286   0.536054  0.214286   \n",
       "4  RandomIntervalSpectralEnsemble        0.408163   0.703726  0.408163   \n",
       "5      SupervisedTimeSeriesForest        0.540816   0.776268  0.540816   \n",
       "6         CanonicalIntervalForest        0.448980   0.733673  0.448980   \n",
       "\n",
       "     runtime(s)  \n",
       "0   2665.528686  \n",
       "1   4584.890491  \n",
       "2   2147.196138  \n",
       "3   2236.196237  \n",
       "4   2305.620849  \n",
       "5   2511.660846  \n",
       "6  19594.243454  "
      ]
     },
     "metadata": {},
     "output_type": "display_data"
    }
   ],
   "source": [
    "run_model(\n",
    "  \"CanonicalIntervalForest\", \n",
    "  lambda: CanonicalIntervalForest(n_estimators=5, att_subsample_size=10, random_state=42),\n",
    "  padding = True,\n",
    "  fold = 0\n",
    "  )"
   ]
  },
  {
   "attachments": {},
   "cell_type": "markdown",
   "metadata": {},
   "source": [
    "## Diverse Representation Canonical Interval Forest (DrCIF)"
   ]
  },
  {
   "cell_type": "code",
   "execution_count": 36,
   "metadata": {},
   "outputs": [
    {
     "data": {
      "text/html": [
       "<div>\n",
       "<style scoped>\n",
       "    .dataframe tbody tr th:only-of-type {\n",
       "        vertical-align: middle;\n",
       "    }\n",
       "\n",
       "    .dataframe tbody tr th {\n",
       "        vertical-align: top;\n",
       "    }\n",
       "\n",
       "    .dataframe thead th {\n",
       "        text-align: right;\n",
       "    }\n",
       "</style>\n",
       "<table border=\"1\" class=\"dataframe\">\n",
       "  <thead>\n",
       "    <tr style=\"text-align: right;\">\n",
       "      <th></th>\n",
       "      <th>classifier</th>\n",
       "      <th>accuracy_score</th>\n",
       "      <th>AUC_score</th>\n",
       "      <th>F1_score</th>\n",
       "      <th>runtime(s)</th>\n",
       "    </tr>\n",
       "  </thead>\n",
       "  <tbody>\n",
       "    <tr>\n",
       "      <th>0</th>\n",
       "      <td>RandomIntervalClassifier</td>\n",
       "      <td>0.448980</td>\n",
       "      <td>0.712098</td>\n",
       "      <td>0.448980</td>\n",
       "      <td>2665.528686</td>\n",
       "    </tr>\n",
       "    <tr>\n",
       "      <th>1</th>\n",
       "      <td>RandomeIntervalDecisionTree</td>\n",
       "      <td>0.459184</td>\n",
       "      <td>0.669589</td>\n",
       "      <td>0.459184</td>\n",
       "      <td>4584.890491</td>\n",
       "    </tr>\n",
       "    <tr>\n",
       "      <th>2</th>\n",
       "      <td>IndividualBOSS</td>\n",
       "      <td>0.224490</td>\n",
       "      <td>0.516234</td>\n",
       "      <td>0.224490</td>\n",
       "      <td>2147.196138</td>\n",
       "    </tr>\n",
       "    <tr>\n",
       "      <th>3</th>\n",
       "      <td>ContractableBOSS</td>\n",
       "      <td>0.214286</td>\n",
       "      <td>0.536054</td>\n",
       "      <td>0.214286</td>\n",
       "      <td>2236.196237</td>\n",
       "    </tr>\n",
       "    <tr>\n",
       "      <th>4</th>\n",
       "      <td>RandomIntervalSpectralEnsemble</td>\n",
       "      <td>0.408163</td>\n",
       "      <td>0.703726</td>\n",
       "      <td>0.408163</td>\n",
       "      <td>2305.620849</td>\n",
       "    </tr>\n",
       "    <tr>\n",
       "      <th>5</th>\n",
       "      <td>SupervisedTimeSeriesForest</td>\n",
       "      <td>0.540816</td>\n",
       "      <td>0.776268</td>\n",
       "      <td>0.540816</td>\n",
       "      <td>2511.660846</td>\n",
       "    </tr>\n",
       "    <tr>\n",
       "      <th>6</th>\n",
       "      <td>CanonicalIntervalForest</td>\n",
       "      <td>0.448980</td>\n",
       "      <td>0.733673</td>\n",
       "      <td>0.448980</td>\n",
       "      <td>19594.243454</td>\n",
       "    </tr>\n",
       "    <tr>\n",
       "      <th>7</th>\n",
       "      <td>DiverseRepresentationCanonicalIntervalForest</td>\n",
       "      <td>0.397959</td>\n",
       "      <td>0.704252</td>\n",
       "      <td>0.397959</td>\n",
       "      <td>10634.717233</td>\n",
       "    </tr>\n",
       "  </tbody>\n",
       "</table>\n",
       "</div>"
      ],
      "text/plain": [
       "                                     classifier  accuracy_score  AUC_score  \\\n",
       "0                      RandomIntervalClassifier        0.448980   0.712098   \n",
       "1                   RandomeIntervalDecisionTree        0.459184   0.669589   \n",
       "2                                IndividualBOSS        0.224490   0.516234   \n",
       "3                              ContractableBOSS        0.214286   0.536054   \n",
       "4                RandomIntervalSpectralEnsemble        0.408163   0.703726   \n",
       "5                    SupervisedTimeSeriesForest        0.540816   0.776268   \n",
       "6                       CanonicalIntervalForest        0.448980   0.733673   \n",
       "7  DiverseRepresentationCanonicalIntervalForest        0.397959   0.704252   \n",
       "\n",
       "   F1_score    runtime(s)  \n",
       "0  0.448980   2665.528686  \n",
       "1  0.459184   4584.890491  \n",
       "2  0.224490   2147.196138  \n",
       "3  0.214286   2236.196237  \n",
       "4  0.408163   2305.620849  \n",
       "5  0.540816   2511.660846  \n",
       "6  0.448980  19594.243454  \n",
       "7  0.397959  10634.717233  "
      ]
     },
     "metadata": {},
     "output_type": "display_data"
    }
   ],
   "source": [
    "run_model(\n",
    "  \"DiverseRepresentationCanonicalIntervalForest\", \n",
    "  lambda: DrCIF(n_estimators=5, att_subsample_size=10, random_state=42),\n",
    "  padding = True,\n",
    "  fold = 0\n",
    "  )"
   ]
  },
  {
   "attachments": {},
   "cell_type": "markdown",
   "metadata": {},
   "source": [
    "## ShapeletTransformClassifier"
   ]
  },
  {
   "cell_type": "code",
   "execution_count": 37,
   "metadata": {},
   "outputs": [
    {
     "data": {
      "text/html": [
       "<div>\n",
       "<style scoped>\n",
       "    .dataframe tbody tr th:only-of-type {\n",
       "        vertical-align: middle;\n",
       "    }\n",
       "\n",
       "    .dataframe tbody tr th {\n",
       "        vertical-align: top;\n",
       "    }\n",
       "\n",
       "    .dataframe thead th {\n",
       "        text-align: right;\n",
       "    }\n",
       "</style>\n",
       "<table border=\"1\" class=\"dataframe\">\n",
       "  <thead>\n",
       "    <tr style=\"text-align: right;\">\n",
       "      <th></th>\n",
       "      <th>classifier</th>\n",
       "      <th>accuracy_score</th>\n",
       "      <th>AUC_score</th>\n",
       "      <th>F1_score</th>\n",
       "      <th>runtime(s)</th>\n",
       "    </tr>\n",
       "  </thead>\n",
       "  <tbody>\n",
       "    <tr>\n",
       "      <th>0</th>\n",
       "      <td>RandomIntervalClassifier</td>\n",
       "      <td>0.448980</td>\n",
       "      <td>0.712098</td>\n",
       "      <td>0.448980</td>\n",
       "      <td>2665.528686</td>\n",
       "    </tr>\n",
       "    <tr>\n",
       "      <th>1</th>\n",
       "      <td>RandomeIntervalDecisionTree</td>\n",
       "      <td>0.459184</td>\n",
       "      <td>0.669589</td>\n",
       "      <td>0.459184</td>\n",
       "      <td>4584.890491</td>\n",
       "    </tr>\n",
       "    <tr>\n",
       "      <th>2</th>\n",
       "      <td>IndividualBOSS</td>\n",
       "      <td>0.224490</td>\n",
       "      <td>0.516234</td>\n",
       "      <td>0.224490</td>\n",
       "      <td>2147.196138</td>\n",
       "    </tr>\n",
       "    <tr>\n",
       "      <th>3</th>\n",
       "      <td>ContractableBOSS</td>\n",
       "      <td>0.214286</td>\n",
       "      <td>0.536054</td>\n",
       "      <td>0.214286</td>\n",
       "      <td>2236.196237</td>\n",
       "    </tr>\n",
       "    <tr>\n",
       "      <th>4</th>\n",
       "      <td>RandomIntervalSpectralEnsemble</td>\n",
       "      <td>0.408163</td>\n",
       "      <td>0.703726</td>\n",
       "      <td>0.408163</td>\n",
       "      <td>2305.620849</td>\n",
       "    </tr>\n",
       "    <tr>\n",
       "      <th>5</th>\n",
       "      <td>SupervisedTimeSeriesForest</td>\n",
       "      <td>0.540816</td>\n",
       "      <td>0.776268</td>\n",
       "      <td>0.540816</td>\n",
       "      <td>2511.660846</td>\n",
       "    </tr>\n",
       "    <tr>\n",
       "      <th>6</th>\n",
       "      <td>CanonicalIntervalForest</td>\n",
       "      <td>0.448980</td>\n",
       "      <td>0.733673</td>\n",
       "      <td>0.448980</td>\n",
       "      <td>19594.243454</td>\n",
       "    </tr>\n",
       "    <tr>\n",
       "      <th>7</th>\n",
       "      <td>DiverseRepresentationCanonicalIntervalForest</td>\n",
       "      <td>0.397959</td>\n",
       "      <td>0.704252</td>\n",
       "      <td>0.397959</td>\n",
       "      <td>10634.717233</td>\n",
       "    </tr>\n",
       "    <tr>\n",
       "      <th>8</th>\n",
       "      <td>ShapeletTransformClassifier</td>\n",
       "      <td>0.224490</td>\n",
       "      <td>0.509848</td>\n",
       "      <td>0.224490</td>\n",
       "      <td>13577.179583</td>\n",
       "    </tr>\n",
       "  </tbody>\n",
       "</table>\n",
       "</div>"
      ],
      "text/plain": [
       "                                     classifier  accuracy_score  AUC_score  \\\n",
       "0                      RandomIntervalClassifier        0.448980   0.712098   \n",
       "1                   RandomeIntervalDecisionTree        0.459184   0.669589   \n",
       "2                                IndividualBOSS        0.224490   0.516234   \n",
       "3                              ContractableBOSS        0.214286   0.536054   \n",
       "4                RandomIntervalSpectralEnsemble        0.408163   0.703726   \n",
       "5                    SupervisedTimeSeriesForest        0.540816   0.776268   \n",
       "6                       CanonicalIntervalForest        0.448980   0.733673   \n",
       "7  DiverseRepresentationCanonicalIntervalForest        0.397959   0.704252   \n",
       "8                   ShapeletTransformClassifier        0.224490   0.509848   \n",
       "\n",
       "   F1_score    runtime(s)  \n",
       "0  0.448980   2665.528686  \n",
       "1  0.459184   4584.890491  \n",
       "2  0.224490   2147.196138  \n",
       "3  0.214286   2236.196237  \n",
       "4  0.408163   2305.620849  \n",
       "5  0.540816   2511.660846  \n",
       "6  0.448980  19594.243454  \n",
       "7  0.397959  10634.717233  \n",
       "8  0.224490  13577.179583  "
      ]
     },
     "metadata": {},
     "output_type": "display_data"
    }
   ],
   "source": [
    "run_model(\n",
    "  \"ShapeletTransformClassifier\", \n",
    "  lambda: ShapeletTransformClassifier(\n",
    "    estimator=RotationForest(n_estimators=3),\n",
    "    n_shapelet_samples=100,\n",
    "    max_shapelets=10,\n",
    "    batch_size=20,\n",
    "    ),\n",
    "  padding = True,\n",
    "  fold = 0\n",
    "  )"
   ]
  },
  {
   "attachments": {},
   "cell_type": "markdown",
   "metadata": {},
   "source": [
    "## RocketClassifier"
   ]
  },
  {
   "cell_type": "code",
   "execution_count": 38,
   "metadata": {},
   "outputs": [
    {
     "data": {
      "text/html": [
       "<div>\n",
       "<style scoped>\n",
       "    .dataframe tbody tr th:only-of-type {\n",
       "        vertical-align: middle;\n",
       "    }\n",
       "\n",
       "    .dataframe tbody tr th {\n",
       "        vertical-align: top;\n",
       "    }\n",
       "\n",
       "    .dataframe thead th {\n",
       "        text-align: right;\n",
       "    }\n",
       "</style>\n",
       "<table border=\"1\" class=\"dataframe\">\n",
       "  <thead>\n",
       "    <tr style=\"text-align: right;\">\n",
       "      <th></th>\n",
       "      <th>classifier</th>\n",
       "      <th>accuracy_score</th>\n",
       "      <th>AUC_score</th>\n",
       "      <th>F1_score</th>\n",
       "      <th>runtime(s)</th>\n",
       "    </tr>\n",
       "  </thead>\n",
       "  <tbody>\n",
       "    <tr>\n",
       "      <th>0</th>\n",
       "      <td>RandomIntervalClassifier</td>\n",
       "      <td>0.448980</td>\n",
       "      <td>0.712098</td>\n",
       "      <td>0.448980</td>\n",
       "      <td>2665.528686</td>\n",
       "    </tr>\n",
       "    <tr>\n",
       "      <th>1</th>\n",
       "      <td>RandomeIntervalDecisionTree</td>\n",
       "      <td>0.459184</td>\n",
       "      <td>0.669589</td>\n",
       "      <td>0.459184</td>\n",
       "      <td>4584.890491</td>\n",
       "    </tr>\n",
       "    <tr>\n",
       "      <th>2</th>\n",
       "      <td>IndividualBOSS</td>\n",
       "      <td>0.224490</td>\n",
       "      <td>0.516234</td>\n",
       "      <td>0.224490</td>\n",
       "      <td>2147.196138</td>\n",
       "    </tr>\n",
       "    <tr>\n",
       "      <th>3</th>\n",
       "      <td>ContractableBOSS</td>\n",
       "      <td>0.214286</td>\n",
       "      <td>0.536054</td>\n",
       "      <td>0.214286</td>\n",
       "      <td>2236.196237</td>\n",
       "    </tr>\n",
       "    <tr>\n",
       "      <th>4</th>\n",
       "      <td>RandomIntervalSpectralEnsemble</td>\n",
       "      <td>0.408163</td>\n",
       "      <td>0.703726</td>\n",
       "      <td>0.408163</td>\n",
       "      <td>2305.620849</td>\n",
       "    </tr>\n",
       "    <tr>\n",
       "      <th>5</th>\n",
       "      <td>SupervisedTimeSeriesForest</td>\n",
       "      <td>0.540816</td>\n",
       "      <td>0.776268</td>\n",
       "      <td>0.540816</td>\n",
       "      <td>2511.660846</td>\n",
       "    </tr>\n",
       "    <tr>\n",
       "      <th>6</th>\n",
       "      <td>CanonicalIntervalForest</td>\n",
       "      <td>0.448980</td>\n",
       "      <td>0.733673</td>\n",
       "      <td>0.448980</td>\n",
       "      <td>19594.243454</td>\n",
       "    </tr>\n",
       "    <tr>\n",
       "      <th>7</th>\n",
       "      <td>DiverseRepresentationCanonicalIntervalForest</td>\n",
       "      <td>0.397959</td>\n",
       "      <td>0.704252</td>\n",
       "      <td>0.397959</td>\n",
       "      <td>10634.717233</td>\n",
       "    </tr>\n",
       "    <tr>\n",
       "      <th>8</th>\n",
       "      <td>ShapeletTransformClassifier</td>\n",
       "      <td>0.224490</td>\n",
       "      <td>0.509848</td>\n",
       "      <td>0.224490</td>\n",
       "      <td>13577.179583</td>\n",
       "    </tr>\n",
       "    <tr>\n",
       "      <th>9</th>\n",
       "      <td>RocketClassifier</td>\n",
       "      <td>0.367347</td>\n",
       "      <td>0.623377</td>\n",
       "      <td>0.367347</td>\n",
       "      <td>3134.879266</td>\n",
       "    </tr>\n",
       "  </tbody>\n",
       "</table>\n",
       "</div>"
      ],
      "text/plain": [
       "                                     classifier  accuracy_score  AUC_score  \\\n",
       "0                      RandomIntervalClassifier        0.448980   0.712098   \n",
       "1                   RandomeIntervalDecisionTree        0.459184   0.669589   \n",
       "2                                IndividualBOSS        0.224490   0.516234   \n",
       "3                              ContractableBOSS        0.214286   0.536054   \n",
       "4                RandomIntervalSpectralEnsemble        0.408163   0.703726   \n",
       "5                    SupervisedTimeSeriesForest        0.540816   0.776268   \n",
       "6                       CanonicalIntervalForest        0.448980   0.733673   \n",
       "7  DiverseRepresentationCanonicalIntervalForest        0.397959   0.704252   \n",
       "8                   ShapeletTransformClassifier        0.224490   0.509848   \n",
       "9                              RocketClassifier        0.367347   0.623377   \n",
       "\n",
       "   F1_score    runtime(s)  \n",
       "0  0.448980   2665.528686  \n",
       "1  0.459184   4584.890491  \n",
       "2  0.224490   2147.196138  \n",
       "3  0.214286   2236.196237  \n",
       "4  0.408163   2305.620849  \n",
       "5  0.540816   2511.660846  \n",
       "6  0.448980  19594.243454  \n",
       "7  0.397959  10634.717233  \n",
       "8  0.224490  13577.179583  \n",
       "9  0.367347   3134.879266  "
      ]
     },
     "metadata": {},
     "output_type": "display_data"
    }
   ],
   "source": [
    "run_model(\n",
    "  \"RocketClassifier\", \n",
    "  lambda: RocketClassifier(num_kernels=500),\n",
    "  padding = True,\n",
    "  fold = 0\n",
    "  )"
   ]
  },
  {
   "attachments": {},
   "cell_type": "markdown",
   "metadata": {},
   "source": [
    "## FAILED MODELS"
   ]
  },
  {
   "attachments": {},
   "cell_type": "markdown",
   "metadata": {},
   "source": [
    "### KNeighborsTimeSeriesClassifier"
   ]
  },
  {
   "cell_type": "code",
   "execution_count": 21,
   "metadata": {},
   "outputs": [
    {
     "name": "stderr",
     "output_type": "stream",
     "text": [
      "c:\\Users\\kyunomi\\anaconda3\\envs\\cogpilot\\lib\\site-packages\\sktime\\utils\\validation\\_dependencies.py:143: UserWarning: No module named 'hcrystalball'. 'hcrystalball' is a soft dependency and not included in the base sktime installation. Please run: `pip install hcrystalball` to install the hcrystalball package. To install all soft dependencies, run: `pip install sktime[all_extras]`\n",
      "  warnings.warn(msg)\n"
     ]
    },
    {
     "data": {
      "text/plain": [
       "[('DummyClassifier', sktime.classification.dummy._dummy.DummyClassifier),\n",
       " ('KNeighborsTimeSeriesClassifier',\n",
       "  sktime.classification.distance_based._time_series_neighbors.KNeighborsTimeSeriesClassifier),\n",
       " ('TimeSeriesSVC', sktime.classification.kernel_based._svc.TimeSeriesSVC)]"
      ]
     },
     "execution_count": 21,
     "metadata": {},
     "output_type": "execute_result"
    }
   ],
   "source": [
    "# # search for all classifiers which can handle unequal length data. This may give some\n",
    "# # UserWarnings if soft dependencies are not installed.\n",
    "# all_estimators(\n",
    "#     filter_tags={\"capability:unequal_length\": True}, estimator_types=\"classifier\"\n",
    "# )"
   ]
  },
  {
   "cell_type": "code",
   "execution_count": null,
   "metadata": {},
   "outputs": [],
   "source": [
    "# aligner = AlignerDTW()\n",
    "# dtw_dist = DistFromAligner(aligner)\n",
    "# knclassifier = KNeighborsTimeSeriesClassifier(n_neighbors=3, distance = dtw_dist, n_jobs= -1)\n",
    "# knclassifier.fit(X_train, y_train)\n",
    "# y_pred = knclassifier.predict(X_test)\n",
    "\n",
    "# log_result('KNeighborsTimeSeriesClassifier',y_test, y_pred)\n",
    "\n",
    "# NO MEMORY"
   ]
  },
  {
   "attachments": {},
   "cell_type": "markdown",
   "metadata": {},
   "source": [
    "### KNeighborsTimeSeriesClassifier with padding"
   ]
  },
  {
   "cell_type": "code",
   "execution_count": 2,
   "metadata": {},
   "outputs": [],
   "source": [
    "# padded_KN_pipeline = ClassifierPipeline(\n",
    "#     KNeighborsTimeSeriesClassifier(n_neighbors=5, distance =\"dtw\", n_jobs= 1, leaf_size = 2000), \n",
    "#     [PaddingTransformer()]\n",
    "# )\n",
    "# padded_KN_pipeline.fit(X_train, y_train)\n",
    "# y_pred = padded_KN_pipeline.predict(X_test)\n",
    "\n",
    "# log_result('KNeighborsTimeSeriesClassifier',y_test, y_pred)\n",
    "\n",
    "# NO MEMORY"
   ]
  },
  {
   "attachments": {},
   "cell_type": "markdown",
   "metadata": {},
   "source": [
    "### ComposableTimeSeriesForestClassifier\n",
    "https://www.sktime.org/en/v0.8.1/examples/02_classification_univariate.html"
   ]
  },
  {
   "cell_type": "code",
   "execution_count": null,
   "metadata": {},
   "outputs": [],
   "source": [
    "# # https://www.sktime.org/en/v0.8.1/examples/02_classification_univariate.html\n",
    "# tsf_tst = PaddingTransformer() * ComposableTimeSeriesForestClassifier(\n",
    "#     estimator=time_series_tree,\n",
    "#     n_estimators=100,\n",
    "#     # criterion=\"entropy\",\n",
    "#     bootstrap=True,\n",
    "#     oob_score=True,\n",
    "#     random_state=1,\n",
    "#     n_jobs=-1,\n",
    "# )\n",
    "# tsf_tst.fit(X_train, y_train.astype(\"string\"))\n",
    "\n",
    "# if tsf_tst.oob_score:\n",
    "#     print(tsf.oob_score_)\n",
    "\n",
    "# y_pred_proba = tsf_tst.predict_proba(X_test)\n",
    "\n",
    "# log_result('tsf_time_series_forest',tsf_tst.classes_, y_test, y_pred_proba)\n",
    "\n",
    "# STOPPED PREMATURELY BECAUSE NO OUTPUT EVEN AFTER 12 hours"
   ]
  },
  {
   "attachments": {},
   "cell_type": "markdown",
   "metadata": {},
   "source": [
    "### HIVECOTEV1"
   ]
  },
  {
   "cell_type": "code",
   "execution_count": 39,
   "metadata": {},
   "outputs": [],
   "source": [
    "# run_model(\n",
    "#   \"HIVECOTEV1\", \n",
    "#   lambda: HIVECOTEV1(),\n",
    "#   padding = True,\n",
    "#   fold = 0\n",
    "#   )\n",
    "\n",
    "# STOPPED PREMATURELY BECAUSE NO OUTPUT EVEN AFTER 24 hours"
   ]
  },
  {
   "attachments": {},
   "cell_type": "markdown",
   "metadata": {},
   "source": [
    "# Optimising SupervisedTimeSeriesForest"
   ]
  },
  {
   "cell_type": "code",
   "execution_count": 11,
   "metadata": {},
   "outputs": [],
   "source": [
    "for i in np.arange(10,300,20):\n",
    "    run_model(\n",
    "        \"SupervisedTimeSeriesForest_\"+str(i)+\"_trees\", \n",
    "        lambda: SupervisedTimeSeriesForest(n_estimators=i, random_state=42),\n",
    "        padding = True,\n",
    "        fold = 0\n",
    "    )"
   ]
  },
  {
   "attachments": {},
   "cell_type": "markdown",
   "metadata": {},
   "source": [
    "Refer to result in \\CogPilot_Challenge\\cleanedData\\respiration_split_pilot_stsf.csv\n",
    "\n",
    "n_estimator of 40 gives the best AUC score"
   ]
  },
  {
   "attachments": {},
   "cell_type": "markdown",
   "metadata": {},
   "source": [
    "## Prepare data for merging with PPG"
   ]
  },
  {
   "cell_type": "code",
   "execution_count": 30,
   "metadata": {},
   "outputs": [],
   "source": [
    "### WE DO THIS IN ORDER TO MERGE WITH PPG\n",
    "# perform train test split according by subject\n",
    "# split into 5 different folds for CV\n",
    "from sklearn.model_selection import GroupKFold\n",
    "X_train, X_test, y_train, y_test, test_subj = [], [], [], [], []\n",
    "gss = GroupKFold(n_splits=5)\n",
    "for train, test in gss.split(df_combined_subject[\"normalised_resp\"][df_combined_subject[\"difficulty\"]!=\"000\"], df_combined_subject[\"difficulty\"][df_combined_subject[\"difficulty\"]!=\"000\"], df_combined_subject[\"subject\"][df_combined_subject[\"difficulty\"]!=\"000\"]):\n",
    "  X_train.append(df_combined_subject.loc[train,[\"normalised_resp\"]])\n",
    "  X_test.append(df_combined_subject.loc[test,[\"normalised_resp\"]])\n",
    "  y_train.append(df_combined_subject.loc[train,\"difficulty\"].astype(\"string\"))\n",
    "  y_test.append(df_combined_subject.loc[test,\"difficulty\"].astype(\"string\"))\n",
    "  test_subj.append(df_combined_subject.loc[test,\"subject\"].astype(\"string\"))"
   ]
  },
  {
   "cell_type": "code",
   "execution_count": 31,
   "metadata": {},
   "outputs": [
    {
     "data": {
      "text/plain": [
       "<StringArray>\n",
       "['cp004', 'cp005', 'cp014', 'cp015', 'cp023', 'cp024', 'cp039', 'cp042',\n",
       " 'cp008', 'cp016', 'cp018', 'cp029', 'cp043', 'cp009', 'cp017', 'cp019',\n",
       " 'cp025', 'cp030']\n",
       "Length: 18, dtype: string"
      ]
     },
     "execution_count": 31,
     "metadata": {},
     "output_type": "execute_result"
    }
   ],
   "source": [
    "test_subj[0].unique()"
   ]
  },
  {
   "cell_type": "code",
   "execution_count": 35,
   "metadata": {},
   "outputs": [],
   "source": [
    "#extract y_pred out and classes\n",
    "start = time.time()\n",
    "clf = PaddingTransformer() * SupervisedTimeSeriesForest(n_estimators=40, random_state=42)\n",
    "clf.fit(X_train[0], y_train[0])\n",
    "y_pred_proba = clf.predict_proba(X_test[0])\n",
    "end = time.time()\n",
    "\n",
    "log_result(SupervisedTimeSeriesForest, clf.classes_, y_test[0], y_pred_proba, end-start)"
   ]
  },
  {
   "cell_type": "code",
   "execution_count": null,
   "metadata": {},
   "outputs": [],
   "source": [
    "# perform prediction on all data\n",
    "df_combined_all = pd.DataFrame(clf.predict_proba(df_combined_subject[['normalised_resp']]))\n",
    "df_combined_all.columns = 'resp_'+clf.classes_\n",
    "df_combined_all['difficulty'] = df_combined_subject['difficulty']\n",
    "df_combined_all['subject'] = df_combined_subject['subject']\n",
    "df_combined_all['run'] = df_combined_subject['run']"
   ]
  },
  {
   "cell_type": "code",
   "execution_count": null,
   "metadata": {},
   "outputs": [],
   "source": [
    "df_combined_all = df_combined_all[['subject', 'run', 'resp_000', 'resp_01B', 'resp_02B', 'resp_03B', 'resp_04B',\n",
    "       'difficulty']]"
   ]
  },
  {
   "cell_type": "code",
   "execution_count": null,
   "metadata": {},
   "outputs": [],
   "source": [
    "df_combined_all.to_csv(\"df_combined_all.csv\", index=False)\n",
    "\n",
    "# WE CAN\"T COMBINE NOW BECAUSE 1) THERE\"S MISSING 000 DATA iN PPG. 2) THE GROUPKFOLD IS NOT THE SAME. THEREFORE ABLE TO DO PROPER COMPARISON"
   ]
  },
  {
   "attachments": {},
   "cell_type": "markdown",
   "metadata": {},
   "source": [
    "# Try looking\n",
    "- filter out different subject with different resp hz then do training for them.\n",
    "- do gridsearch using genetic to improve result"
   ]
  }
 ],
 "metadata": {
  "kernelspec": {
   "display_name": "cogpilot",
   "language": "python",
   "name": "python3"
  },
  "language_info": {
   "codemirror_mode": {
    "name": "ipython",
    "version": 3
   },
   "file_extension": ".py",
   "mimetype": "text/x-python",
   "name": "python",
   "nbconvert_exporter": "python",
   "pygments_lexer": "ipython3",
   "version": "3.8.15"
  },
  "vscode": {
   "interpreter": {
    "hash": "4a6363372e1d778c4137ad4a53928cfc69136b01ab6f02bce312c553d9eae285"
   }
  }
 },
 "nbformat": 4,
 "nbformat_minor": 4
}
