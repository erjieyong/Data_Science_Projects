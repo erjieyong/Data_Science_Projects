{
 "cells": [
  {
   "cell_type": "code",
   "execution_count": 1,
   "metadata": {},
   "outputs": [],
   "source": [
    "import re, os, time\n",
    "import pandas as pd\n",
    "import datetime\n",
    "import numpy as np\n",
    "from scipy import stats\n",
    "from sklearn.preprocessing import StandardScaler\n",
    "from sklearn.model_selection import train_test_split, cross_val_score\n",
    "from sklearn.metrics import roc_auc_score, f1_score, accuracy_score\n",
    "from matplotlib import pyplot as plt\n",
    "# import plotData # helper function in starter code package\n",
    "\n",
    "\n",
    "from sktime.transformations.panel.padder import PaddingTransformer\n",
    "from sktime.classification.compose import ClassifierPipeline, ComposableTimeSeriesForestClassifier\n",
    "from sktime.transformations.panel.summarize import RandomIntervalFeatureExtractor\n",
    "from sklearn.tree import DecisionTreeClassifier\n",
    "# only classifier in sktime that can process unequal length data\n",
    "# https://github.com/sktime/sktime/issues/3649#issuecomment-1292459843\n",
    "# from sktime.alignment.dtw_python import AlignerDTW   ## NOTE THAT THIS SOMEHOW AFFECT ALL PRINT OUTPUT. NOTHING WILL BE SHOWN FOR PRINT STATEMENT AFTER YOU RUN THIS\n",
    "from sktime.classification.feature_based import RandomIntervalClassifier\n",
    "from sktime.classification.distance_based import KNeighborsTimeSeriesClassifier\n",
    "from sktime.classification.dictionary_based import IndividualBOSS, ContractableBOSS\n",
    "from sktime.classification.kernel_based import RocketClassifier\n",
    "from sktime.classification.hybrid import HIVECOTEV1, HIVECOTEV2\n",
    "from sktime.classification.shapelet_based import ShapeletTransformClassifier\n",
    "from sktime.classification.sklearn import RotationForest\n",
    "\n",
    "from sktime.dists_kernels.compose_from_align import DistFromAligner\n",
    "from sktime.utils.slope_and_trend import _slope\n",
    "from sklearn.pipeline import Pipeline\n",
    "# https://www.sktime.org/en/stable/api_reference/auto_generated/sktime.transformations.panel.catch22.Catch22.html\n",
    "from sktime.transformations.panel.catch22 import Catch22\n",
    "\n",
    "from sktime.classification.interval_based import CanonicalIntervalForest,DrCIF,RandomIntervalSpectralEnsemble,SupervisedTimeSeriesForest,TimeSeriesForestClassifier\n",
    "\n",
    "# identify classifiers that support unequal length\n",
    "from sktime.registry import all_estimators\n",
    "\n",
    "\n"
   ]
  },
  {
   "cell_type": "markdown",
   "metadata": {},
   "source": [
    "## Combining Data"
   ]
  },
  {
   "cell_type": "code",
   "execution_count": 2,
   "metadata": {},
   "outputs": [],
   "source": [
    "# combine into single df\n",
    "df_combined_subject = {'subject':[],'normalised_resp':[], 'difficulty':[]}\n",
    "for root, dirs, files in os.walk(\"..\\\\cleanedData\\\\\"):\n",
    "  for file in files:\n",
    "      if \"lslshimmerresp\" in file:\n",
    "        difficulty = re.search(\"mV_(\\d\\d\\w)\", file).group(1)\n",
    "        subject = re.search(\"_(cp\\d+)_\", file).group(1)\n",
    "        df_temp = pd.read_csv(os.path.join(root, file))\n",
    "        # We perform scaler on EACH subject as they are independent of each other \n",
    "        scaler = StandardScaler()\n",
    "        resp_series = pd.Series(scaler.fit_transform(df_temp[['respiration_trace_mV']]).flatten())\n",
    "\n",
    "        df_combined_subject['subject'].append(subject)\n",
    "        df_combined_subject['normalised_resp'].append(resp_series)\n",
    "        df_combined_subject['difficulty'].append(difficulty)\n",
    "df_combined_subject = pd.DataFrame(df_combined_subject)"
   ]
  },
  {
   "cell_type": "code",
   "execution_count": 3,
   "metadata": {},
   "outputs": [],
   "source": [
    "# save to pickle rather than csv to preserve the nested series inside the dataframe\n",
    "df_combined_subject.to_pickle(\"..\\\\cleanedData\\\\df_combined_subject.pkl\", protocol=4)"
   ]
  },
  {
   "cell_type": "markdown",
   "metadata": {},
   "source": [
    "# Modelling"
   ]
  },
  {
   "cell_type": "code",
   "execution_count": 4,
   "metadata": {},
   "outputs": [],
   "source": [
    "df_combined_subject = pd.read_pickle(\"..\\\\cleanedData\\\\df_combined_subject.pkl\")"
   ]
  },
  {
   "cell_type": "code",
   "execution_count": 5,
   "metadata": {},
   "outputs": [],
   "source": [
    "# Identify rows that is 0 length\n",
    "# empty_row = []\n",
    "# for i in range(len(df_combined)):\n",
    "#   temp = df_combined.iloc[i,0]\n",
    "#   if len(temp[temp==0.0]) or len(temp[temp==0]):\n",
    "#     empty_row.append(i)\n",
    "\n",
    "# df_combined.drop(empty_row, inplace=True)"
   ]
  },
  {
   "cell_type": "code",
   "execution_count": 6,
   "metadata": {},
   "outputs": [
    {
     "name": "stdout",
     "output_type": "stream",
     "text": [
      "CPU times: total: 0 ns\n",
      "Wall time: 11.9 ms\n"
     ]
    }
   ],
   "source": [
    "%%time\n",
    "# perform train test split according by subject\n",
    "# split into 5 different folds for CV\n",
    "from sklearn.model_selection import GroupKFold\n",
    "X_train, X_test, y_train, y_test = [], [], [], []\n",
    "gss = GroupKFold(n_splits=5)\n",
    "for train, test in gss.split(df_combined_subject[\"normalised_resp\"], df_combined_subject[\"difficulty\"], df_combined_subject[\"subject\"]):\n",
    "  X_train.append(df_combined_subject.loc[train,[\"normalised_resp\"]])\n",
    "  X_test.append(df_combined_subject.loc[test,[\"normalised_resp\"]])\n",
    "  y_train.append(df_combined_subject.loc[train,\"difficulty\"].astype(\"string\"))\n",
    "  y_test.append(df_combined_subject.loc[test,\"difficulty\"].astype(\"string\"))"
   ]
  },
  {
   "cell_type": "code",
   "execution_count": 7,
   "metadata": {},
   "outputs": [],
   "source": [
    "# X_train, X_test, y_train, y_test = train_test_split(df_combined_subject[\"normalised_resp\"], df_combined_subject[\"difficulty\"], random_state=42)"
   ]
  },
  {
   "cell_type": "code",
   "execution_count": 8,
   "metadata": {},
   "outputs": [],
   "source": [
    "# X_train = pd.DataFrame(X_train)\n",
    "# X_test = pd.DataFrame(X_test)\n",
    "# y_train = y_train.astype(\"string\")\n",
    "# y_test = y_test.astype(\"string\")"
   ]
  },
  {
   "cell_type": "code",
   "execution_count": 9,
   "metadata": {},
   "outputs": [],
   "source": [
    "model_result = {\n",
    "  \"classifier\":[],\n",
    "  \"accuracy_score\":[],\n",
    "  \"AUC_score\":[],\n",
    "  \"F1_score\":[],\n",
    "  \"runtime(s)\":[],\n",
    "}\n",
    "\n",
    "def get_class(class_list, prob_list):\n",
    "  idx = list(prob_list).index(max(prob_list))\n",
    "  return class_list[idx]\n",
    "\n",
    "def log_result(classifier_name, class_list, y_test, y_pred_proba, runtime):\n",
    "  y_pred = []\n",
    "  for y_list in y_pred_proba:\n",
    "    y_pred.append(get_class(class_list, y_list))\n",
    "  acc = accuracy_score(y_test, y_pred)\n",
    "  auc = roc_auc_score(y_test, y_pred_proba, multi_class='ovr')\n",
    "  f1 = f1_score(y_test, y_pred, average='micro')\n",
    "  model_result[\"classifier\"].append(classifier_name)\n",
    "  model_result[\"accuracy_score\"].append(acc)\n",
    "  model_result[\"AUC_score\"].append(auc)\n",
    "  model_result[\"F1_score\"].append(f1)\n",
    "  model_result[\"runtime(s)\"].append(runtime)\n",
    "\n",
    "  display(pd.DataFrame(model_result))\n",
    "  pd.DataFrame(model_result).to_csv(\"..\\\\cleanedData\\\\respiration_split_pilot_result.csv\")"
   ]
  },
  {
   "cell_type": "code",
   "execution_count": 10,
   "metadata": {},
   "outputs": [],
   "source": [
    "def run_model(classifier_name,classifier, padding = True,  fold = 0):\n",
    "  start = time.time()\n",
    "  \n",
    "  # set up pipeline\n",
    "  if padding:\n",
    "    clf = PaddingTransformer() * classifier()\n",
    "  else:\n",
    "    clf = classifier()\n",
    "  \n",
    "  clf.fit(X_train[fold], y_train[fold])\n",
    "  y_pred_proba = clf.predict_proba(X_test[fold])\n",
    "  end = time.time()\n",
    "\n",
    "  log_result(classifier_name, clf.classes_, y_test[fold], y_pred_proba, end-start)"
   ]
  },
  {
   "cell_type": "markdown",
   "metadata": {},
   "source": [
    "## KNeighborsTimeSeriesClassifier"
   ]
  },
  {
   "cell_type": "code",
   "execution_count": null,
   "metadata": {},
   "outputs": [],
   "source": [
    "\n",
    "\n",
    "# search for all classifiers which can handle unequal length data. This may give some\n",
    "# UserWarnings if soft dependencies are not installed.\n",
    "all_estimators(\n",
    "    filter_tags={\"capability:unequal_length\": True}, estimator_types=\"classifier\"\n",
    ")"
   ]
  },
  {
   "cell_type": "code",
   "execution_count": null,
   "metadata": {},
   "outputs": [],
   "source": [
    "# aligner = AlignerDTW()\n",
    "# dtw_dist = DistFromAligner(aligner)\n",
    "# knclassifier = KNeighborsTimeSeriesClassifier(n_neighbors=3, distance = dtw_dist, n_jobs= -1)\n",
    "# knclassifier.fit(X_train, y_train)\n",
    "# y_pred = knclassifier.predict(X_test)\n",
    "\n",
    "# log_result('KNeighborsTimeSeriesClassifier',y_test, y_pred)\n",
    "\n",
    "# NO MEMORY"
   ]
  },
  {
   "cell_type": "markdown",
   "metadata": {},
   "source": [
    "## KNeighborsTimeSeriesClassifier with padding"
   ]
  },
  {
   "cell_type": "code",
   "execution_count": null,
   "metadata": {},
   "outputs": [],
   "source": [
    "# padded_KN_pipeline = ClassifierPipeline(\n",
    "#     KNeighborsTimeSeriesClassifier(n_neighbors=5, distance =\"dtw\", n_jobs= 1, leaf_size = 2000), \n",
    "#     [PaddingTransformer()]\n",
    "# )\n",
    "# padded_KN_pipeline.fit(X_train, y_train)\n",
    "# y_pred = padded_KN_pipeline.predict(X_test)\n",
    "\n",
    "# log_result('KNeighborsTimeSeriesClassifier',y_test, y_pred)\n",
    "\n",
    "# NO MEMORY"
   ]
  },
  {
   "cell_type": "markdown",
   "metadata": {},
   "source": [
    "## ComposableTimeSeriesForestClassifier\n",
    "https://www.sktime.org/en/v0.8.1/examples/02_classification_univariate.html\n",
    "\n",
    "## ON PAUSE CAUSE TAKES TOO LONG"
   ]
  },
  {
   "cell_type": "code",
   "execution_count": null,
   "metadata": {},
   "outputs": [],
   "source": [
    "# https://www.sktime.org/en/v0.8.1/examples/02_classification_univariate.html\n",
    "tsf_tst = PaddingTransformer() * ComposableTimeSeriesForestClassifier(\n",
    "    estimator=time_series_tree,\n",
    "    n_estimators=100,\n",
    "    # criterion=\"entropy\",\n",
    "    bootstrap=True,\n",
    "    oob_score=True,\n",
    "    random_state=1,\n",
    "    n_jobs=-1,\n",
    ")\n",
    "tsf_tst.fit(X_train, y_train.astype(\"string\"))\n",
    "\n",
    "if tsf_tst.oob_score:\n",
    "    print(tsf.oob_score_)\n",
    "\n",
    "y_pred_proba = tsf_tst.predict_proba(X_test)\n",
    "\n",
    "log_result('tsf_time_series_forest',tsf_tst.classes_, y_test, y_pred_proba)"
   ]
  },
  {
   "cell_type": "code",
   "execution_count": null,
   "metadata": {},
   "outputs": [],
   "source": [
    "tsf = ComposableTimeSeriesForestClassifier()\n",
    "tsf.fit(X_train, y_train)\n",
    "y_pred_proba = tsf.predict_proba(X_test)\n",
    "log_result('TimeSeriesForestClassifier',tsf.classes_, y_test, y_pred_proba)"
   ]
  },
  {
   "cell_type": "markdown",
   "metadata": {},
   "source": [
    "## Classification using catch22"
   ]
  },
  {
   "cell_type": "code",
   "execution_count": null,
   "metadata": {},
   "outputs": [],
   "source": [
    "catch22 = PaddingTransformer() * Catch22()\n",
    "X_train_catch22 = catch22.fit_transform(X_train)\n",
    "X_test_catch22 = catch22.transform(X_test)"
   ]
  },
  {
   "cell_type": "code",
   "execution_count": null,
   "metadata": {},
   "outputs": [],
   "source": [
    "X_train_catch22.to_csv(\"..\\\\cleanedData\\\\X_train_catch22.csv\")\n",
    "X_test_catch22.to_csv(\"..\\\\cleanedData\\\\X_test_catch22.csv\")"
   ]
  },
  {
   "cell_type": "markdown",
   "metadata": {},
   "source": [
    "## RandomIntervalClassifier\n",
    "extract at random interval and perform Rotation forest with 200 trees"
   ]
  },
  {
   "cell_type": "code",
   "execution_count": 13,
   "metadata": {},
   "outputs": [],
   "source": [
    "run_model(\n",
    "  \"RandomIntervalClassifier\", \n",
    "  lambda: RandomIntervalClassifier(n_intervals=5, n_jobs=1, random_state = 42),\n",
    "  padding = True,\n",
    "  fold = 0\n",
    "  )"
   ]
  },
  {
   "cell_type": "markdown",
   "metadata": {},
   "source": [
    "## Decision Trees with mean, std, slope\n"
   ]
  },
  {
   "cell_type": "code",
   "execution_count": null,
   "metadata": {},
   "outputs": [],
   "source": [
    "steps = [\n",
    "    (\"padding\",PaddingTransformer()),\n",
    "    (\n",
    "        \"extract\",\n",
    "        RandomIntervalFeatureExtractor(\n",
    "            n_intervals=\"sqrt\", features=[np.mean, np.std, _slope]\n",
    "        ),\n",
    "    ),\n",
    "    (\"clf\", DecisionTreeClassifier()),\n",
    "]\n",
    "time_series_tree = Pipeline(steps)"
   ]
  },
  {
   "cell_type": "code",
   "execution_count": null,
   "metadata": {},
   "outputs": [
    {
     "data": {
      "text/html": [
       "<div>\n",
       "<style scoped>\n",
       "    .dataframe tbody tr th:only-of-type {\n",
       "        vertical-align: middle;\n",
       "    }\n",
       "\n",
       "    .dataframe tbody tr th {\n",
       "        vertical-align: top;\n",
       "    }\n",
       "\n",
       "    .dataframe thead th {\n",
       "        text-align: right;\n",
       "    }\n",
       "</style>\n",
       "<table border=\"1\" class=\"dataframe\">\n",
       "  <thead>\n",
       "    <tr style=\"text-align: right;\">\n",
       "      <th></th>\n",
       "      <th>classifier</th>\n",
       "      <th>accuracy_score</th>\n",
       "      <th>AUC_score</th>\n",
       "      <th>F1_score</th>\n",
       "    </tr>\n",
       "  </thead>\n",
       "  <tbody>\n",
       "    <tr>\n",
       "      <th>0</th>\n",
       "      <td>RandomIntervalClassifier</td>\n",
       "      <td>0.252101</td>\n",
       "      <td>0.536985</td>\n",
       "      <td>0.252101</td>\n",
       "    </tr>\n",
       "    <tr>\n",
       "      <th>1</th>\n",
       "      <td>IndividualBoss</td>\n",
       "      <td>0.252101</td>\n",
       "      <td>0.536985</td>\n",
       "      <td>0.252101</td>\n",
       "    </tr>\n",
       "    <tr>\n",
       "      <th>2</th>\n",
       "      <td>ContractableBOSS</td>\n",
       "      <td>0.294118</td>\n",
       "      <td>0.571395</td>\n",
       "      <td>0.294118</td>\n",
       "    </tr>\n",
       "    <tr>\n",
       "      <th>3</th>\n",
       "      <td>time_series_tree</td>\n",
       "      <td>0.310924</td>\n",
       "      <td>0.578198</td>\n",
       "      <td>0.310924</td>\n",
       "    </tr>\n",
       "  </tbody>\n",
       "</table>\n",
       "</div>"
      ],
      "text/plain": [
       "                 classifier  accuracy_score  AUC_score  F1_score\n",
       "0  RandomIntervalClassifier        0.252101   0.536985  0.252101\n",
       "1            IndividualBoss        0.252101   0.536985  0.252101\n",
       "2          ContractableBOSS        0.294118   0.571395  0.294118\n",
       "3          time_series_tree        0.310924   0.578198  0.310924"
      ]
     },
     "metadata": {},
     "output_type": "display_data"
    }
   ],
   "source": [
    "start = time.time()\n",
    "time_series_tree.fit(X_train[0], y_train[0])\n",
    "y_pred_proba = time_series_tree.predict_proba(X_test[0])\n",
    "end = time.time()\n",
    "log_result('RandomeIntervalDecisionTree',time_series_tree.classes_, y_test[0], y_pred_proba, end-start)"
   ]
  },
  {
   "cell_type": "markdown",
   "metadata": {},
   "source": [
    "## Individual Boss\n"
   ]
  },
  {
   "cell_type": "code",
   "execution_count": null,
   "metadata": {},
   "outputs": [],
   "source": [
    "run_model(\n",
    "  \"IndividualBoss\", \n",
    "  lambda: IndividualBoss(),\n",
    "  padding = True,\n",
    "  fold = 0\n",
    "  )"
   ]
  },
  {
   "attachments": {},
   "cell_type": "markdown",
   "metadata": {},
   "source": [
    "## ContractableBoss"
   ]
  },
  {
   "cell_type": "code",
   "execution_count": null,
   "metadata": {},
   "outputs": [],
   "source": [
    "run_model(\n",
    "  \"ContractableBOSS\", \n",
    "  lambda: ContractableBOSS(n_parameter_samples=10, max_ensemble_size=3),\n",
    "  padding = True,\n",
    "  fold = 0\n",
    "  )"
   ]
  },
  {
   "attachments": {},
   "cell_type": "markdown",
   "metadata": {},
   "source": [
    "## Random Interval Spectral Ensemble"
   ]
  },
  {
   "cell_type": "code",
   "execution_count": null,
   "metadata": {},
   "outputs": [],
   "source": [
    "run_model(\n",
    "  \"RandomIntervalSpectralEnsemble\", \n",
    "  lambda: RandomIntervalSpectralEnsemble(n_estimators=50, random_state=42),\n",
    "  padding = True,\n",
    "  fold = 0\n",
    "  )"
   ]
  },
  {
   "attachments": {},
   "cell_type": "markdown",
   "metadata": {},
   "source": [
    "## Supervised Time Series Forest (STSF)\n"
   ]
  },
  {
   "cell_type": "code",
   "execution_count": null,
   "metadata": {},
   "outputs": [],
   "source": [
    "run_model(\n",
    "  \"SupervisedTimeSeriesForest\", \n",
    "  lambda: SupervisedTimeSeriesForest(n_estimators=50, random_state=42),\n",
    "  padding = True,\n",
    "  fold = 0\n",
    "  )"
   ]
  },
  {
   "attachments": {},
   "cell_type": "markdown",
   "metadata": {},
   "source": [
    "## Canonical Interval Forest (CIF)"
   ]
  },
  {
   "cell_type": "code",
   "execution_count": null,
   "metadata": {},
   "outputs": [],
   "source": [
    "run_model(\n",
    "  \"CanonicalIntervalForest\", \n",
    "  lambda: CanonicalIntervalForest(n_estimators=5, att_subsample_size=10, random_state=42),\n",
    "  padding = True,\n",
    "  fold = 0\n",
    "  )"
   ]
  },
  {
   "attachments": {},
   "cell_type": "markdown",
   "metadata": {},
   "source": [
    "## Diverse Representation Canonical Interval Forest (DrCIF)"
   ]
  },
  {
   "cell_type": "code",
   "execution_count": null,
   "metadata": {},
   "outputs": [],
   "source": [
    "run_model(\n",
    "  \"DiverseRepresentationCanonicalIntervalForest\", \n",
    "  lambda: DrCIF(n_estimators=5, att_subsample_size=10, random_state=42),\n",
    "  padding = True,\n",
    "  fold = 0\n",
    "  )"
   ]
  },
  {
   "attachments": {},
   "cell_type": "markdown",
   "metadata": {},
   "source": [
    "## ShapeletTransformClassifier"
   ]
  },
  {
   "cell_type": "code",
   "execution_count": null,
   "metadata": {},
   "outputs": [],
   "source": [
    "run_model(\n",
    "  \"ShapeletTransformClassifier\", \n",
    "  lambda: ShapeletTransformClassifier(\n",
    "    estimator=RotationForest(n_estimators=3),\n",
    "    n_shapelet_samples=100,\n",
    "    max_shapelets=10,\n",
    "    batch_size=20,\n",
    "    ),\n",
    "  padding = True,\n",
    "  fold = 0\n",
    "  )"
   ]
  },
  {
   "attachments": {},
   "cell_type": "markdown",
   "metadata": {},
   "source": [
    "## RocketClassifier"
   ]
  },
  {
   "cell_type": "code",
   "execution_count": null,
   "metadata": {},
   "outputs": [],
   "source": [
    "run_model(\n",
    "  \"RocketClassifier\", \n",
    "  lambda: RocketClassifier(num_kernels=500),\n",
    "  padding = True,\n",
    "  fold = 0\n",
    "  )"
   ]
  },
  {
   "attachments": {},
   "cell_type": "markdown",
   "metadata": {},
   "source": [
    "## HIVECOTEV1"
   ]
  },
  {
   "cell_type": "code",
   "execution_count": null,
   "metadata": {},
   "outputs": [],
   "source": [
    "run_model(\n",
    "  \"HIVECOTEV1\", \n",
    "  lambda: HIVECOTEV1(),\n",
    "  padding = True,\n",
    "  fold = 0\n",
    "  )"
   ]
  },
  {
   "attachments": {},
   "cell_type": "markdown",
   "metadata": {},
   "source": [
    "## Try looking\n",
    "- filter out different subject with different resp hz then do training for them.\n",
    "- do gridsearch using genetic to improve result"
   ]
  }
 ],
 "metadata": {
  "kernelspec": {
   "display_name": "Python 3 (ipykernel)",
   "language": "python",
   "name": "python3"
  },
  "language_info": {
   "codemirror_mode": {
    "name": "ipython",
    "version": 3
   },
   "file_extension": ".py",
   "mimetype": "text/x-python",
   "name": "python",
   "nbconvert_exporter": "python",
   "pygments_lexer": "ipython3",
   "version": "3.8.15"
  },
  "vscode": {
   "interpreter": {
    "hash": "4a6363372e1d778c4137ad4a53928cfc69136b01ab6f02bce312c553d9eae285"
   }
  }
 },
 "nbformat": 4,
 "nbformat_minor": 4
}
