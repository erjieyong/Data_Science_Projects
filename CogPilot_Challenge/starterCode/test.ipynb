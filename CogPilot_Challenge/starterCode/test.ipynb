{
 "cells": [
  {
   "cell_type": "code",
   "execution_count": 1,
   "metadata": {},
   "outputs": [
    {
     "data": {
      "text/plain": [
       "array(['01A'], dtype=object)"
      ]
     },
     "execution_count": 1,
     "metadata": {},
     "output_type": "execute_result"
    }
   ],
   "source": [
    "import pandas as pd\n",
    "import numpy as np\n",
    "x = pd.Series(np.arange(1.0,10.0))\n",
    "nested_X = pd.DataFrame({\n",
    "  \"nested_X\":[x, x, x]\n",
    "})\n",
    "y = pd.Series(['01A', '02A', '01A'], dtype=\"string\", name=\"classes\")\n",
    "\n",
    "from sktime.transformations.panel.padder import PaddingTransformer\n",
    "from sktime.classification.dictionary_based import IndividualBOSS\n",
    "\n",
    "iboss = IndividualBOSS()\n",
    "iboss.fit(nested_X, y)\n",
    "iboss.predict(nested_X[0:1])"
   ]
  },
  {
   "cell_type": "code",
   "execution_count": null,
   "metadata": {},
   "outputs": [],
   "source": []
  }
 ],
 "metadata": {
  "kernelspec": {
   "display_name": "cogpilot",
   "language": "python",
   "name": "python3"
  },
  "language_info": {
   "codemirror_mode": {
    "name": "ipython",
    "version": 3
   },
   "file_extension": ".py",
   "mimetype": "text/x-python",
   "name": "python",
   "nbconvert_exporter": "python",
   "pygments_lexer": "ipython3",
   "version": "3.8.15"
  },
  "orig_nbformat": 4,
  "vscode": {
   "interpreter": {
    "hash": "4a6363372e1d778c4137ad4a53928cfc69136b01ab6f02bce312c553d9eae285"
   }
  }
 },
 "nbformat": 4,
 "nbformat_minor": 2
}
