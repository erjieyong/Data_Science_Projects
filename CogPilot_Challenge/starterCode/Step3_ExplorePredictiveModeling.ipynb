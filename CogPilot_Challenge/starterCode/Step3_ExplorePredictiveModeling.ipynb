{
 "cells": [
  {
   "cell_type": "code",
   "execution_count": 1,
   "metadata": {},
   "outputs": [],
   "source": [
    "import os\n",
    "import pandas as pd\n",
    "import random\n",
    "import plotData\n",
    "import assembleFeatureMatrix as afm\n",
    "import matplotlib.pyplot as plt\n",
    "from sklearn import svm\n",
    "from sklearn.metrics import mean_squared_error\n",
    "from sklearn.linear_model import LinearRegression\n",
    "from sklearn.metrics import roc_curve, auc, roc_auc_score\n",
    "from scipy.stats import zscore\n",
    "import scipy.stats as scistats\n",
    "from sklearn import decomposition"
   ]
  },
  {
   "cell_type": "markdown",
   "metadata": {},
   "source": [
    "# Step 3: Explore Predictive Modeling\n",
    "\n",
    "This notebook dives into the process of predictive modeling for Difficulty Level as well as Performance Error. For each of these tasks, we split the development set into training and validation subsets, train a predictive model using the training set, and then assess model performance using the validation set."
   ]
  },
  {
   "cell_type": "markdown",
   "metadata": {},
   "source": [
    "### Loading the Development Set Feature Matrix\n",
    "\n",
    "Start by loading the feature matrix. If you've already run Step 2, you should have the starterCode\\data__feats\\devSubjsFeatMat.csv file computed so it should load quickly."
   ]
  },
  {
   "cell_type": "code",
   "execution_count": 2,
   "metadata": {},
   "outputs": [
    {
     "name": "stdout",
     "output_type": "stream",
     "text": [
      "Found precomputed feature matrix.\n",
      "Loaded into a dataFrame.\n"
     ]
    }
   ],
   "source": [
    "#Start by loading the feature matrix as we did in Step 2. \n",
    "#If you've already run Step 2, you should have the devSubjsFeatMat.csv file computed so this should load quickly.\n",
    "\n",
    "dataDirDev = \"..\" + os.sep + \"dataPackage\";\n",
    "featDirDev = \".\" + os.sep + \"data_feats\";\n",
    "modelDirDev = \".\" + os.sep + \"model_eval\";\n",
    "\n",
    "expType = \"task-ils\"\n",
    "\n",
    "if (not os.path.exists(featDirDev)):\n",
    "    os.makedirs(featDirDev);\n",
    "aggFeatFilePath = featDirDev+os.path.sep+'devSubjsFeatMat.csv'\n",
    "featMatDF = afm.getFeatureMatrix(dataDirDev+os.path.sep+expType, aggFeatFilePath, True);\n",
    "\n",
    "if (not os.path.exists(modelDirDev)):\n",
    "    os.makedirs(modelDirDev);"
   ]
  },
  {
   "cell_type": "markdown",
   "metadata": {},
   "source": [
    "### Split development set into training and validation subjects\n",
    "\n",
    "In specifying the percentage of subjects to put into the validation set (pctHoldout variable below), feel free to play with the percentages to see what works best. There's a tradeoff to be considered here -- while you want to have enough subjects to validate with to allow for an accurate assessment of the model, more subjects in the training set means more data to train the model better."
   ]
  },
  {
   "cell_type": "code",
   "execution_count": 3,
   "metadata": {},
   "outputs": [
    {
     "name": "stdout",
     "output_type": "stream",
     "text": [
      "mergedDF.cols = Index(['Unnamed: 0', 'Subject_x', 'Session_x', 'Run_x',\n",
      "       'overall_gaze_entropy_LX', 'psd_max_LX', 'psd_freq_of_max_LX',\n",
      "       'overall_gaze_entropy_LY', 'psd_max_LY', 'psd_freq_of_max_LY',\n",
      "       'overall_gaze_entropy_LZ', 'psd_max_LZ', 'psd_freq_of_max_LZ',\n",
      "       'overall_gaze_entropy_RX', 'psd_max_RX', 'psd_freq_of_max_RX',\n",
      "       'overall_gaze_entropy_RY', 'psd_max_RY', 'psd_freq_of_max_RY',\n",
      "       'overall_gaze_entropy_RZ', 'psd_max_RZ', 'psd_freq_of_max_RZ',\n",
      "       'eyes_closed_fraction_L', 'eyes_closed_fraction_R', 'pupil_diam_mean_L',\n",
      "       'pupil_diam_stdev_L', 'pupil_diam_skew_L', 'pupil_diam_kurt_L',\n",
      "       'pupil_diam_mean_R', 'pupil_diam_stdev_R', 'pupil_diam_skew_R',\n",
      "       'pupil_diam_kurt_R', 'fix_dur_mean', 'fix_dur_stdev', 'fix_dur_skew',\n",
      "       'fix_dur_kurt', 'fix_density_mean', 'fix_density_stdev',\n",
      "       'fix_density_skew', 'fix_density_kurt', 'sac_main_seq_mean',\n",
      "       'sac_main_seq_stdev', 'sac_peak_vel_mean', 'sac_peak_vel_stdev',\n",
      "       'featKey', 'subject', 'date', 'run', 'difficulty',\n",
      "       'cumulative_glideslope_error_deg', 'cumulative_localizer_error_deg',\n",
      "       'cumulative_airspeed_error_kts', 'cumulative_total_error', 'Subject_y',\n",
      "       'Session_y', 'Run_y', 'perfKey'],\n",
      "      dtype='object')\n"
     ]
    }
   ],
   "source": [
    "pctHoldout = 25; #Percent of subjects to hold out for validation\n",
    "perfMetricsDF = pd.read_csv(dataDirDev+os.path.sep+\n",
    "                            expType+os.path.sep+\n",
    "                            \"PerfMetrics.csv\");\n",
    "\n",
    "featMatDF = pd.read_csv(aggFeatFilePath);\n",
    "\n",
    "mergedDF = plotData.alignFeatPerfRows(featMatDF, perfMetricsDF);\n",
    "print(\"mergedDF.cols = \"+str(mergedDF.columns));\n",
    "usubjs = list(set(mergedDF['Subject_x']))\n",
    "numSubjs = len(usubjs);\n",
    "numVal = int(numSubjs*float(pctHoldout)/100);\n",
    "numTrain = numSubjs - numVal;\n",
    "\n",
    "random.shuffle(usubjs);\n",
    "trainSet = usubjs[:numTrain];\n",
    "valSet = usubjs[numTrain:];\n",
    "\n",
    "trainDF = mergedDF[mergedDF.Subject_x.str.contains('|'.join(trainSet))];\n",
    "valDF = mergedDF[mergedDF.Subject_x.str.contains('|'.join(valSet))];\n",
    "\n",
    "#Specifying which of the columns in mergedDF to use for the feature matrix to be input to the predictive models.\n",
    "featCols = ['overall_gaze_entropy_LX', 'psd_max_LX', 'psd_freq_of_max_LX',\n",
    "            'overall_gaze_entropy_LY', 'psd_max_LY', 'psd_freq_of_max_LY',\n",
    "            'overall_gaze_entropy_LZ', 'psd_max_LZ', 'psd_freq_of_max_LZ',\n",
    "            'overall_gaze_entropy_RX', 'psd_max_RX', 'psd_freq_of_max_RX',\n",
    "            'overall_gaze_entropy_RY', 'psd_max_RY', 'psd_freq_of_max_RY',\n",
    "            'overall_gaze_entropy_RZ', 'psd_max_RZ', 'psd_freq_of_max_RZ',\n",
    "            'eyes_closed_fraction_L', 'eyes_closed_fraction_R',\n",
    "            'pupil_diam_mean_L', 'pupil_diam_stdev_L', 'pupil_diam_skew_L', 'pupil_diam_kurt_L',\n",
    "            'pupil_diam_mean_R', 'pupil_diam_stdev_R', 'pupil_diam_skew_R', 'pupil_diam_kurt_R',\n",
    "            'fix_dur_mean', 'fix_dur_stdev', 'fix_dur_skew', 'fix_dur_kurt',\n",
    "            'fix_density_mean', 'fix_density_stdev', 'fix_density_skew', 'fix_density_kurt',\n",
    "            'sac_main_seq_mean', 'sac_main_seq_stdev',\n",
    "            'sac_peak_vel_mean', 'sac_peak_vel_stdev'];"
   ]
  },
  {
   "cell_type": "markdown",
   "metadata": {},
   "source": [
    "### Train a simple predictive model for difficulty level classification\n",
    "\n",
    "This simple starter model for Difficulty Level prediction is using a Support Vector Machine classifier. "
   ]
  },
  {
   "cell_type": "code",
   "execution_count": 4,
   "metadata": {},
   "outputs": [],
   "source": [
    "def trainDiffPredictionModel(trainMatDF, inclDiffLevels, featCols, numPCs):\n",
    "\n",
    "    subTrainMatDF = trainMatDF.loc[trainMatDF['difficulty'].isin(inclDiffLevels)];\n",
    "    \n",
    "    X = subTrainMatDF[featCols];\n",
    "    y = subTrainMatDF['difficulty'];\n",
    "    \n",
    "    #normalize the feature matrix\n",
    "    Xz = zscore(X);\n",
    "    \n",
    "    #If desired, reduce dimensionality using Principal Components Analysis (PCA)\n",
    "    pcaSetup = None;\n",
    "    if (numPCs > 0):\n",
    "        pcaSetup = decomposition.PCA(n_components=numPCs);\n",
    "        pcaSetup.fit(Xz);\n",
    "        Xz = pcaSetup.transform(Xz)\n",
    "        \n",
    "    clf = svm.SVC(probability=True);\n",
    "    clf.fit(Xz, y);\n",
    "\n",
    "    return [clf, pcaSetup];"
   ]
  },
  {
   "cell_type": "code",
   "execution_count": 5,
   "metadata": {},
   "outputs": [],
   "source": [
    "inclDiffLevels = [1, 4]; #The task is only to distinguish between difficulty levels 1 and 4.\n",
    "numPCs = 0;\n",
    "[clf, pcaSetup_diffLevels] = trainDiffPredictionModel(trainDF, inclDiffLevels, featCols, numPCs); #fitting a simple SVM model to the training data"
   ]
  },
  {
   "cell_type": "markdown",
   "metadata": {},
   "source": [
    "### Assess difficulty level classification model performance by running it on the validation set\n",
    "\n",
    "To validate the Difficulty Level classification model, we compute a Receiver Operating Characteristic (ROC) curve that shows the tradeoff between True Positive Rate and False Positive Rate. This is done using the confidence probabilities for each difficulty level that the model assigns to each validation run. The area under this curve (AUC) is metric that is commonly used to quantify predictive model performance with a single number. "
   ]
  },
  {
   "cell_type": "code",
   "execution_count": 6,
   "metadata": {},
   "outputs": [],
   "source": [
    "def validateDiffPredictionModel(valMatDF, pcaSetup, inclDiffLevels, featCols, clf, outDir):\n",
    "\n",
    "    subValMatDF = valMatDF.loc[valMatDF['difficulty'].isin(inclDiffLevels)];\n",
    "\n",
    "    n_classes = len(inclDiffLevels);\n",
    "    \n",
    "    X = subValMatDF[featCols];\n",
    "    Xz = zscore(X);\n",
    "    if (pcaSetup is not None):\n",
    "        Xz = pcaSetup.transform(Xz);\n",
    "    y_actual = subValMatDF['difficulty'].values;\n",
    "    y_pred = clf.predict(Xz);\n",
    "    \n",
    "    probas = clf.predict_proba(Xz);\n",
    "    \n",
    "    fpr = dict()\n",
    "    tpr = dict()\n",
    "    roc_auc = dict()\n",
    "    print(\"Actual = \"+str(y_actual));\n",
    "    print(\"Predicted = \"+str(y_pred));\n",
    "    print(\"Model's Confidence Probabilities = \"+str(probas));\n",
    "    fpr, tpr, _ = roc_curve(y_actual, probas[:,0], pos_label=inclDiffLevels[0]);\n",
    "    roc_auc = auc(fpr, tpr);\n",
    "\n",
    "    plt.figure(figsize=(5,5));\n",
    "    \n",
    "    plt.plot(fpr, tpr, lw=2);\n",
    "    \n",
    "    plt.xlim([-0.05, 1.05]);\n",
    "    plt.ylim([-0.05, 1.05]);\n",
    "    plt.xlabel('False Positive Rate')\n",
    "    plt.ylabel('True Positive Rate')\n",
    "    plt.title('ROC Curve for Validation Set. AUC = '+str(roc_auc));\n",
    "    plt.savefig(outDir+os.path.sep+'valDiffLevelROC.png', format='png');\n",
    "    plt.show();"
   ]
  },
  {
   "cell_type": "code",
   "execution_count": 7,
   "metadata": {},
   "outputs": [
    {
     "name": "stdout",
     "output_type": "stream",
     "text": [
      "Actual = [1 1 1 4 4 4 1 1 1 4 4 4 1 1 1 4 4 4 1 1 1 4 4 4 1 1 1 4 4 4 1 1 4 4 4 1 1\n",
      " 1 4 4 4 1 1 1 4 4 4]\n",
      "Predicted = [1 4 1 4 1 1 4 4 4 4 4 4 4 1 1 4 4 4 1 1 4 4 4 4 4 4 4 4 4 4 1 1 1 1 1 1 1\n",
      " 1 4 4 1 1 1 1 4 4 1]\n",
      "Model's Confidence Probabilities = [[0.88650101 0.11349899]\n",
      " [0.49338545 0.50661455]\n",
      " [0.86728635 0.13271365]\n",
      " [0.48951283 0.51048717]\n",
      " [0.76951607 0.23048393]\n",
      " [0.77737636 0.22262364]\n",
      " [0.32159324 0.67840676]\n",
      " [0.39683164 0.60316836]\n",
      " [0.09196454 0.90803546]\n",
      " [0.12316794 0.87683206]\n",
      " [0.09726153 0.90273847]\n",
      " [0.05560815 0.94439185]\n",
      " [0.41667371 0.58332629]\n",
      " [0.7151149  0.2848851 ]\n",
      " [0.61678595 0.38321405]\n",
      " [0.21338874 0.78661126]\n",
      " [0.28412142 0.71587858]\n",
      " [0.25785982 0.74214018]\n",
      " [0.52254347 0.47745653]\n",
      " [0.51606166 0.48393834]\n",
      " [0.40312902 0.59687098]\n",
      " [0.13475554 0.86524446]\n",
      " [0.14517253 0.85482747]\n",
      " [0.2572805  0.7427195 ]\n",
      " [0.08446539 0.91553461]\n",
      " [0.16200719 0.83799281]\n",
      " [0.45014196 0.54985804]\n",
      " [0.28142655 0.71857345]\n",
      " [0.11696578 0.88303422]\n",
      " [0.38488058 0.61511942]\n",
      " [0.88501374 0.11498626]\n",
      " [0.64588286 0.35411714]\n",
      " [0.65958434 0.34041566]\n",
      " [0.8635438  0.1364562 ]\n",
      " [0.72981734 0.27018266]\n",
      " [0.93142015 0.06857985]\n",
      " [0.59331202 0.40668798]\n",
      " [0.71032633 0.28967367]\n",
      " [0.38394523 0.61605477]\n",
      " [0.42264496 0.57735504]\n",
      " [0.52497272 0.47502728]\n",
      " [0.64358557 0.35641443]\n",
      " [0.82368792 0.17631208]\n",
      " [0.67074098 0.32925902]\n",
      " [0.09151118 0.90848882]\n",
      " [0.17791344 0.82208656]\n",
      " [0.52455048 0.47544952]]\n"
     ]
    },
    {
     "data": {
      "image/png": "[encoded data removed]",
      "text/plain": [
       "<Figure size 360x360 with 1 Axes>"
      ]
     },
     "metadata": {
      "needs_background": "light"
     },
     "output_type": "display_data"
    }
   ],
   "source": [
    "validateDiffPredictionModel(valDF, pcaSetup_diffLevels, inclDiffLevels, featCols, clf, modelDirDev);\n"
   ]
  },
  {
   "cell_type": "markdown",
   "metadata": {},
   "source": [
    "### Train a simple predictive model for performance error\n",
    "\n",
    "For prediction of performance error, here is a starter model using simple Linear Regression. "
   ]
  },
  {
   "cell_type": "code",
   "execution_count": 8,
   "metadata": {},
   "outputs": [],
   "source": [
    "def trainPerfErrPredictionModel(trainMatDF, featCols, numPCs):\n",
    "\n",
    "    subTrainMatDF = trainMatDF;\n",
    "    \n",
    "    X = subTrainMatDF[featCols];\n",
    "    y = subTrainMatDF[\"cumulative_total_error\"];\n",
    "\n",
    "    Xz = zscore(X);\n",
    "    \n",
    "    #If desired, reduce dimensionality using Principal Components Analysis (PCA)\n",
    "    pcaSetup = None;\n",
    "    if (numPCs > 0):\n",
    "        pcaSetup = decomposition.PCA(n_components=numPCs);\n",
    "        pcaSetup.fit(Xz);\n",
    "        Xz = pcaSetup.transform(Xz)\n",
    "        \n",
    "    mdl = LinearRegression().fit(Xz, y);\n",
    "\n",
    "    return [mdl, pcaSetup];"
   ]
  },
  {
   "cell_type": "code",
   "execution_count": 9,
   "metadata": {},
   "outputs": [],
   "source": [
    "numPCs = 2;\n",
    "[reg, pcaSetup_perfErr] = trainPerfErrPredictionModel(trainDF, featCols, numPCs);"
   ]
  },
  {
   "cell_type": "markdown",
   "metadata": {},
   "source": [
    "### Assess performance error prediction model by running it on the validation set\n",
    "\n",
    "Due to the numerical nature of performance error, we assess model performance using Mean Squared Error between predicted and actual. It can also be useful to plot Predicted vs. Actual values for a visual perspective. "
   ]
  },
  {
   "cell_type": "code",
   "execution_count": 10,
   "metadata": {},
   "outputs": [],
   "source": [
    "#Performs validation of the trained performance error prediction model by computing mean squared error of predicted vs. actual Cumulative_Error values.\n",
    "def validatePerfErrPredictionModel(valMatDF, pcaSetup, featCols, mdl, outDir):\n",
    "    subValMatDF = valMatDF;\n",
    "    \n",
    "    X = subValMatDF[featCols];\n",
    "    Xz = zscore(X);   \n",
    "    if (pcaSetup is not None):\n",
    "        Xz = pcaSetup.transform(Xz);\n",
    "        \n",
    "    y = subValMatDF['cumulative_total_error'];\n",
    "\n",
    "    y_pred = mdl.predict(Xz);\n",
    "\n",
    "    mse = mean_squared_error(y, y_pred);\n",
    "    pearsonCorr = scistats.pearsonr(y, y_pred);\n",
    "    [spCorr, spPval] = scistats.spearmanr(y, y_pred);\n",
    "    \n",
    "    plt.scatter(y, y_pred);\n",
    "    lims = [min(min(y), min(y_pred)), max(max(y), max(y_pred))];\n",
    "    plt.xlim(lims);\n",
    "    plt.ylim(lims);\n",
    "    plt.xlabel('Actual');\n",
    "    plt.ylabel('Predicted');\n",
    "    plt.title('Total Flight Error: Predicted vs. Actual\\n MSE = '+\n",
    "              str(mse)+\"\\nPearson Correlation: \"+str(pearsonCorr)+\n",
    "              \"\\nSpearman Correlation: (\"+str(spCorr)+\", \"+str(spPval)+\")\");\n",
    "    plt.savefig(outDir+os.path.sep+'valPerfErr_pred2actual.png', format='png');"
   ]
  },
  {
   "cell_type": "code",
   "execution_count": 11,
   "metadata": {},
   "outputs": [
    {
     "data": {
      "image/png": "[encoded data removed]",
      "text/plain": [
       "<Figure size 432x288 with 1 Axes>"
      ]
     },
     "metadata": {
      "needs_background": "light"
     },
     "output_type": "display_data"
    }
   ],
   "source": [
    "validatePerfErrPredictionModel(valDF, pcaSetup_perfErr, featCols, reg, modelDirDev);"
   ]
  },
  {
   "cell_type": "markdown",
   "metadata": {},
   "source": [
    "Research was sponsored by the United States Air Force Research Laboratory and the United States Air Force Artificial Intelligence Accelerator and was accomplished under Cooperative Agreement Number FA8750-19-2-1000. The views and conclusions contained in this document are those of the authors and should not be interpreted as representing the official policies, either expressed or implied, of the United States Air Force or the U.S. Government. The U.S. Government is authorized to reproduce and distribute reprints for Government purposes notwithstanding any copyright notation herein."
   ]
  }
 ],
 "metadata": {
  "kernelspec": {
   "display_name": "Python 3",
   "language": "python",
   "name": "python3"
  },
  "language_info": {
   "codemirror_mode": {
    "name": "ipython",
    "version": 3
   },
   "file_extension": ".py",
   "mimetype": "text/x-python",
   "name": "python",
   "nbconvert_exporter": "python",
   "pygments_lexer": "ipython3",
   "version": "3.7.3"
  }
 },
 "nbformat": 4,
 "nbformat_minor": 4
}
