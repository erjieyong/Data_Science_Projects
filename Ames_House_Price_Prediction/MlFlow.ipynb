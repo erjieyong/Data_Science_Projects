{
 "cells": [
  {
   "cell_type": "code",
   "execution_count": null,
   "id": "197b2db0-9413-49c1-bec0-212201be0320",
   "metadata": {},
   "outputs": [],
   "source": [
    "# Start the MLFlow UI\n",
    "! mlflow ui --backend-store-uri sqlite:///mlflow.db --port 5000"
   ]
  },
  {
   "cell_type": "code",
   "execution_count": 2,
   "id": "77a8a1f8-bac1-4820-b0e8-6235ce2990fc",
   "metadata": {},
   "outputs": [
    {
     "data": {
      "text/plain": [
       "'1.29.0'"
      ]
     },
     "execution_count": 2,
     "metadata": {},
     "output_type": "execute_result"
    }
   ],
   "source": [
    "import mlflow\n",
    "mlflow.__version__"
   ]
  }
 ],
 "metadata": {
  "kernelspec": {
   "display_name": "Python 3 (ipykernel)",
   "language": "python",
   "name": "python3"
  },
  "language_info": {
   "codemirror_mode": {
    "name": "ipython",
    "version": 3
   },
   "file_extension": ".py",
   "mimetype": "text/x-python",
   "name": "python",
   "nbconvert_exporter": "python",
   "pygments_lexer": "ipython3",
   "version": "3.8.13"
  }
 },
 "nbformat": 4,
 "nbformat_minor": 5
}
